{
 "cells": [
  {
   "cell_type": "code",
   "execution_count": null,
   "metadata": {},
   "outputs": [],
   "source": [
    "#1\n",
    "\n",
    "class Sales:\n",
    "    def __init__(self, id):\n",
    "        self.id = id\n",
    "        id = 100\n",
    "\n",
    "val = Sales(123)\n",
    "print (val.id)"
   ]
  },
  {
   "cell_type": "code",
   "execution_count": null,
   "metadata": {},
   "outputs": [],
   "source": [
    "#2\n",
    "\n",
    "class Person:\n",
    "    def __init__(self, id):\n",
    "        self.id = id\n",
    "\n",
    "sam = Person(100)\n",
    "\n",
    "sam.__dict__['age'] = 49\n",
    "\n",
    "print (sam.age + len(sam.__dict__))"
   ]
  },
  {
   "cell_type": "code",
   "execution_count": null,
   "metadata": {},
   "outputs": [],
   "source": [
    "#3\n",
    "\n",
    "class A:\n",
    "    def __init__(self, i = 0):\n",
    "        self.i = i\n",
    "\n",
    "class B(A):\n",
    "    def __init__(self, j = 0):\n",
    "        self.j = j\n",
    "\n",
    "def main():\n",
    "    b = B()\n",
    "    print(b.i)\n",
    "    print(b.j)\n",
    "\n",
    "main()"
   ]
  },
  {
   "cell_type": "code",
   "execution_count": null,
   "metadata": {},
   "outputs": [],
   "source": [
    "#4\n",
    "\n",
    "class A:\n",
    "    def __init__(self):\n",
    "        self.calcI(30)\n",
    "        print(\"i from A is\", self.i)\n",
    "\n",
    "    def calcI(self, i):\n",
    "        self.i = 2 * i;\n",
    "\n",
    "class B(A):\n",
    "    def __init__(self):\n",
    "        super().__init__()\n",
    "        \n",
    "    def calcI(self, i):\n",
    "        self.i = 3 * i;\n",
    "\n",
    "b = B()"
   ]
  },
  {
   "cell_type": "code",
   "execution_count": null,
   "metadata": {},
   "outputs": [],
   "source": [
    "#5\n",
    "\n",
    "class A:\n",
    "    def __init__(self):\n",
    "        self.calcI(30)\n",
    "        \n",
    "    def calcI(self, i):\n",
    "        self.i = 2 * i;\n",
    "\n",
    "class B(A):\n",
    "    def __init__(self):\n",
    "        super().__init__()\n",
    "        print(\"i from B is\", self.i)\n",
    "        \n",
    "    def calcI(self, i):\n",
    "        self.i = 3 * i;\n",
    "\n",
    "b = B()"
   ]
  },
  {
   "cell_type": "code",
   "execution_count": null,
   "metadata": {},
   "outputs": [],
   "source": [
    "#6\n",
    "\n",
    "\n",
    "class Dog:\n",
    "    \n",
    "    animal = 'dog'\n",
    "    def __init__(self, breed):\n",
    "        self.breed = breed\n",
    "\n",
    "    def setColor(self, color):\n",
    "        self.color = color\n",
    "    \n",
    "    def getColor(self):\n",
    "        return self.color\n",
    "\n",
    "Rodger = Dog(\"pug\")\n",
    "Rodger.setColor(\"brown\")\n",
    "print(Rodger.getColor())"
   ]
  },
  {
   "cell_type": "code",
   "execution_count": null,
   "metadata": {},
   "outputs": [],
   "source": [
    "class Vehicle:\n",
    "    def __init__(self, brand, model, type):\n",
    "        self.brand = brand\n",
    "        self.model = model\n",
    "        self.type = type\n",
    "        self.gas_tank_size = 14\n",
    "        self.fuel_level = 0\n",
    "\n",
    "    def fuel_up(self):\n",
    "        self.fuel_level = self.gas_tank_size\n",
    "        print('Gas tank is now full.')\n",
    "\n",
    "    def drive(self):\n",
    "        print(f'The {self.model} is now driving.')\n"
   ]
  },
  {
   "cell_type": "code",
   "execution_count": null,
   "metadata": {},
   "outputs": [],
   "source": [
    "vehicle_object = Vehicle('Honda', 'Ridgeline', 'Truck')"
   ]
  },
  {
   "cell_type": "code",
   "execution_count": null,
   "metadata": {},
   "outputs": [],
   "source": [
    "print(vehicle_object.brand)\n",
    "print(vehicle_object.model)\n",
    "print(vehicle_object.type)"
   ]
  },
  {
   "cell_type": "code",
   "execution_count": null,
   "metadata": {},
   "outputs": [],
   "source": [
    "vehicle_object.fuel_up()\n",
    "vehicle_object.drive()"
   ]
  },
  {
   "cell_type": "code",
   "execution_count": null,
   "metadata": {},
   "outputs": [],
   "source": [
    "vehicle_object = Vehicle('Honda', 'Ridgeline', 'Truck')\n",
    "a_subaru = Vehicle('Subaru', 'Forester', 'Crossover')\n",
    "an_suv = Vehicle('Ford', 'Explorer', 'SUV')"
   ]
  },
  {
   "cell_type": "code",
   "execution_count": null,
   "metadata": {},
   "outputs": [],
   "source": [
    "cool_new_vehicle = Vehicle('Honda', 'Ridgeline', 'Truck')\n",
    "cool_new_vehicle.fuel_level = 7"
   ]
  },
  {
   "cell_type": "code",
   "execution_count": null,
   "metadata": {},
   "outputs": [],
   "source": [
    "class Vehicle:\n",
    "    def __init__(self, brand, model, type):\n",
    "        self.brand = brand\n",
    "        self.model = model\n",
    "        self.type = type\n",
    "        self.gas_tank_size = 14\n",
    "        self.fuel_level = 0\n",
    "\n",
    "    def fuel_up(self):\n",
    "        self.fuel_level = self.gas_tank_size\n",
    "        print('Gas tank is now full.')\n",
    "\n",
    "    def drive(self):\n",
    "        print(f'The {self.model} is now driving.')\n",
    "\n",
    "    def update_fuel_level(self, new_level):\n",
    "        if new_level <= self.gas_tank_size:\n",
    "            self.fuel_level = new_level\n",
    "        else:\n",
    "            print('Exceeded capacity')\n",
    "            \n",
    "    def get_gas(self, amount):\n",
    "        if (self.fuel_level + amount <= self.gas_tank_size):\n",
    "            self.fuel_level += amount\n",
    "            print('Added fuel.')\n",
    "        else:\n",
    "            print('The tank wont hold that much.')"
   ]
  },
  {
   "cell_type": "code",
   "execution_count": null,
   "metadata": {},
   "outputs": [],
   "source": [
    "class ElectricVehicle(Vehicle):\n",
    "    def __init__(self, brand, model, type):\n",
    "        super().__init__(brand, model, type)\n",
    "        self.battery_size = 85\n",
    "        self.charge_level = 0"
   ]
  },
  {
   "cell_type": "code",
   "execution_count": null,
   "metadata": {},
   "outputs": [],
   "source": [
    "class ElectricVehicle(Vehicle):\n",
    "    def __init__(self, brand, model, type):\n",
    "        super().__init__(brand, model, type)\n",
    "        self.battery_size = 85\n",
    "        self.charge_level = 0\n",
    "\n",
    "    def charge(self):\n",
    "        self.charge_level = 100\n",
    "        print('The vehicle is now charged.')\n",
    "\n",
    "    def fuel_up(self):\n",
    "        print('This vehicle has no fuel tank!')"
   ]
  },
  {
   "cell_type": "code",
   "execution_count": null,
   "metadata": {},
   "outputs": [],
   "source": [
    "electric_vehicle = ElectricVehicle('Tesla', 'Model 3', 'Car')\n",
    "electric_vehicle.charge()\n",
    "electric_vehicle.drive()"
   ]
  },
  {
   "cell_type": "code",
   "execution_count": null,
   "metadata": {},
   "outputs": [],
   "source": [
    "class ElectricVehicle(Vehicle):\n",
    "    def __init__(self, brand, model, type):\n",
    "        super().__init__(brand, model, type)\n",
    "        self.battery_size = 85\n",
    "        self.charge_level = 0\n",
    "\n",
    "    def charge(self):\n",
    "        self.charge_level = 100\n",
    "        print('The vehicle is now charged.')\n",
    "\n",
    "    def fuel_up(self):\n",
    "        print('This vehicle has no fuel tank!')"
   ]
  },
  {
   "cell_type": "code",
   "execution_count": null,
   "metadata": {},
   "outputs": [],
   "source": [
    "class Battery:\n",
    "    def __init__(self, size=85):\n",
    "        self.size = size\n",
    "        self.charge_level = 0\n",
    "\n",
    "    def get_range(self):\n",
    "        if self.size == 85:\n",
    "            return 260\n",
    "        elif self.size == 100:\n",
    "            return 315"
   ]
  },
  {
   "cell_type": "code",
   "execution_count": null,
   "metadata": {},
   "outputs": [],
   "source": [
    "class ElectricVehicle(Vehicle):\n",
    "    def __init__(self, brand, model, type):\n",
    "        super().__init__(brand, model, type)\n",
    "        self.battery = Battery()\n",
    "\n",
    "    def charge(self):\n",
    "        self.battery.charge_level = 100\n",
    "\n",
    "    print('The vehicle is fully charged.')\n",
    " "
   ]
  },
  {
   "cell_type": "code",
   "execution_count": null,
   "metadata": {},
   "outputs": [],
   "source": [
    "electric_vehicle = ElectricVehicle('Tesla', 'CyberTruck', 'Truck')\n",
    "electric_vehicle.charge()\n",
    "print(electric_vehicle.battery.get_range())\n",
    "electric_vehicle.drive()"
   ]
  },
  {
   "cell_type": "code",
   "execution_count": null,
   "metadata": {},
   "outputs": [],
   "source": [
    "from vehicle import Vehicle, ElectricVehicle\n",
    "a_mini = Vehicle('Cooper', 'Mini', 'Car')\n",
    "a_mini.fuel_up()\n",
    "a_mini.drive()\n",
    "a_tesla = ElectricVehicle('Tesla', 'Model 3', 'Car')\n",
    "a_tesla.charge()\n",
    "a_tesla.drive()"
   ]
  },
  {
   "cell_type": "code",
   "execution_count": null,
   "metadata": {},
   "outputs": [],
   "source": [
    "def divide(x, y):\n",
    "\ttry:\n",
    "\t\tresult = x // y\n",
    "\t\tprint(\"Yeah ! Your answer is :\", result)\n",
    "\texcept ZeroDivisionError:\n",
    "\t\tprint(\"Sorry ! You are dividing by zero \")"
   ]
  },
  {
   "cell_type": "code",
   "execution_count": null,
   "metadata": {},
   "outputs": [],
   "source": [
    "divide(3, 2)"
   ]
  },
  {
   "cell_type": "code",
   "execution_count": null,
   "metadata": {},
   "outputs": [],
   "source": [
    "divide(10,0)"
   ]
  },
  {
   "cell_type": "code",
   "execution_count": null,
   "metadata": {},
   "outputs": [],
   "source": [
    "n = 10\n",
    "try:\n",
    "    print(n,end=\"\")\n",
    "    print(\"!\",end=\"\")\n",
    "except:\n",
    "    print(\"!\")"
   ]
  },
  {
   "cell_type": "code",
   "execution_count": null,
   "metadata": {},
   "outputs": [],
   "source": [
    "name = \"Python\"\n",
    "try:\n",
    "    print(Name,end=\"\")\n",
    "\n",
    "except:\n",
    "    print(\"Exception!\",end=\"\")"
   ]
  },
  {
   "cell_type": "code",
   "execution_count": null,
   "metadata": {},
   "outputs": [],
   "source": [
    "try:\n",
    "    print([1,2,3,4][4])\n",
    "\n",
    "except Exception as ex:\n",
    "    print(ex)"
   ]
  },
  {
   "cell_type": "code",
   "execution_count": null,
   "metadata": {},
   "outputs": [],
   "source": [
    "try:\n",
    "    name = Python\n",
    "\n",
    "except SyntaxError:\n",
    "    print(\"E1\")\n",
    "\n",
    "except NameError:\n",
    "    print(\"E2\")"
   ]
  },
  {
   "cell_type": "code",
   "execution_count": null,
   "metadata": {},
   "outputs": [],
   "source": [
    "#The assert keyword is used when debugging code.\n",
    "# The assert keyword lets you test if a condition in your code returns True, if not, the program will raise an AssertionError.\n",
    "\n",
    "try:\n",
    "    n=0\n",
    "    assert n>0\n",
    "    raise\n",
    "\n",
    "except:\n",
    "    print(\"Exception\")"
   ]
  },
  {
   "cell_type": "code",
   "execution_count": null,
   "metadata": {},
   "outputs": [],
   "source": [
    "assert False"
   ]
  }
 ],
 "metadata": {
  "kernelspec": {
   "display_name": "Python 3.10.8 64-bit (microsoft store)",
   "language": "python",
   "name": "python3"
  },
  "language_info": {
   "codemirror_mode": {
    "name": "ipython",
    "version": 3
   },
   "file_extension": ".py",
   "mimetype": "text/x-python",
   "name": "python",
   "nbconvert_exporter": "python",
   "pygments_lexer": "ipython3",
   "version": "3.10.8"
  },
  "orig_nbformat": 4,
  "vscode": {
   "interpreter": {
    "hash": "8d1bd73bfb4744d3c7f252b64f9c1c7340ecbf0c7bcf80f3d812548c48fc583a"
   }
  }
 },
 "nbformat": 4,
 "nbformat_minor": 2
}
