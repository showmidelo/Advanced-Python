{
 "cells": [
  {
   "cell_type": "code",
   "execution_count": 43,
   "metadata": {},
   "outputs": [
    {
     "name": "stdout",
     "output_type": "stream",
     "text": [
      "123\n"
     ]
    }
   ],
   "source": [
    "#1\n",
    "\n",
    "class Sales:\n",
    "    def __init__(self, id):\n",
    "        self.id = id\n",
    "\n",
    "val = Sales(123)\n",
    "print (val.id)"
   ]
  },
  {
   "cell_type": "code",
   "execution_count": 44,
   "metadata": {},
   "outputs": [
    {
     "name": "stdout",
     "output_type": "stream",
     "text": [
      "51\n"
     ]
    }
   ],
   "source": [
    "#2\n",
    "\n",
    "class Person:\n",
    "    def __init__(self, id):\n",
    "        self.id = id\n",
    "\n",
    "sam = Person(123456789)\n",
    "\n",
    "sam.__dict__['age'] = 49\n",
    "\n",
    "print (sam.age + len(sam.__dict__))"
   ]
  },
  {
   "cell_type": "code",
   "execution_count": 91,
   "metadata": {},
   "outputs": [
    {
     "name": "stdout",
     "output_type": "stream",
     "text": [
      "0\n",
      "0\n"
     ]
    }
   ],
   "source": [
    "#3\n",
    "\n",
    "class A:\n",
    "    def __init__(self, i = 0):\n",
    "        self.i = i\n",
    "\n",
    "class B(A):\n",
    "    def __init__(self, j = 0):\n",
    "        self.j = j\n",
    "        super().__init__()\n",
    "\n",
    "def main():\n",
    "    b = B()\n",
    "    print(b.i)\n",
    "    print(b.j)\n",
    "\n",
    "main()"
   ]
  },
  {
   "cell_type": "code",
   "execution_count": 47,
   "metadata": {},
   "outputs": [
    {
     "name": "stdout",
     "output_type": "stream",
     "text": [
      "i from A is 90\n"
     ]
    }
   ],
   "source": [
    "#4\n",
    "\n",
    "class A:\n",
    "    def __init__(self):\n",
    "        self.calcI(30)\n",
    "        print(\"i from A is\", self.i)\n",
    "\n",
    "    def calcI(self, i):\n",
    "        self.i = 2 * i\n",
    "\n",
    "class B(A):\n",
    "    def __init__(self):\n",
    "        super().__init__()\n",
    "        \n",
    "    def calcI(self, i):\n",
    "        self.i = 3 * i\n",
    "\n",
    "b = B()"
   ]
  },
  {
   "cell_type": "code",
   "execution_count": 48,
   "metadata": {},
   "outputs": [
    {
     "name": "stdout",
     "output_type": "stream",
     "text": [
      "i from B is 90\n"
     ]
    }
   ],
   "source": [
    "#5\n",
    "\n",
    "class A:\n",
    "    def __init__(self):\n",
    "        self.calcI(30)\n",
    "        \n",
    "    def calcI(self, i):\n",
    "        self.i = 2 * i;\n",
    "\n",
    "class B(A):\n",
    "    def __init__(self):\n",
    "        super().__init__()\n",
    "        print(\"i from B is\", self.i)\n",
    "        \n",
    "    def calcI(self, i):\n",
    "        self.i = 3 * i;\n",
    "\n",
    "b = B()"
   ]
  },
  {
   "cell_type": "code",
   "execution_count": 49,
   "metadata": {},
   "outputs": [
    {
     "name": "stdout",
     "output_type": "stream",
     "text": [
      "brown\n"
     ]
    }
   ],
   "source": [
    "#6\n",
    "\n",
    "\n",
    "class Dog:\n",
    "    \n",
    "    animal = 'dog'\n",
    "    def __init__(self, breed):\n",
    "        self.breed = breed\n",
    "\n",
    "    def setColor(self, color):\n",
    "        self.color = color\n",
    "    \n",
    "    def getColor(self):\n",
    "        return self.color\n",
    "\n",
    "Rodger = Dog(\"pug\")\n",
    "Rodger.setColor(\"brown\")\n",
    "print(Rodger.getColor())"
   ]
  },
  {
   "cell_type": "code",
   "execution_count": 50,
   "metadata": {},
   "outputs": [],
   "source": [
    "class Vehicle:\n",
    "    def __init__(self, brand, model, type):\n",
    "        self.brand = brand\n",
    "        self.model = model\n",
    "        self.type = type\n",
    "        self.gas_tank_size = 14\n",
    "        self.fuel_level = 0\n",
    "\n",
    "    def fuel_up(self):\n",
    "        self.fuel_level = self.gas_tank_size\n",
    "        print('Gas tank is now full.')\n",
    "\n",
    "    def drive(self):\n",
    "        print(f'The {self.model} is now driving.')\n"
   ]
  },
  {
   "cell_type": "code",
   "execution_count": 51,
   "metadata": {},
   "outputs": [],
   "source": [
    "vehicle_object = Vehicle('Honda', 'Ridgeline', 'Truck')"
   ]
  },
  {
   "cell_type": "code",
   "execution_count": 52,
   "metadata": {},
   "outputs": [
    {
     "name": "stdout",
     "output_type": "stream",
     "text": [
      "Honda\n",
      "Ridgeline\n",
      "Truck\n"
     ]
    }
   ],
   "source": [
    "print(vehicle_object.brand)\n",
    "print(vehicle_object.model)\n",
    "print(vehicle_object.type)"
   ]
  },
  {
   "cell_type": "code",
   "execution_count": 53,
   "metadata": {},
   "outputs": [
    {
     "name": "stdout",
     "output_type": "stream",
     "text": [
      "0\n"
     ]
    }
   ],
   "source": [
    "print(vehicle_object.fuel_level)"
   ]
  },
  {
   "cell_type": "code",
   "execution_count": 54,
   "metadata": {},
   "outputs": [
    {
     "name": "stdout",
     "output_type": "stream",
     "text": [
      "Gas tank is now full.\n",
      "14\n",
      "The Ridgeline is now driving.\n"
     ]
    }
   ],
   "source": [
    "vehicle_object.fuel_up()\n",
    "print(vehicle_object.fuel_level)\n",
    "vehicle_object.drive()"
   ]
  },
  {
   "cell_type": "code",
   "execution_count": 55,
   "metadata": {},
   "outputs": [],
   "source": [
    "vehicle_object = Vehicle('Honda', 'Ridgeline', 'Truck')\n",
    "a_subaru = Vehicle('Subaru', 'Forester', 'Crossover')\n",
    "an_suv = Vehicle('Ford', 'Explorer', 'SUV')"
   ]
  },
  {
   "cell_type": "code",
   "execution_count": 56,
   "metadata": {},
   "outputs": [],
   "source": [
    "cool_new_vehicle = Vehicle('Honda', 'Ridgeline', 'Truck')\n",
    "cool_new_vehicle.fuel_level = 7"
   ]
  },
  {
   "cell_type": "code",
   "execution_count": 57,
   "metadata": {},
   "outputs": [],
   "source": [
    "class Vehicle:\n",
    "    def __init__(self, brand, model, type):\n",
    "        self.brand = brand\n",
    "        self.model = model\n",
    "        self.type = type\n",
    "        self.gas_tank_size = 14\n",
    "        self.fuel_level = 0\n",
    "\n",
    "    def fuel_up(self):\n",
    "        self.fuel_level = self.gas_tank_size\n",
    "        print('Gas tank is now full.')\n",
    "\n",
    "    def drive(self):\n",
    "        print(f'The {self.model} is now driving.')\n",
    "\n",
    "    def update_fuel_level(self, new_level):\n",
    "        if new_level <= self.gas_tank_size:\n",
    "            self.fuel_level = new_level\n",
    "        else:\n",
    "            print('Exceeded capacity')\n",
    "            \n",
    "    def get_gas(self, amount):\n",
    "        if (self.fuel_level + amount <= self.gas_tank_size):\n",
    "            self.fuel_level += amount\n",
    "            print('Added fuel.')\n",
    "        else:\n",
    "            print('The tank wont hold that much.')"
   ]
  },
  {
   "cell_type": "code",
   "execution_count": 58,
   "metadata": {},
   "outputs": [],
   "source": [
    "class ElectricVehicle(Vehicle):\n",
    "    def __init__(self, brand, model, type):\n",
    "        super().__init__(brand, model, type)\n",
    "        self.battery_size = 85\n",
    "        self.charge_level = 0"
   ]
  },
  {
   "cell_type": "code",
   "execution_count": 59,
   "metadata": {},
   "outputs": [],
   "source": [
    "class ElectricVehicle(Vehicle):\n",
    "    def __init__(self, brand, model, type):\n",
    "        super().__init__(brand, model, type)\n",
    "        self.battery_size = 85\n",
    "        self.charge_level = 0\n",
    "\n",
    "    def charge(self):\n",
    "        self.charge_level = 100\n",
    "        print('The vehicle is now charged.')\n",
    "\n",
    "    def fuel_up(self):\n",
    "        print('This vehicle has no fuel tank!')"
   ]
  },
  {
   "cell_type": "code",
   "execution_count": 60,
   "metadata": {},
   "outputs": [
    {
     "name": "stdout",
     "output_type": "stream",
     "text": [
      "The vehicle is now charged.\n",
      "The Model 3 is now driving.\n"
     ]
    }
   ],
   "source": [
    "electric_vehicle = ElectricVehicle('Tesla', 'Model 3', 'Car')\n",
    "electric_vehicle.charge()\n",
    "electric_vehicle.drive()"
   ]
  },
  {
   "cell_type": "code",
   "execution_count": 61,
   "metadata": {},
   "outputs": [],
   "source": [
    "class Battery:\n",
    "    def __init__(self, size=85):\n",
    "        self.size = size\n",
    "        self.charge_level = 0\n",
    "\n",
    "    def get_range(self):\n",
    "        if self.size == 85:\n",
    "            return 260\n",
    "        elif self.size == 100:\n",
    "            return 315"
   ]
  },
  {
   "cell_type": "code",
   "execution_count": 62,
   "metadata": {},
   "outputs": [
    {
     "name": "stdout",
     "output_type": "stream",
     "text": [
      "The vehicle is fully charged.\n"
     ]
    }
   ],
   "source": [
    "class ElectricVehicle(Vehicle):\n",
    "    def __init__(self, brand, model, type):\n",
    "        super().__init__(brand, model, type)\n",
    "        self.battery = Battery()\n",
    "\n",
    "    def charge(self):\n",
    "        self.battery.charge_level = 100\n",
    "\n",
    "    print('The vehicle is fully charged.')\n",
    " "
   ]
  },
  {
   "cell_type": "code",
   "execution_count": 64,
   "metadata": {},
   "outputs": [
    {
     "name": "stdout",
     "output_type": "stream",
     "text": [
      "260\n",
      "The CyberTruck is now driving.\n"
     ]
    }
   ],
   "source": [
    "electric_vehicle = ElectricVehicle('Tesla', 'CyberTruck', 'Truck')\n",
    "electric_vehicle.charge()\n",
    "\n",
    "print(electric_vehicle.battery.get_range())\n",
    "\n",
    "electric_vehicle.drive()"
   ]
  },
  {
   "cell_type": "code",
   "execution_count": 65,
   "metadata": {},
   "outputs": [
    {
     "name": "stdout",
     "output_type": "stream",
     "text": [
      "Gas tank is now full.\n",
      "The Mini is now driving.\n",
      "The Model 3 is now driving.\n"
     ]
    }
   ],
   "source": [
    "a_mini = Vehicle('Cooper', 'Mini', 'Car')\n",
    "a_mini.fuel_up()\n",
    "a_mini.drive()\n",
    "a_tesla = ElectricVehicle('Tesla', 'Model 3', 'Car')\n",
    "a_tesla.charge()\n",
    "a_tesla.drive()"
   ]
  },
  {
   "cell_type": "code",
   "execution_count": 66,
   "metadata": {},
   "outputs": [],
   "source": [
    "def divide(x, y):\n",
    "\ttry:\n",
    "\t\tresult = x // y\n",
    "\t\tprint(\"Yeah ! Your answer is :\", result)\n",
    "\texcept:\n",
    "\t\tprint(\"Sorry ! You are dividing by zero \")"
   ]
  },
  {
   "cell_type": "code",
   "execution_count": 67,
   "metadata": {},
   "outputs": [
    {
     "name": "stdout",
     "output_type": "stream",
     "text": [
      "Yeah ! Your answer is : 1\n"
     ]
    }
   ],
   "source": [
    "divide(3, 2)"
   ]
  },
  {
   "cell_type": "code",
   "execution_count": 68,
   "metadata": {},
   "outputs": [
    {
     "name": "stdout",
     "output_type": "stream",
     "text": [
      "Sorry ! You are dividing by zero \n"
     ]
    }
   ],
   "source": [
    "divide(10,0)"
   ]
  },
  {
   "cell_type": "code",
   "execution_count": 69,
   "metadata": {},
   "outputs": [
    {
     "name": "stdout",
     "output_type": "stream",
     "text": [
      "10!"
     ]
    }
   ],
   "source": [
    "n = 10\n",
    "try:\n",
    "    print(n,end=\"\")\n",
    "    print(\"!\",end=\"\")\n",
    "except:\n",
    "    print(\"!\")"
   ]
  },
  {
   "cell_type": "code",
   "execution_count": 72,
   "metadata": {},
   "outputs": [
    {
     "name": "stdout",
     "output_type": "stream",
     "text": [
      "Exception!"
     ]
    }
   ],
   "source": [
    "name = \"Python\"\n",
    "try:\n",
    "    print(Name,end=\"\")\n",
    "\n",
    "except:\n",
    "    print(\"Exception!\",end=\"\")"
   ]
  },
  {
   "cell_type": "code",
   "execution_count": 74,
   "metadata": {},
   "outputs": [
    {
     "ename": "IndexError",
     "evalue": "list index out of range",
     "output_type": "error",
     "traceback": [
      "\u001b[1;31m---------------------------------------------------------------------------\u001b[0m",
      "\u001b[1;31mIndexError\u001b[0m                                Traceback (most recent call last)",
      "Cell \u001b[1;32mIn [74], line 1\u001b[0m\n\u001b[1;32m----> 1\u001b[0m [\u001b[39m1\u001b[39;49m,\u001b[39m2\u001b[39;49m,\u001b[39m3\u001b[39;49m,\u001b[39m4\u001b[39;49m][\u001b[39m4\u001b[39;49m]\n",
      "\u001b[1;31mIndexError\u001b[0m: list index out of range"
     ]
    }
   ],
   "source": [
    "[1,2,3,4][4]"
   ]
  },
  {
   "cell_type": "code",
   "execution_count": 73,
   "metadata": {},
   "outputs": [
    {
     "name": "stdout",
     "output_type": "stream",
     "text": [
      "list index out of range\n"
     ]
    }
   ],
   "source": [
    "try:\n",
    "    print([1,2,3,4][4])\n",
    "\n",
    "except Exception as ex:\n",
    "    print(ex)"
   ]
  },
  {
   "cell_type": "code",
   "execution_count": 75,
   "metadata": {},
   "outputs": [
    {
     "ename": "NameError",
     "evalue": "name 'Python' is not defined",
     "output_type": "error",
     "traceback": [
      "\u001b[1;31m---------------------------------------------------------------------------\u001b[0m",
      "\u001b[1;31mNameError\u001b[0m                                 Traceback (most recent call last)",
      "Cell \u001b[1;32mIn [75], line 1\u001b[0m\n\u001b[1;32m----> 1\u001b[0m name \u001b[39m=\u001b[39m Python\n",
      "\u001b[1;31mNameError\u001b[0m: name 'Python' is not defined"
     ]
    }
   ],
   "source": [
    "name = Python"
   ]
  },
  {
   "cell_type": "code",
   "execution_count": 76,
   "metadata": {},
   "outputs": [
    {
     "name": "stdout",
     "output_type": "stream",
     "text": [
      "E2\n"
     ]
    }
   ],
   "source": [
    "try:\n",
    "    name = Python\n",
    "\n",
    "except SyntaxError:\n",
    "    print(\"E1\")\n",
    "\n",
    "except NameError:\n",
    "    print(\"E2\")"
   ]
  },
  {
   "cell_type": "code",
   "execution_count": 77,
   "metadata": {},
   "outputs": [
    {
     "ename": "AssertionError",
     "evalue": "",
     "output_type": "error",
     "traceback": [
      "\u001b[1;31m---------------------------------------------------------------------------\u001b[0m",
      "\u001b[1;31mAssertionError\u001b[0m                            Traceback (most recent call last)",
      "Cell \u001b[1;32mIn [77], line 2\u001b[0m\n\u001b[0;32m      1\u001b[0m n\u001b[39m=\u001b[39m\u001b[39m0\u001b[39m\n\u001b[1;32m----> 2\u001b[0m \u001b[39massert\u001b[39;00m n\u001b[39m>\u001b[39m\u001b[39m0\u001b[39m\n\u001b[0;32m      3\u001b[0m \u001b[39mraise\u001b[39;00m\n",
      "\u001b[1;31mAssertionError\u001b[0m: "
     ]
    }
   ],
   "source": [
    "n=0\n",
    "assert n>0\n",
    "raise"
   ]
  },
  {
   "cell_type": "code",
   "execution_count": 87,
   "metadata": {},
   "outputs": [],
   "source": [
    "n = 2\n",
    "assert n>0"
   ]
  },
  {
   "cell_type": "code",
   "execution_count": 83,
   "metadata": {},
   "outputs": [
    {
     "name": "stdout",
     "output_type": "stream",
     "text": [
      "\n"
     ]
    }
   ],
   "source": [
    "#The assert keyword is used when debugging code.\n",
    "# The assert keyword lets you test if a condition in your code returns True, if not, the program will raise an AssertionError.\n",
    "\n",
    "try:\n",
    "    n=0\n",
    "    assert n>0\n",
    "    raise\n",
    "\n",
    "except:\n",
    "    print(\"Exception\")"
   ]
  },
  {
   "cell_type": "code",
   "execution_count": 84,
   "metadata": {},
   "outputs": [
    {
     "ename": "AssertionError",
     "evalue": "",
     "output_type": "error",
     "traceback": [
      "\u001b[1;31m---------------------------------------------------------------------------\u001b[0m",
      "\u001b[1;31mAssertionError\u001b[0m                            Traceback (most recent call last)",
      "Cell \u001b[1;32mIn [84], line 1\u001b[0m\n\u001b[1;32m----> 1\u001b[0m \u001b[39massert\u001b[39;00m \u001b[39mFalse\u001b[39;00m\n",
      "\u001b[1;31mAssertionError\u001b[0m: "
     ]
    }
   ],
   "source": [
    "assert False"
   ]
  },
  {
   "cell_type": "code",
   "execution_count": 88,
   "metadata": {},
   "outputs": [
    {
     "ename": "AssertionError",
     "evalue": "Invalid Operation",
     "output_type": "error",
     "traceback": [
      "\u001b[1;31m---------------------------------------------------------------------------\u001b[0m",
      "\u001b[1;31mAssertionError\u001b[0m                            Traceback (most recent call last)",
      "Cell \u001b[1;32mIn [88], line 4\u001b[0m\n\u001b[0;32m      2\u001b[0m x \u001b[39m=\u001b[39m \u001b[39m1\u001b[39m\n\u001b[0;32m      3\u001b[0m y \u001b[39m=\u001b[39m \u001b[39m0\u001b[39m\n\u001b[1;32m----> 4\u001b[0m \u001b[39massert\u001b[39;00m y \u001b[39m!=\u001b[39m \u001b[39m0\u001b[39m, \u001b[39m\"\u001b[39m\u001b[39mInvalid Operation\u001b[39m\u001b[39m\"\u001b[39m \u001b[39m# denominator can't be 0\u001b[39;00m\n\u001b[0;32m      5\u001b[0m \u001b[39mprint\u001b[39m(x \u001b[39m/\u001b[39m y)\n",
      "\u001b[1;31mAssertionError\u001b[0m: Invalid Operation"
     ]
    }
   ],
   "source": [
    "# AssertionError with error_message.\n",
    "x = 1\n",
    "y = 0\n",
    "assert y != 0, \"Invalid Operation\" # denominator can't be 0\n",
    "print(x / y)"
   ]
  },
  {
   "cell_type": "code",
   "execution_count": 1,
   "metadata": {},
   "outputs": [
    {
     "name": "stdout",
     "output_type": "stream",
     "text": [
      "Invalid Operation\n"
     ]
    }
   ],
   "source": [
    "try:\n",
    "    x = 1\n",
    "    y = 0\n",
    "    assert y != 0, \"Invalid Operation\"\n",
    "    print(x / y)\n",
    "\n",
    "except AssertionError as msg:\n",
    "    print(msg)"
   ]
  }
 ],
 "metadata": {
  "kernelspec": {
   "display_name": "Python 3.11.0 64-bit",
   "language": "python",
   "name": "python3"
  },
  "language_info": {
   "codemirror_mode": {
    "name": "ipython",
    "version": 3
   },
   "file_extension": ".py",
   "mimetype": "text/x-python",
   "name": "python",
   "nbconvert_exporter": "python",
   "pygments_lexer": "ipython3",
   "version": "3.11.0"
  },
  "orig_nbformat": 4,
  "vscode": {
   "interpreter": {
    "hash": "4bb605657835c542d08082fe69840949598d8fca054fb5ddb49badec80e21e1f"
   }
  }
 },
 "nbformat": 4,
 "nbformat_minor": 2
}
