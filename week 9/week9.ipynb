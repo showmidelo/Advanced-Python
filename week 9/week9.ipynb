{
 "cells": [
  {
   "cell_type": "code",
   "execution_count": 7,
   "metadata": {},
   "outputs": [],
   "source": [
    "def greet():\n",
    "\tprint('Hello! ', end='')\n"
   ]
  },
  {
   "cell_type": "code",
   "execution_count": 8,
   "metadata": {},
   "outputs": [],
   "source": [
    "def mydecorator(fn):\n",
    "\tfn()\n",
    "\tprint('How are you?')\n"
   ]
  },
  {
   "cell_type": "code",
   "execution_count": 9,
   "metadata": {},
   "outputs": [
    {
     "name": "stdout",
     "output_type": "stream",
     "text": [
      "Hello! How are you?\n"
     ]
    }
   ],
   "source": [
    "mydecorator(greet)"
   ]
  },
  {
   "cell_type": "code",
   "execution_count": 10,
   "metadata": {},
   "outputs": [],
   "source": [
    "def mydecorator(fn):\n",
    "    def inner_function():        \n",
    "        fn()\n",
    "        print('How are you?')\n",
    "    return inner_function"
   ]
  },
  {
   "cell_type": "code",
   "execution_count": 11,
   "metadata": {},
   "outputs": [],
   "source": [
    "@mydecorator\n",
    "def greet():\n",
    "\tprint('Hello! ', end='')"
   ]
  },
  {
   "cell_type": "code",
   "execution_count": 12,
   "metadata": {},
   "outputs": [
    {
     "name": "stdout",
     "output_type": "stream",
     "text": [
      "Hello! How are you?\n"
     ]
    }
   ],
   "source": [
    "greet()"
   ]
  },
  {
   "cell_type": "code",
   "execution_count": 13,
   "metadata": {},
   "outputs": [],
   "source": [
    "@mydecorator\n",
    "def dosomething():\n",
    "\tprint('I am doing something.', end='')"
   ]
  },
  {
   "cell_type": "code",
   "execution_count": 14,
   "metadata": {},
   "outputs": [
    {
     "name": "stdout",
     "output_type": "stream",
     "text": [
      "I am doing something.How are you?\n"
     ]
    }
   ],
   "source": [
    "dosomething()"
   ]
  },
  {
   "cell_type": "code",
   "execution_count": 15,
   "metadata": {},
   "outputs": [],
   "source": [
    "def mydecoratorfunction(some_function): # decorator function\n",
    "    def inner_function(): \n",
    "        # write code to extend the behavior of some_function()\n",
    "        some_function() # call some_function\n",
    "        # write code to extend the behavior of some_function()\n",
    "    return inner_function # return a wrapper function"
   ]
  },
  {
   "cell_type": "code",
   "execution_count": 18,
   "metadata": {},
   "outputs": [
    {
     "name": "stdout",
     "output_type": "stream",
     "text": [
      "Undefined\n"
     ]
    }
   ],
   "source": [
    "def check_zero(func):\n",
    "    def wrap(num1, num2):\n",
    "        if num2 == 0:\n",
    "            return 'Undefined'\n",
    "        return func(num1, num2)\n",
    "    return wrap\n",
    "\n",
    "def div(a, b):\n",
    "    return a/b\n",
    "\n",
    "div = check_zero(div)\n",
    "\n",
    "print(div(div(4, 2), div(0, 10)))"
   ]
  },
  {
   "cell_type": "code",
   "execution_count": 26,
   "metadata": {},
   "outputs": [
    {
     "name": "stdout",
     "output_type": "stream",
     "text": [
      "[1, 4, 9, 16] [1.0, 2.0] [1, 4] [1.0, 2.0, 3.0, 4.0]\n"
     ]
    }
   ],
   "source": [
    "def func1(func):\n",
    "    def inner_func(*args, **kwargs):\n",
    "        li = [pow(x, 2) for x in args]\n",
    "        return func(li, **kwargs)\n",
    "    return inner_func\n",
    "\n",
    "\n",
    "@func1\n",
    "def func2(li):\n",
    "    return li\n",
    "\n",
    "@func1\n",
    "def func3(li):\n",
    "    return [pow(x, 0.5) for x in li]\n",
    "\n",
    "def func4():\n",
    "    print(func2(1, 2, 3, 4), func3(1, 2), func2(1, 2), func3(1, 2, 3, 4))\n",
    "\n",
    "func4()"
   ]
  },
  {
   "cell_type": "code",
   "execution_count": 27,
   "metadata": {},
   "outputs": [
    {
     "name": "stdout",
     "output_type": "stream",
     "text": [
      "Decorated\n",
      "Ordinary\n"
     ]
    }
   ],
   "source": [
    "def mk(x):\n",
    "    def mk1():\n",
    "        print(\"Decorated\")\n",
    "        x()\n",
    "    return mk1\n",
    "\n",
    "\n",
    "def mk2():\n",
    "    print(\"Ordinary\")\n",
    "\n",
    "p = mk(mk2)\n",
    "p()"
   ]
  },
  {
   "cell_type": "code",
   "execution_count": 38,
   "metadata": {},
   "outputs": [
    {
     "name": "stdout",
     "output_type": "stream",
     "text": [
      "$100\n"
     ]
    }
   ],
   "source": [
    "def d(f):\n",
    "\n",
    "    def n(*args):\n",
    "\n",
    "        return '$' + str(f(*args))\n",
    "\n",
    "    return n\n",
    "\n",
    "@d\n",
    "def p(a, t):\n",
    "\n",
    "    return a + a*t \n",
    "\n",
    "print(p(100,0))"
   ]
  },
  {
   "cell_type": "code",
   "execution_count": 43,
   "metadata": {},
   "outputs": [
    {
     "ename": "ZeroDivisionError",
     "evalue": "integer modulo by zero",
     "output_type": "error",
     "traceback": [
      "\u001b[1;31m---------------------------------------------------------------------------\u001b[0m",
      "\u001b[1;31mZeroDivisionError\u001b[0m                         Traceback (most recent call last)",
      "Cell \u001b[1;32mIn [43], line 7\u001b[0m\n\u001b[0;32m      3\u001b[0m          \u001b[39mreturn\u001b[39;00m p\u001b[39m%\u001b[39mq\n\u001b[0;32m      5\u001b[0m f(\u001b[39m0\u001b[39m, \u001b[39m2\u001b[39m)\n\u001b[1;32m----> 7\u001b[0m f(\u001b[39m2\u001b[39;49m, \u001b[39m0\u001b[39;49m)\n",
      "Cell \u001b[1;32mIn [43], line 3\u001b[0m, in \u001b[0;36mf\u001b[1;34m(p, q)\u001b[0m\n\u001b[0;32m      1\u001b[0m \u001b[39mdef\u001b[39;00m \u001b[39mf\u001b[39m(p, q):\n\u001b[1;32m----> 3\u001b[0m          \u001b[39mreturn\u001b[39;00m p\u001b[39m%\u001b[39;49mq\n",
      "\u001b[1;31mZeroDivisionError\u001b[0m: integer modulo by zero"
     ]
    }
   ],
   "source": []
  }
 ],
 "metadata": {
  "kernelspec": {
   "display_name": "Python 3.11.0 64-bit",
   "language": "python",
   "name": "python3"
  },
  "language_info": {
   "codemirror_mode": {
    "name": "ipython",
    "version": 3
   },
   "file_extension": ".py",
   "mimetype": "text/x-python",
   "name": "python",
   "nbconvert_exporter": "python",
   "pygments_lexer": "ipython3",
   "version": "3.11.0"
  },
  "orig_nbformat": 4,
  "vscode": {
   "interpreter": {
    "hash": "4bb605657835c542d08082fe69840949598d8fca054fb5ddb49badec80e21e1f"
   }
  }
 },
 "nbformat": 4,
 "nbformat_minor": 2
}
