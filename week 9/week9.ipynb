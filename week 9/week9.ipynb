{
 "cells": [
  {
   "cell_type": "code",
   "execution_count": 99,
   "metadata": {},
   "outputs": [],
   "source": [
    "def greet():\n",
    "\tprint('Hello! ', end='')"
   ]
  },
  {
   "cell_type": "code",
   "execution_count": 100,
   "metadata": {},
   "outputs": [],
   "source": [
    "def mydecorator(fn):\n",
    "\tfn()\n",
    "\tprint('How are you?')\n"
   ]
  },
  {
   "cell_type": "code",
   "execution_count": 101,
   "metadata": {},
   "outputs": [
    {
     "name": "stdout",
     "output_type": "stream",
     "text": [
      "Hello! How are you?\n"
     ]
    }
   ],
   "source": [
    "mydecorator(greet)"
   ]
  },
  {
   "cell_type": "code",
   "execution_count": 102,
   "metadata": {},
   "outputs": [],
   "source": [
    "def mydecorator(fn):\n",
    "    def inner_function():        \n",
    "        fn()\n",
    "        print('How are you?')\n",
    "    return inner_function"
   ]
  },
  {
   "cell_type": "code",
   "execution_count": 103,
   "metadata": {},
   "outputs": [],
   "source": [
    "@mydecorator\n",
    "def greet():\n",
    "\tprint('Hello! ', end='')"
   ]
  },
  {
   "cell_type": "code",
   "execution_count": 104,
   "metadata": {},
   "outputs": [
    {
     "name": "stdout",
     "output_type": "stream",
     "text": [
      "Hello! How are you?\n"
     ]
    }
   ],
   "source": [
    "greet()"
   ]
  },
  {
   "cell_type": "code",
   "execution_count": 105,
   "metadata": {},
   "outputs": [],
   "source": [
    "@mydecorator\n",
    "def dosomething():\n",
    "\tprint('I am doing something.', end='')"
   ]
  },
  {
   "cell_type": "code",
   "execution_count": 106,
   "metadata": {},
   "outputs": [
    {
     "name": "stdout",
     "output_type": "stream",
     "text": [
      "I am doing something.How are you?\n"
     ]
    }
   ],
   "source": [
    "dosomething()"
   ]
  },
  {
   "cell_type": "code",
   "execution_count": 107,
   "metadata": {},
   "outputs": [],
   "source": [
    "def mydecoratorfunction(some_function): # decorator function\n",
    "    def inner_function(): \n",
    "        # write code to extend the behavior of some_function()\n",
    "        some_function() # call some_function\n",
    "        # write code to extend the behavior of some_function()\n",
    "    return inner_function # return a wrapper function"
   ]
  },
  {
   "cell_type": "code",
   "execution_count": 108,
   "metadata": {},
   "outputs": [
    {
     "name": "stdout",
     "output_type": "stream",
     "text": [
      "Undefined\n"
     ]
    }
   ],
   "source": [
    "def check_zero(func):\n",
    "    def wrap(num1, num2):\n",
    "        if num2 == 0:\n",
    "            return 'Undefined'\n",
    "        return func(num1, num2)\n",
    "    return wrap\n",
    "\n",
    "def div(a, b):\n",
    "    return a/b\n",
    "\n",
    "div = check_zero(div)\n",
    "\n",
    "print(div(div(4, 2), div(0, 10)))"
   ]
  },
  {
   "cell_type": "code",
   "execution_count": 109,
   "metadata": {},
   "outputs": [
    {
     "name": "stdout",
     "output_type": "stream",
     "text": [
      "[1, 4, 9, 16] [1.0, 2.0] [1, 4] [1.0, 2.0, 3.0, 4.0]\n"
     ]
    }
   ],
   "source": [
    "def func1(func):\n",
    "    def inner_func(*args, **kwargs):\n",
    "        li = [pow(x, 2) for x in args]\n",
    "        return func(li, **kwargs)\n",
    "    return inner_func\n",
    "\n",
    "\n",
    "@func1\n",
    "def func2(li):\n",
    "    return li\n",
    "\n",
    "@func1\n",
    "def func3(li):\n",
    "    return [pow(x, 0.5) for x in li]\n",
    "\n",
    "\n",
    "\n",
    "def func4():\n",
    "    print(func2(1, 2, 3, 4), func3(1, 2), func2(1, 2), func3(1, 2, 3, 4))\n",
    "\n",
    "func4()"
   ]
  },
  {
   "cell_type": "code",
   "execution_count": 110,
   "metadata": {},
   "outputs": [
    {
     "name": "stdout",
     "output_type": "stream",
     "text": [
      "Decorated\n",
      "Ordinary\n"
     ]
    }
   ],
   "source": [
    "def mk(x):\n",
    "    def mk1():\n",
    "        print(\"Decorated\")\n",
    "        x()\n",
    "    return mk1\n",
    "\n",
    "\n",
    "def mk2():\n",
    "    print(\"Ordinary\")\n",
    "\n",
    "p = mk(mk2)\n",
    "p()"
   ]
  },
  {
   "cell_type": "code",
   "execution_count": 111,
   "metadata": {},
   "outputs": [
    {
     "name": "stdout",
     "output_type": "stream",
     "text": [
      "$100\n"
     ]
    }
   ],
   "source": [
    "def d(f):\n",
    "\n",
    "    def n(*args):\n",
    "\n",
    "        return '$' + str(f(*args))\n",
    "\n",
    "    return n\n",
    "\n",
    "@d\n",
    "def p(a, t):\n",
    "\n",
    "    return a + a*t \n",
    "\n",
    "\n",
    "print(p(100,0))"
   ]
  },
  {
   "cell_type": "markdown",
   "metadata": {},
   "source": [
    "---\n",
    "\n",
    "---\n",
    "\n",
    "---"
   ]
  },
  {
   "cell_type": "markdown",
   "metadata": {},
   "source": [
    "# Single-threaded applications"
   ]
  },
  {
   "cell_type": "markdown",
   "metadata": {},
   "source": [
    "Let’s start with a simple program:"
   ]
  },
  {
   "cell_type": "code",
   "execution_count": 70,
   "metadata": {},
   "outputs": [
    {
     "name": "stdout",
     "output_type": "stream",
     "text": [
      "Starting a task...\n",
      "done\n",
      "Starting a task...\n",
      "done\n",
      "It took  2.00 second(s) to complete.\n"
     ]
    }
   ],
   "source": [
    "from time import sleep, perf_counter\n",
    "\n",
    "def task():\n",
    "    print('Starting a task...')\n",
    "    sleep(1)\n",
    "    print('done')\n",
    "\n",
    "\n",
    "start_time = perf_counter()\n",
    "\n",
    "task()\n",
    "task()\n",
    "\n",
    "end_time = perf_counter()\n",
    "\n",
    "print(f'It took {end_time- start_time: 0.2f} second(s) to complete.')"
   ]
  },
  {
   "cell_type": "markdown",
   "metadata": {},
   "source": [
    "![](https://www.pythontutorial.net/wp-content/uploads/2020/12/Python-Threading-Single-threaded-App.png)"
   ]
  },
  {
   "cell_type": "markdown",
   "metadata": {},
   "source": [
    "# Using Python threading to develop a multi-threaded program example"
   ]
  },
  {
   "cell_type": "markdown",
   "metadata": {},
   "source": [
    "First, import the Thread class from the threading module:"
   ]
  },
  {
   "cell_type": "code",
   "execution_count": 71,
   "metadata": {},
   "outputs": [],
   "source": [
    "from threading import Thread"
   ]
  },
  {
   "cell_type": "markdown",
   "metadata": {},
   "source": [
    "Second, create a new thread by instantiating an instance of the Thread class:"
   ]
  },
  {
   "cell_type": "code",
   "execution_count": null,
   "metadata": {},
   "outputs": [],
   "source": [
    "new_thread = Thread(target=fn,args=args_tuple)"
   ]
  },
  {
   "cell_type": "markdown",
   "metadata": {},
   "source": [
    "The Thread() accepts many parameters. The main ones are:\n",
    "\n",
    "    target: specifies a function (fn) to run in the new thread.\n",
    "    args: specifies the arguments of the function (fn). The args argument is a tuple."
   ]
  },
  {
   "cell_type": "markdown",
   "metadata": {},
   "source": [
    "Third, start the thread by calling the start() method of the Thread instance:"
   ]
  },
  {
   "cell_type": "code",
   "execution_count": null,
   "metadata": {},
   "outputs": [],
   "source": [
    "new_thread.start()"
   ]
  },
  {
   "cell_type": "markdown",
   "metadata": {},
   "source": [
    "If you want to wait for the thread to complete in the main thread, you can call the join() method:"
   ]
  },
  {
   "cell_type": "code",
   "execution_count": null,
   "metadata": {},
   "outputs": [],
   "source": [
    "new_thread.join()"
   ]
  },
  {
   "cell_type": "markdown",
   "metadata": {},
   "source": [
    "By calling the join() method, the main thread will wait for the second thread to complete before it is terminated."
   ]
  },
  {
   "cell_type": "markdown",
   "metadata": {},
   "source": [
    "The following program illustrates how to use the threading module:"
   ]
  },
  {
   "cell_type": "code",
   "execution_count": 76,
   "metadata": {},
   "outputs": [
    {
     "name": "stdout",
     "output_type": "stream",
     "text": [
      "Starting a task...\n",
      "Starting a task...\n",
      "done\n",
      "done\n",
      "It took  1.03 second(s) to complete.\n"
     ]
    }
   ],
   "source": [
    "from time import sleep, perf_counter\n",
    "from threading import Thread\n",
    "\n",
    "\n",
    "def task():\n",
    "    print('Starting a task...')\n",
    "    sleep(1)\n",
    "    print('done')\n",
    "\n",
    "\n",
    "start_time = perf_counter()\n",
    "\n",
    "# create two new threads\n",
    "t1 = Thread(target=task)\n",
    "t2 = Thread(target=task)\n",
    "\n",
    "# start the threads\n",
    "t1.start()\n",
    "t2.start()\n",
    "\n",
    "# wait for the threads to complete\n",
    "t1.join()\n",
    "t2.join()\n",
    "\n",
    "end_time = perf_counter()\n",
    "\n",
    "print(f'It took {end_time- start_time: 0.2f} second(s) to complete.')"
   ]
  },
  {
   "cell_type": "markdown",
   "metadata": {},
   "source": [
    "When the program executes, it’ll have three threads: the main thread is created by the Python interpreter, and two threads are created by the program.\n",
    "\n",
    "As shown clearly from the output, the program took one second instead of two to complete.\n",
    "\n",
    "The following diagram shows how threads execute:"
   ]
  },
  {
   "cell_type": "markdown",
   "metadata": {},
   "source": [
    "![](https://www.pythontutorial.net/wp-content/uploads/2020/12/Python-Threading-Multi-threaded-App.png)"
   ]
  },
  {
   "cell_type": "markdown",
   "metadata": {},
   "source": [
    "# Passing arguments to threads"
   ]
  },
  {
   "cell_type": "markdown",
   "metadata": {},
   "source": [
    "The following program shows how to pass arguments to the function assigned to a thread:"
   ]
  },
  {
   "cell_type": "code",
   "execution_count": 77,
   "metadata": {},
   "outputs": [
    {
     "name": "stdout",
     "output_type": "stream",
     "text": [
      "Starting the task 1...\n",
      "Starting the task 2...\n",
      "Starting the task 3...\n",
      "Starting the task 4...\n",
      "Starting the task 5...\n",
      "Starting the task 6...\n",
      "Starting the task 7...\n",
      "Starting the task 8...\n",
      "Starting the task 9...\n",
      "Starting the task 10...\n",
      "The task 1 completed\n",
      "The task 2 completed\n",
      "The task 3 completed\n",
      "The task 4 completed\n",
      "The task 5 completed\n",
      "The task 6 completed\n",
      "The task 7 completed\n",
      "The task 8 completed\n",
      "The task 9 completed\n",
      "The task 10 completed\n",
      "It took  1.09 second(s) to complete.\n"
     ]
    }
   ],
   "source": [
    "from time import sleep, perf_counter\n",
    "from threading import Thread\n",
    "\n",
    "\n",
    "def task(id):\n",
    "    print(f'Starting the task {id}...')\n",
    "    sleep(1)\n",
    "    print(f'The task {id} completed')\n",
    "\n",
    "\n",
    "start_time = perf_counter()\n",
    "\n",
    "# create and start 10 threads\n",
    "threads = []\n",
    "for n in range(1, 11):\n",
    "    t = Thread(target=task, args=(n,))\n",
    "    threads.append(t)\n",
    "    t.start()\n",
    "\n",
    "# wait for the threads to complete\n",
    "for t in threads:\n",
    "    t.join()\n",
    "\n",
    "end_time = perf_counter()\n",
    "\n",
    "print(f'It took {end_time- start_time: 0.2f} second(s) to complete.')"
   ]
  },
  {
   "cell_type": "markdown",
   "metadata": {},
   "source": [
    "When to use Python threading\n",
    "\n",
    "As introduced in the process and thread tutorial, there’re two main tasks:"
   ]
  },
  {
   "cell_type": "markdown",
   "metadata": {},
   "source": [
    "    I/O-bound tasks – the time spent on I/O is significantly more than the time spent on computation\n",
    "    CPU-bound tasks – the time spent on computation is significantly higher than the time waiting for I/O.\n",
    "\n",
    "Python threading is optimized for I/O bound tasks. For example, requesting remote resources, connecting a database server, or reading and writing files."
   ]
  },
  {
   "cell_type": "markdown",
   "metadata": {},
   "source": [
    "# A Practical Python threading example"
   ]
  },
  {
   "cell_type": "markdown",
   "metadata": {},
   "source": [
    "Suppose that you have a list of text files in a folder e.g., C:/temp/. And you want to replace a text with a new one in all the files.\n",
    "\n",
    "The following single-threaded program shows how to replace a substring with the new one in the text files:"
   ]
  },
  {
   "cell_type": "code",
   "execution_count": null,
   "metadata": {},
   "outputs": [],
   "source": [
    "from time import perf_counter\n",
    "\n",
    "\n",
    "def replace(filename, substr, new_substr):\n",
    "    print(f'Processing the file {filename}')\n",
    "    # get the contents of the file\n",
    "    with open(filename, 'r') as f:\n",
    "        content = f.read()\n",
    "\n",
    "    # replace the substr by new_substr\n",
    "    content = content.replace(substr, new_substr)\n",
    "\n",
    "    # write data into the file\n",
    "    with open(filename, 'w') as f:\n",
    "        f.write(content)\n",
    "\n",
    "\n",
    "def main():\n",
    "    filenames = [\n",
    "        'c:/temp/test1.txt',\n",
    "        'c:/temp/test2.txt',\n",
    "        'c:/temp/test3.txt',\n",
    "        'c:/temp/test4.txt',\n",
    "        'c:/temp/test5.txt',\n",
    "        'c:/temp/test6.txt',\n",
    "        'c:/temp/test7.txt',\n",
    "        'c:/temp/test8.txt',\n",
    "        'c:/temp/test9.txt',\n",
    "        'c:/temp/test10.txt',\n",
    "    ]\n",
    "\n",
    "    for filename in filenames:\n",
    "        replace(filename, 'ids', 'id')\n",
    "\n",
    "\n",
    "if __name__ == \"__main__\":\n",
    "    start_time = perf_counter()\n",
    "\n",
    "    main()\n",
    "\n",
    "    end_time = perf_counter()\n",
    "    print(f'It took {end_time- start_time :0.2f} second(s) to complete.')\n"
   ]
  },
  {
   "cell_type": "markdown",
   "metadata": {},
   "source": [
    "It took 0.16 second(s) to complete."
   ]
  },
  {
   "cell_type": "code",
   "execution_count": null,
   "metadata": {},
   "outputs": [],
   "source": [
    "from threading import Thread\n",
    "from time import perf_counter\n",
    "\n",
    "\n",
    "def replace(filename, substr, new_substr):\n",
    "    print(f'Processing the file {filename}')\n",
    "    # get the contents of the file\n",
    "    with open(filename, 'r') as f:\n",
    "        content = f.read()\n",
    "\n",
    "    # replace the substr by new_substr\n",
    "    content = content.replace(substr, new_substr)\n",
    "\n",
    "    # write data into the file\n",
    "    with open(filename, 'w') as f:\n",
    "        f.write(content)\n",
    "\n",
    "\n",
    "def main():\n",
    "    filenames = [\n",
    "        'c:/temp/test1.txt',\n",
    "        'c:/temp/test2.txt',\n",
    "        'c:/temp/test3.txt',\n",
    "        'c:/temp/test4.txt',\n",
    "        'c:/temp/test5.txt',\n",
    "        'c:/temp/test6.txt',\n",
    "        'c:/temp/test7.txt',\n",
    "        'c:/temp/test8.txt',\n",
    "        'c:/temp/test9.txt',\n",
    "        'c:/temp/test10.txt',\n",
    "    ]\n",
    "\n",
    "    # create threads\n",
    "    threads = [Thread(target=replace, args=(filename, 'id', 'ids'))\n",
    "            for filename in filenames]\n",
    "\n",
    "    # start the threads\n",
    "    for thread in threads:\n",
    "        thread.start()\n",
    "\n",
    "    # wait for the threads to complete\n",
    "    for thread in threads:\n",
    "        thread.join()\n",
    "\n",
    "\n",
    "if __name__ == \"__main__\":\n",
    "    start_time = perf_counter()\n",
    "\n",
    "    main()\n",
    "\n",
    "    end_time = perf_counter()\n",
    "    print(f'It took {end_time- start_time :0.2f} second(s) to complete.')\n"
   ]
  },
  {
   "cell_type": "markdown",
   "metadata": {},
   "source": [
    "output:\n",
    "\n",
    "Processing the file c:/temp/test1.txt\n",
    "\n",
    "Processing the file c:/temp/test2.txt\n",
    "\n",
    "Processing the file c:/temp/test3.txt\n",
    "\n",
    "Processing the file c:/temp/test4.txt\n",
    "\n",
    "Processing the file c:/temp/test5.txt\n",
    "\n",
    "Processing the file c:/temp/test6.txt\n",
    "\n",
    "Processing the file c:/temp/test7.txt\n",
    "\n",
    "Processing the file c:/temp/test8.txt\n",
    "\n",
    "Processing the file c:/temp/test9.txt\n",
    "\n",
    "Processing the file c:/temp/test10.txt\n",
    "\n",
    "It took 0.02 second(s) to complete."
   ]
  },
  {
   "cell_type": "markdown",
   "metadata": {},
   "source": [
    "As you can see clearly from the output, the multi-threaded program runs so much faster."
   ]
  },
  {
   "cell_type": "markdown",
   "metadata": {},
   "source": [
    "# Summary\n",
    "\n",
    "    Use the Python threading module to create a multi-threaded application.\n",
    "\n",
    "    Use the Thread(function, args) to create a new thread.\n",
    "\n",
    "    Call the start() method of the Thread class to start the thread.\n",
    "\n",
    "    Call the join() method of the Thread class to wait for the thread to complete in the main thread.\n",
    "    \n",
    "    Only use threading for I/O bound processing applications."
   ]
  },
  {
   "cell_type": "markdown",
   "metadata": {},
   "source": [
    "# Threading a Method\n",
    "\n",
    "A basic example of threading can be seen below:"
   ]
  },
  {
   "cell_type": "code",
   "execution_count": 82,
   "metadata": {},
   "outputs": [
    {
     "name": "stdout",
     "output_type": "stream",
     "text": [
      "thread is working\n",
      "thread is working\n"
     ]
    }
   ],
   "source": [
    "import threading\n",
    "def f():\n",
    "    print('thread is working')\n",
    " \n",
    "t = threading.Thread(target=f)\n",
    "t1 = threading.Thread(target=f)\n",
    "t.start()\n",
    "t1.start()"
   ]
  },
  {
   "cell_type": "markdown",
   "metadata": {},
   "source": [
    "# Passing Arguments\n",
    "\n",
    "To pass arguments to a method when creating the thread, we can pass a tuple to args. For example:"
   ]
  },
  {
   "cell_type": "code",
   "execution_count": 83,
   "metadata": {},
   "outputs": [
    {
     "name": "stdout",
     "output_type": "stream",
     "text": [
      "thread with id=0 is working\n",
      "thread with id=1 is working\n",
      "thread with id=2 is working\n"
     ]
    }
   ],
   "source": [
    "def f(i):\n",
    "    print('thread with id={} is working'.format(i))\n",
    "\n",
    "for i in range(0, 3):\n",
    "    threading.Thread(target=f, args=(i,)).start()"
   ]
  },
  {
   "cell_type": "code",
   "execution_count": 84,
   "metadata": {},
   "outputs": [
    {
     "name": "stdout",
     "output_type": "stream",
     "text": [
      "thread named 000 with id=0 is working\n",
      "thread named 111 with id=1 is working\n",
      "thread named 222 with id=2 is working\n"
     ]
    }
   ],
   "source": [
    "def f(i, name='default'):\n",
    "   print('thread named {} with id={} is working'.format(name, i))\n",
    "\n",
    "for i in range(0, 3):\n",
    "   Thread(target=f, args=(i,), kwargs={'name': '{}{}{}'.format(i, i, i)}).start()"
   ]
  },
  {
   "cell_type": "markdown",
   "metadata": {},
   "source": [
    "# currentThread()\n",
    "\n",
    "current_thread() is an inbuilt method of the threading module in Python. It is used to return the current Thread object, which corresponds to the caller's thread of control."
   ]
  },
  {
   "cell_type": "code",
   "execution_count": 87,
   "metadata": {},
   "outputs": [
    {
     "name": "stdout",
     "output_type": "stream",
     "text": [
      "MainThread\n",
      "current thread is: salam\n",
      "current thread is: khoobi\n",
      "current thread is: Thread-402\n"
     ]
    }
   ],
   "source": [
    "import threading\n",
    "from threading import Thread\n",
    "\n",
    "def f():\n",
    "    print('current thread is: ' + threading.currentThread().getName())\n",
    "\n",
    "print(threading.currentThread().getName())\n",
    "Thread(target=f)\n",
    "Thread(name='salam', target=f).start()\n",
    "Thread(name='khoobi', target=f).start()\n",
    "Thread(target=f).start()"
   ]
  },
  {
   "cell_type": "markdown",
   "metadata": {},
   "source": [
    "# join()\n",
    "\n",
    "To wait until a thread has completed its work, we may want to use join() method."
   ]
  },
  {
   "cell_type": "code",
   "execution_count": 93,
   "metadata": {},
   "outputs": [
    {
     "name": "stdout",
     "output_type": "stream",
     "text": [
      "(Thread-416) started\n",
      "(Thread-416) finished\n",
      "salam\n",
      "False\n",
      "---------------------\n",
      "(Thread-417) started\n",
      "khoobi?\n",
      "True\n",
      "---------------------\n",
      "(Thread-418) started\n",
      "che khabar?\n",
      "True\n",
      "---------------------\n"
     ]
    },
    {
     "name": "stdout",
     "output_type": "stream",
     "text": [
      "(Thread-417) finished\n",
      "(Thread-418) finished\n"
     ]
    }
   ],
   "source": [
    "import threading, time\n",
    "from threading import Thread\n",
    "\n",
    "def f():\n",
    "    print('(' + threading.currentThread().getName() + ') started')\n",
    "    time.sleep(2)\n",
    "    print('(' + threading.currentThread().getName() + ') finished')\n",
    "\n",
    "\n",
    "t = Thread(target=f)\n",
    "t.start()\n",
    "t.join()\n",
    "print('salam')\n",
    "print(t.is_alive())\n",
    "print(\"---------------------\")\n",
    "\n",
    "t = Thread(target=f)\n",
    "t.start()\n",
    "t.join(1.0)\n",
    "print('khoobi?')\n",
    "print(t.is_alive())\n",
    "print(\"---------------------\")\n",
    "\n",
    "t = Thread(target=f)\n",
    "t.start()\n",
    "print('che khabar?')\n",
    "print(t.is_alive())\n",
    "print(\"---------------------\")"
   ]
  },
  {
   "cell_type": "markdown",
   "metadata": {},
   "source": [
    "# threading.enumerate()\n",
    "\n",
    "threading.enumerate() returns a list of all Thread objects currently alive"
   ]
  },
  {
   "cell_type": "code",
   "execution_count": 95,
   "metadata": {},
   "outputs": [
    {
     "name": "stdout",
     "output_type": "stream",
     "text": [
      "(t1) is starting\n",
      "(t2) is starting\n",
      "(t3) is starting\n",
      "(t4) is starting\n",
      "(t1) is finishing\n",
      "(t2) is finishing\n",
      "(t3) is finishing\n",
      "MainThread is alive now!\n",
      "Thread-4 is alive now!\n",
      "Thread-5 is alive now!\n",
      "Thread-3 is alive now!\n",
      "IPythonHistorySavingThread is alive now!\n",
      "Thread-2 is alive now!\n",
      "t4 is alive now!\n"
     ]
    },
    {
     "name": "stdout",
     "output_type": "stream",
     "text": [
      "(t4) is finishing\n"
     ]
    }
   ],
   "source": [
    "import threading\n",
    "import time\n",
    "from threading import Thread\n",
    "\n",
    "def f(i):\n",
    "    print('(' + threading.currentThread().getName() + ') is starting')\n",
    "    time.sleep(i)\n",
    "    print('(' + threading.currentThread().getName() + ') is finishing')\n",
    "\n",
    "\n",
    "ls = []\n",
    "for i in range(1, 5):\n",
    "    ls.append(Thread(name='t'+str(i), target=f, args=(i,)))\n",
    "\n",
    "for t in ls:\n",
    "    t.start()\n",
    "\n",
    "time.sleep(3)\n",
    "\n",
    "for t in threading.enumerate():\n",
    "    print(t.getName() + \" is alive now!\")"
   ]
  },
  {
   "cell_type": "markdown",
   "metadata": {},
   "source": [
    "# Threading a Class\n",
    "\n",
    "Threading a class can be quite useful as you can have many methods particular to a thread and it's easier to keep your data in one place specific to a thread. An example of threading a class is:"
   ]
  },
  {
   "cell_type": "code",
   "execution_count": 96,
   "metadata": {},
   "outputs": [
    {
     "name": "stdout",
     "output_type": "stream",
     "text": [
      "Running\n",
      "Running\n",
      "Running\n",
      "Running\n"
     ]
    }
   ],
   "source": [
    "import threading\n",
    "\n",
    "class MyThread(threading.Thread):\n",
    "    def __init__(self):\n",
    "        super(MyThread, self).__init__()\n",
    "        # Can setup other things before the thread starts\n",
    "    def run(self):\n",
    "        print (\"Running\")\n",
    "\n",
    "thread_list = []\n",
    "for i in range(4):\n",
    "    thread = MyThread()\n",
    "    thread_list.append(thread)\n",
    "    thread.start()"
   ]
  },
  {
   "cell_type": "markdown",
   "metadata": {},
   "source": [
    "# Passing Arguments\n",
    "\n",
    "To pass arguments, you just use the class as you would normally. For example:"
   ]
  },
  {
   "cell_type": "code",
   "execution_count": 98,
   "metadata": {},
   "outputs": [
    {
     "name": "stdout",
     "output_type": "stream",
     "text": [
      "0\n",
      "1\n",
      "2\n",
      "3\n"
     ]
    }
   ],
   "source": [
    "import threading\n",
    "\n",
    "class MyThread(threading.Thread):\n",
    "    def __init__(self, number):\n",
    "        super(MyThread, self).__init__()\n",
    "        self.number = number\n",
    "    def run(self):\n",
    "        print (self.number)\n",
    "\n",
    "thread_list = []\n",
    "for i in range(4):\n",
    "    thread = MyThread(i)\n",
    "    thread_list.append(thread)\n",
    "    thread.start()\n"
   ]
  }
 ],
 "metadata": {
  "kernelspec": {
   "display_name": "Python 3.11.0 64-bit",
   "language": "python",
   "name": "python3"
  },
  "language_info": {
   "codemirror_mode": {
    "name": "ipython",
    "version": 3
   },
   "file_extension": ".py",
   "mimetype": "text/x-python",
   "name": "python",
   "nbconvert_exporter": "python",
   "pygments_lexer": "ipython3",
   "version": "3.11.0"
  },
  "orig_nbformat": 4,
  "vscode": {
   "interpreter": {
    "hash": "4bb605657835c542d08082fe69840949598d8fca054fb5ddb49badec80e21e1f"
   }
  }
 },
 "nbformat": 4,
 "nbformat_minor": 2
}
