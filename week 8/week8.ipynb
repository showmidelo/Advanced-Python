{
 "cells": [
  {
   "cell_type": "markdown",
   "metadata": {},
   "source": [
    "# Global Variables"
   ]
  },
  {
   "cell_type": "code",
   "execution_count": 10,
   "metadata": {},
   "outputs": [
    {
     "name": "stdout",
     "output_type": "stream",
     "text": [
      "x inside: global\n",
      "x outside: global\n"
     ]
    }
   ],
   "source": [
    "x = \"global\"\n",
    "\n",
    "def foo():\n",
    "    print(\"x inside:\", x)\n",
    "\n",
    "\n",
    "foo()\n",
    "print(\"x outside:\", x)"
   ]
  },
  {
   "cell_type": "code",
   "execution_count": 11,
   "metadata": {},
   "outputs": [
    {
     "ename": "UnboundLocalError",
     "evalue": "local variable 'x' referenced before assignment",
     "output_type": "error",
     "traceback": [
      "\u001b[1;31m---------------------------------------------------------------------------\u001b[0m",
      "\u001b[1;31mUnboundLocalError\u001b[0m                         Traceback (most recent call last)",
      "\u001b[1;32m~\\AppData\\Local\\Temp/ipykernel_21092/237658938.py\u001b[0m in \u001b[0;36m<module>\u001b[1;34m\u001b[0m\n\u001b[0;32m      5\u001b[0m     \u001b[0mprint\u001b[0m\u001b[1;33m(\u001b[0m\u001b[0mx\u001b[0m\u001b[1;33m)\u001b[0m\u001b[1;33m\u001b[0m\u001b[1;33m\u001b[0m\u001b[0m\n\u001b[0;32m      6\u001b[0m \u001b[1;33m\u001b[0m\u001b[0m\n\u001b[1;32m----> 7\u001b[1;33m \u001b[0mfoo\u001b[0m\u001b[1;33m(\u001b[0m\u001b[1;33m)\u001b[0m\u001b[1;33m\u001b[0m\u001b[1;33m\u001b[0m\u001b[0m\n\u001b[0m",
      "\u001b[1;32m~\\AppData\\Local\\Temp/ipykernel_21092/237658938.py\u001b[0m in \u001b[0;36mfoo\u001b[1;34m()\u001b[0m\n\u001b[0;32m      2\u001b[0m \u001b[1;33m\u001b[0m\u001b[0m\n\u001b[0;32m      3\u001b[0m \u001b[1;32mdef\u001b[0m \u001b[0mfoo\u001b[0m\u001b[1;33m(\u001b[0m\u001b[1;33m)\u001b[0m\u001b[1;33m:\u001b[0m\u001b[1;33m\u001b[0m\u001b[1;33m\u001b[0m\u001b[0m\n\u001b[1;32m----> 4\u001b[1;33m     \u001b[0mx\u001b[0m \u001b[1;33m=\u001b[0m \u001b[0mx\u001b[0m \u001b[1;33m*\u001b[0m \u001b[1;36m2\u001b[0m\u001b[1;33m\u001b[0m\u001b[1;33m\u001b[0m\u001b[0m\n\u001b[0m\u001b[0;32m      5\u001b[0m     \u001b[0mprint\u001b[0m\u001b[1;33m(\u001b[0m\u001b[0mx\u001b[0m\u001b[1;33m)\u001b[0m\u001b[1;33m\u001b[0m\u001b[1;33m\u001b[0m\u001b[0m\n\u001b[0;32m      6\u001b[0m \u001b[1;33m\u001b[0m\u001b[0m\n",
      "\u001b[1;31mUnboundLocalError\u001b[0m: local variable 'x' referenced before assignment"
     ]
    }
   ],
   "source": [
    "x = \"global\"\n",
    "\n",
    "def foo():\n",
    "    x = x * 2\n",
    "    print(x)\n",
    "\n",
    "foo()"
   ]
  },
  {
   "cell_type": "markdown",
   "metadata": {},
   "source": [
    "__The output shows an error because Python treats x as a local variable and x is also not defined inside foo().__\n",
    "\n",
    "__To make this work, we use the global keyword__"
   ]
  },
  {
   "cell_type": "code",
   "execution_count": 12,
   "metadata": {},
   "outputs": [
    {
     "name": "stdout",
     "output_type": "stream",
     "text": [
      "Inside add(): 2\n",
      "In main: 2\n"
     ]
    }
   ],
   "source": [
    "c = 0 # global variable\n",
    "\n",
    "def add():\n",
    "    global c\n",
    "    c = c + 2 # increment by 2\n",
    "    print(\"Inside add():\", c)\n",
    "\n",
    "add()\n",
    "print(\"In main:\", c)"
   ]
  },
  {
   "cell_type": "markdown",
   "metadata": {},
   "source": [
    "# Local Variables\n",
    "\n",
    "__A variable declared inside the function's body or in the local scope is known as a local variable.__"
   ]
  },
  {
   "cell_type": "code",
   "execution_count": 13,
   "metadata": {},
   "outputs": [
    {
     "name": "stdout",
     "output_type": "stream",
     "text": [
      "local\n"
     ]
    },
    {
     "ename": "NameError",
     "evalue": "name 'y' is not defined",
     "output_type": "error",
     "traceback": [
      "\u001b[1;31m---------------------------------------------------------------------------\u001b[0m",
      "\u001b[1;31mNameError\u001b[0m                                 Traceback (most recent call last)",
      "\u001b[1;32m~\\AppData\\Local\\Temp/ipykernel_21092/1084913514.py\u001b[0m in \u001b[0;36m<module>\u001b[1;34m\u001b[0m\n\u001b[0;32m      6\u001b[0m \u001b[0mfoo\u001b[0m\u001b[1;33m(\u001b[0m\u001b[1;33m)\u001b[0m\u001b[1;33m\u001b[0m\u001b[1;33m\u001b[0m\u001b[0m\n\u001b[0;32m      7\u001b[0m \u001b[1;33m\u001b[0m\u001b[0m\n\u001b[1;32m----> 8\u001b[1;33m \u001b[0mprint\u001b[0m\u001b[1;33m(\u001b[0m\u001b[0my\u001b[0m\u001b[1;33m)\u001b[0m\u001b[1;33m\u001b[0m\u001b[1;33m\u001b[0m\u001b[0m\n\u001b[0m",
      "\u001b[1;31mNameError\u001b[0m: name 'y' is not defined"
     ]
    }
   ],
   "source": [
    "def foo():\n",
    "    y = \"local\"\n",
    "    print(y)\n",
    "\n",
    "\n",
    "foo()\n",
    "\n",
    "print(y)"
   ]
  },
  {
   "cell_type": "code",
   "execution_count": 14,
   "metadata": {},
   "outputs": [
    {
     "name": "stdout",
     "output_type": "stream",
     "text": [
      "local\n"
     ]
    }
   ],
   "source": [
    "def foo():\n",
    "    y = \"local\"\n",
    "    print(y)\n",
    "\n",
    "foo()"
   ]
  },
  {
   "cell_type": "markdown",
   "metadata": {},
   "source": [
    "__Using Global and Local variables in the same code__"
   ]
  },
  {
   "cell_type": "code",
   "execution_count": 17,
   "metadata": {},
   "outputs": [
    {
     "name": "stdout",
     "output_type": "stream",
     "text": [
      "global global \n",
      "local\n"
     ]
    }
   ],
   "source": [
    "x = \"global \"\n",
    "\n",
    "def foo():\n",
    "    global x\n",
    "    y = \"local\"\n",
    "    x = x * 2\n",
    "    print(x)\n",
    "    print(y)\n",
    "\n",
    "foo()"
   ]
  },
  {
   "cell_type": "markdown",
   "metadata": {},
   "source": [
    "__Global variable and Local variable with same name__"
   ]
  },
  {
   "cell_type": "code",
   "execution_count": 18,
   "metadata": {},
   "outputs": [
    {
     "name": "stdout",
     "output_type": "stream",
     "text": [
      "local x: 10\n",
      "global x: 5\n"
     ]
    }
   ],
   "source": [
    "x = 5\n",
    "\n",
    "def foo():\n",
    "    x = 10\n",
    "    print(\"local x:\", x)\n",
    "\n",
    "\n",
    "foo()\n",
    "\n",
    "print(\"global x:\", x)"
   ]
  },
  {
   "cell_type": "markdown",
   "metadata": {},
   "source": [
    "#  method overriding"
   ]
  },
  {
   "cell_type": "code",
   "execution_count": 20,
   "metadata": {},
   "outputs": [
    {
     "name": "stdout",
     "output_type": "stream",
     "text": [
      "Inside Parent\n",
      "Inside Child\n"
     ]
    }
   ],
   "source": [
    "class Parent():\n",
    "    \n",
    "\tdef __init__(self):\n",
    "\t\tself.value = \"Inside Parent\"\n",
    "\t\t\n",
    "\tdef show(self):\n",
    "\t\tprint(self.value)\n",
    "  \n",
    "\n",
    "class Child(Parent):\n",
    "    \n",
    "\tdef __init__(self):\n",
    "\t\tself.value = \"Inside Child\"\n",
    "\t\t\n",
    "\tdef show(self):\n",
    "\t\tprint(self.value)\n",
    "\t\t\n",
    "\t\t\n",
    "\n",
    "obj1 = Parent()\n",
    "\n",
    "obj2 = Child()\n",
    "\n",
    "obj1.show()\n",
    "\n",
    "obj2.show()"
   ]
  },
  {
   "cell_type": "code",
   "execution_count": 21,
   "metadata": {},
   "outputs": [
    {
     "name": "stdout",
     "output_type": "stream",
     "text": [
      "Inside Child\n",
      "Inside Parent2\n"
     ]
    }
   ],
   "source": [
    "class Parent1():\n",
    "    \n",
    "\tdef show(self):\n",
    "\t\tprint(\"Inside Parent1\")\n",
    "\t\t\n",
    "\n",
    "class Parent2():\n",
    "    \n",
    "\tdef display(self):\n",
    "\t\tprint(\"Inside Parent2\")\n",
    "\t\t\n",
    "\t\t\n",
    "class Child(Parent1, Parent2):\n",
    "    \n",
    "\tdef show(self):\n",
    "\t\tprint(\"Inside Child\")\n",
    "\t\n",
    "\t\t\n",
    "\n",
    "obj = Child()\n",
    "\n",
    "obj.show()\n",
    "obj.display()\n"
   ]
  },
  {
   "cell_type": "code",
   "execution_count": 22,
   "metadata": {},
   "outputs": [
    {
     "name": "stdout",
     "output_type": "stream",
     "text": [
      "Inside GrandChild\n",
      "Inside Parent\n"
     ]
    }
   ],
   "source": [
    "class Parent():\n",
    "    \n",
    "\tdef display(self):\n",
    "\t\tprint(\"Inside Parent\")\n",
    "\t\n",
    "\n",
    "class Child(Parent):\n",
    "    \n",
    "\tdef show(self):\n",
    "\t\tprint(\"Inside Child\")\n",
    "  \n",
    "\t\n",
    "class GrandChild(Child):\n",
    "    \n",
    "\tdef show(self):\n",
    "\t\tprint(\"Inside GrandChild\")\t\t\n",
    "\t\n",
    "\n",
    "\n",
    "g = GrandChild()\n",
    "g.show()\n",
    "g.display()\n"
   ]
  },
  {
   "cell_type": "code",
   "execution_count": 23,
   "metadata": {},
   "outputs": [
    {
     "name": "stdout",
     "output_type": "stream",
     "text": [
      "Inside Parent\n",
      "Inside Child\n"
     ]
    }
   ],
   "source": [
    "class Parent():\n",
    "    \n",
    "\tdef show(self):\n",
    "\t\tprint(\"Inside Parent\")\n",
    "\t\t\n",
    "  \n",
    "class Child(Parent):\n",
    "    \n",
    "\tdef show(self):\n",
    "\t\tParent.show(self)\n",
    "\t\tprint(\"Inside Child\")\n",
    "\t\t\n",
    "obj = Child()\n",
    "obj.show()"
   ]
  },
  {
   "cell_type": "code",
   "execution_count": 24,
   "metadata": {},
   "outputs": [
    {
     "name": "stdout",
     "output_type": "stream",
     "text": [
      "Inside Parent\n",
      "Inside Child\n"
     ]
    }
   ],
   "source": [
    "class Parent():\n",
    "    \n",
    "\tdef show(self):\n",
    "\t\tprint(\"Inside Parent\")\n",
    "\t\t\n",
    "class Child(Parent):\n",
    "\t\n",
    "\tdef show(self):\n",
    "\t\tsuper().show()\n",
    "\t\tprint(\"Inside Child\")\n",
    "\t\t\n",
    "\n",
    "obj = Child()\n",
    "obj.show()"
   ]
  },
  {
   "cell_type": "code",
   "execution_count": 25,
   "metadata": {},
   "outputs": [
    {
     "name": "stdout",
     "output_type": "stream",
     "text": [
      "HEY !!!!!! GfG I am initialised(Class GEG3)\n",
      "HEY !!!!!! GfG I am initialised(Class GEG2)\n",
      "HEY !!!!!! GfG I am initialised(Class GEG1)\n",
      "Printing from class GFG3: 10\n",
      "Printing from class GFG2: 11\n",
      "Printing from class GFG1: 12\n"
     ]
    }
   ],
   "source": [
    "class GFG1:\n",
    "\tdef __init__(self):\n",
    "\t\tprint('HEY !!!!!! GfG I am initialised(Class GEG1)')\n",
    "\t\n",
    "\tdef sub_GFG(self, b):\n",
    "\t\tprint('Printing from class GFG1:', b)\n",
    "\t\n",
    "class GFG2(GFG1):\n",
    "\tdef __init__(self):\n",
    "\t\tprint('HEY !!!!!! GfG I am initialised(Class GEG2)')\n",
    "\t\tsuper().__init__()\n",
    "\t\n",
    "\tdef sub_GFG(self, b):\n",
    "\t\tprint('Printing from class GFG2:', b)\n",
    "\t\tsuper().sub_GFG(b + 1)\n",
    "\t\n",
    "\n",
    "class GFG3(GFG2):\n",
    "\tdef __init__(self):\n",
    "\t\tprint('HEY !!!!!! GfG I am initialised(Class GEG3)')\n",
    "\t\tsuper().__init__()\n",
    "\t\n",
    "\tdef sub_GFG(self, b):\n",
    "\t\tprint('Printing from class GFG3:', b)\n",
    "\t\tsuper().sub_GFG(b + 1)\n",
    "\t\n",
    "\t\n",
    "\n",
    "if __name__ == '__main__':\n",
    "\t\n",
    "\t\n",
    "\tgfg = GFG3()\n",
    "\t\n",
    "\tgfg.sub_GFG(10)\n"
   ]
  },
  {
   "cell_type": "code",
   "execution_count": 29,
   "metadata": {},
   "outputs": [
    {
     "name": "stdout",
     "output_type": "stream",
     "text": [
      "HEY !!!!!! GfG I am initialised(Class GEG2)\n",
      "HEY !!!!!! GfG I am initialised(Class GEG1)\n",
      "Printing from class GFG2: 100\n",
      "Printing from class GFG1: 101\n"
     ]
    }
   ],
   "source": [
    "g = GFG2()\n",
    "g.sub_GFG(100)"
   ]
  },
  {
   "cell_type": "markdown",
   "metadata": {},
   "source": [
    "# Public Members\n",
    "\n",
    "__All members in a Python class are public by default. Any member can be accessed from outside the class environment.__"
   ]
  },
  {
   "cell_type": "code",
   "execution_count": 31,
   "metadata": {},
   "outputs": [],
   "source": [
    "class Student:\n",
    "    schoolName = 'XYZ School' # class attribute\n",
    "\n",
    "    def __init__(self, name, age):\n",
    "        self.name=name # instance attribute\n",
    "        self.age=age # instance attribute\n"
   ]
  },
  {
   "cell_type": "code",
   "execution_count": 32,
   "metadata": {},
   "outputs": [],
   "source": [
    "std = Student(\"Steve\", 25)"
   ]
  },
  {
   "cell_type": "code",
   "execution_count": 33,
   "metadata": {},
   "outputs": [
    {
     "data": {
      "text/plain": [
       "'XYZ School'"
      ]
     },
     "execution_count": 33,
     "metadata": {},
     "output_type": "execute_result"
    }
   ],
   "source": [
    "std.schoolName"
   ]
  },
  {
   "cell_type": "code",
   "execution_count": 34,
   "metadata": {},
   "outputs": [
    {
     "data": {
      "text/plain": [
       "'Steve'"
      ]
     },
     "execution_count": 34,
     "metadata": {},
     "output_type": "execute_result"
    }
   ],
   "source": [
    "std.name"
   ]
  },
  {
   "cell_type": "code",
   "execution_count": 35,
   "metadata": {},
   "outputs": [
    {
     "data": {
      "text/plain": [
       "20"
      ]
     },
     "execution_count": 35,
     "metadata": {},
     "output_type": "execute_result"
    }
   ],
   "source": [
    "std.age = 20\n",
    "std.age"
   ]
  },
  {
   "cell_type": "markdown",
   "metadata": {},
   "source": [
    "# Protected Members\n",
    "\n",
    "__Protected members of a class are accessible from within the class and are also available to its sub-classes__"
   ]
  },
  {
   "cell_type": "code",
   "execution_count": 72,
   "metadata": {},
   "outputs": [],
   "source": [
    "class Student:\n",
    "    _schoolName = 'XYZ School' # protected class attribute\n",
    "    \n",
    "    def __init__(self, name, age):\n",
    "        self._name=name  # protected instance attribute\n",
    "        self._age=age # protected instance attribute\n",
    "        \n",
    "class Student2(Student):\n",
    "    def __init__(self,name,age):\n",
    "        self._name=name  # protected instance attribute\n",
    "        self._age=age\n",
    "\n",
    "s = Student2(\"Samad\",20)"
   ]
  },
  {
   "cell_type": "code",
   "execution_count": 70,
   "metadata": {},
   "outputs": [
    {
     "data": {
      "text/plain": [
       "'Samad'"
      ]
     },
     "execution_count": 70,
     "metadata": {},
     "output_type": "execute_result"
    }
   ],
   "source": [
    "s._name"
   ]
  },
  {
   "cell_type": "code",
   "execution_count": 37,
   "metadata": {},
   "outputs": [
    {
     "data": {
      "text/plain": [
       "'Swati'"
      ]
     },
     "execution_count": 37,
     "metadata": {},
     "output_type": "execute_result"
    }
   ],
   "source": [
    "std = Student(\"Swati\", 25)\n",
    "std._name"
   ]
  },
  {
   "cell_type": "code",
   "execution_count": 38,
   "metadata": {},
   "outputs": [],
   "source": [
    "std._name = 'Dipa'"
   ]
  },
  {
   "cell_type": "code",
   "execution_count": 39,
   "metadata": {},
   "outputs": [
    {
     "data": {
      "text/plain": [
       "'Dipa'"
      ]
     },
     "execution_count": 39,
     "metadata": {},
     "output_type": "execute_result"
    }
   ],
   "source": [
    "std._name"
   ]
  },
  {
   "cell_type": "markdown",
   "metadata": {},
   "source": [
    "__However, you can define a property using property decorator and make it protected, as shown below.__"
   ]
  },
  {
   "cell_type": "code",
   "execution_count": 50,
   "metadata": {},
   "outputs": [],
   "source": [
    "class Student:\n",
    "\tdef __init__(self,name):\n",
    "\t\tself._name = name\n",
    "  \n",
    "\t@property\n",
    "\tdef name(self):\n",
    "\t\treturn self._name\n",
    "\n",
    "\t@name.setter\n",
    "\tdef name(self,newname):\n",
    "\t\tself._name = newname"
   ]
  },
  {
   "cell_type": "code",
   "execution_count": 51,
   "metadata": {},
   "outputs": [
    {
     "data": {
      "text/plain": [
       "'Swati'"
      ]
     },
     "execution_count": 51,
     "metadata": {},
     "output_type": "execute_result"
    }
   ],
   "source": [
    "std = Student(\"Swati\")\n",
    "std.name"
   ]
  },
  {
   "cell_type": "code",
   "execution_count": 52,
   "metadata": {},
   "outputs": [
    {
     "data": {
      "text/plain": [
       "'Dipa'"
      ]
     },
     "execution_count": 52,
     "metadata": {},
     "output_type": "execute_result"
    }
   ],
   "source": [
    "std.name = 'Dipa'\n",
    "std.name"
   ]
  },
  {
   "cell_type": "code",
   "execution_count": 53,
   "metadata": {},
   "outputs": [
    {
     "data": {
      "text/plain": [
       "'Dipa'"
      ]
     },
     "execution_count": 53,
     "metadata": {},
     "output_type": "execute_result"
    }
   ],
   "source": [
    "std._name # still accessible"
   ]
  },
  {
   "cell_type": "markdown",
   "metadata": {},
   "source": [
    "# Private Members\n",
    "\n",
    "__Python doesn't have any mechanism that effectively restricts access to any instance variable or method__\n",
    "\n",
    "__The double underscore __ prefixed to a variable makes it private__\n",
    "\n",
    "\n",
    "__It gives a strong suggestion not to touch it from outside the class. Any attempt to do so will result in an AttributeError:__"
   ]
  },
  {
   "cell_type": "code",
   "execution_count": 54,
   "metadata": {},
   "outputs": [],
   "source": [
    "class Student:\n",
    "    __schoolName = 'XYZ School' # private class attribute\n",
    "\n",
    "    def __init__(self, name, age):\n",
    "        self.__name=name  # private instance attribute\n",
    "        self.__salary=age # private instance attribute\n",
    "    def __display(self):  # private method\n",
    "\t    print('This is private method.')"
   ]
  },
  {
   "cell_type": "code",
   "execution_count": 55,
   "metadata": {},
   "outputs": [],
   "source": [
    "std = Student(\"Bill\", 25)"
   ]
  },
  {
   "cell_type": "code",
   "execution_count": 56,
   "metadata": {},
   "outputs": [
    {
     "ename": "AttributeError",
     "evalue": "'Student' object has no attribute '__schoolName'",
     "output_type": "error",
     "traceback": [
      "\u001b[1;31m---------------------------------------------------------------------------\u001b[0m",
      "\u001b[1;31mAttributeError\u001b[0m                            Traceback (most recent call last)",
      "\u001b[1;32m~\\AppData\\Local\\Temp/ipykernel_21092/2535855424.py\u001b[0m in \u001b[0;36m<module>\u001b[1;34m\u001b[0m\n\u001b[1;32m----> 1\u001b[1;33m \u001b[0mstd\u001b[0m\u001b[1;33m.\u001b[0m\u001b[0m__schoolName\u001b[0m\u001b[1;33m\u001b[0m\u001b[1;33m\u001b[0m\u001b[0m\n\u001b[0m",
      "\u001b[1;31mAttributeError\u001b[0m: 'Student' object has no attribute '__schoolName'"
     ]
    }
   ],
   "source": [
    "std.__schoolName"
   ]
  },
  {
   "cell_type": "code",
   "execution_count": 57,
   "metadata": {},
   "outputs": [
    {
     "ename": "AttributeError",
     "evalue": "'Student' object has no attribute '__name'",
     "output_type": "error",
     "traceback": [
      "\u001b[1;31m---------------------------------------------------------------------------\u001b[0m",
      "\u001b[1;31mAttributeError\u001b[0m                            Traceback (most recent call last)",
      "\u001b[1;32m~\\AppData\\Local\\Temp/ipykernel_21092/1120992331.py\u001b[0m in \u001b[0;36m<module>\u001b[1;34m\u001b[0m\n\u001b[1;32m----> 1\u001b[1;33m \u001b[0mstd\u001b[0m\u001b[1;33m.\u001b[0m\u001b[0m__name\u001b[0m\u001b[1;33m\u001b[0m\u001b[1;33m\u001b[0m\u001b[0m\n\u001b[0m",
      "\u001b[1;31mAttributeError\u001b[0m: 'Student' object has no attribute '__name'"
     ]
    }
   ],
   "source": [
    "std.__name"
   ]
  },
  {
   "cell_type": "code",
   "execution_count": 58,
   "metadata": {},
   "outputs": [
    {
     "ename": "AttributeError",
     "evalue": "'Student' object has no attribute '__display'",
     "output_type": "error",
     "traceback": [
      "\u001b[1;31m---------------------------------------------------------------------------\u001b[0m",
      "\u001b[1;31mAttributeError\u001b[0m                            Traceback (most recent call last)",
      "\u001b[1;32m~\\AppData\\Local\\Temp/ipykernel_21092/4181530199.py\u001b[0m in \u001b[0;36m<module>\u001b[1;34m\u001b[0m\n\u001b[1;32m----> 1\u001b[1;33m \u001b[0mstd\u001b[0m\u001b[1;33m.\u001b[0m\u001b[0m__display\u001b[0m\u001b[1;33m(\u001b[0m\u001b[1;33m)\u001b[0m\u001b[1;33m\u001b[0m\u001b[1;33m\u001b[0m\u001b[0m\n\u001b[0m",
      "\u001b[1;31mAttributeError\u001b[0m: 'Student' object has no attribute '__display'"
     ]
    }
   ],
   "source": [
    "std.__display()"
   ]
  },
  {
   "cell_type": "code",
   "execution_count": 60,
   "metadata": {},
   "outputs": [
    {
     "data": {
      "text/plain": [
       "'Bill'"
      ]
     },
     "execution_count": 60,
     "metadata": {},
     "output_type": "execute_result"
    }
   ],
   "source": [
    "std = Student(\"Bill\", 25)\n",
    "\n",
    "std._Student__name"
   ]
  },
  {
   "cell_type": "code",
   "execution_count": 61,
   "metadata": {},
   "outputs": [
    {
     "data": {
      "text/plain": [
       "'Steve'"
      ]
     },
     "execution_count": 61,
     "metadata": {},
     "output_type": "execute_result"
    }
   ],
   "source": [
    "std._Student__name = 'Steve'\n",
    "std._Student__name"
   ]
  },
  {
   "cell_type": "code",
   "execution_count": 62,
   "metadata": {},
   "outputs": [
    {
     "name": "stdout",
     "output_type": "stream",
     "text": [
      "This is private method.\n"
     ]
    }
   ],
   "source": [
    "std._Student__display()"
   ]
  },
  {
   "cell_type": "markdown",
   "metadata": {},
   "source": [
    "# Check this video\n",
    "\n",
    "<https://www.youtube.com/watch?v=jCzT9XFZ5bw>"
   ]
  },
  {
   "cell_type": "code",
   "execution_count": 73,
   "metadata": {},
   "outputs": [],
   "source": [
    "class First:\n",
    "\n",
    "    def __init__(self, x):\n",
    "        self.__x = x\n",
    "\n",
    "    def get_x(self):\n",
    "        return self.__x\n",
    "\n",
    "    def set_x(self, x):\n",
    "        self.__x = x"
   ]
  },
  {
   "cell_type": "code",
   "execution_count": 74,
   "metadata": {},
   "outputs": [
    {
     "name": "stdout",
     "output_type": "stream",
     "text": [
      "42\n"
     ]
    }
   ],
   "source": [
    "obj1 = First(42)\n",
    "obj2 = First(4711)\n",
    "\n",
    "\n",
    "print(obj1.get_x())\n"
   ]
  },
  {
   "cell_type": "code",
   "execution_count": 75,
   "metadata": {},
   "outputs": [],
   "source": [
    "obj1.set_x(50)"
   ]
  },
  {
   "cell_type": "code",
   "execution_count": null,
   "metadata": {},
   "outputs": [],
   "source": [
    "obj1.get_x()"
   ]
  },
  {
   "cell_type": "code",
   "execution_count": null,
   "metadata": {},
   "outputs": [],
   "source": [
    "obj1.set_x(obj1.get_x()+obj2.get_x())"
   ]
  },
  {
   "cell_type": "code",
   "execution_count": null,
   "metadata": {},
   "outputs": [],
   "source": [
    "obj1.get_x()"
   ]
  },
  {
   "cell_type": "markdown",
   "metadata": {},
   "source": [
    "---"
   ]
  },
  {
   "cell_type": "code",
   "execution_count": null,
   "metadata": {},
   "outputs": [],
   "source": [
    "class Second:\n",
    "\n",
    "    def __init__(self, x):\n",
    "        self.x = x"
   ]
  },
  {
   "cell_type": "code",
   "execution_count": null,
   "metadata": {},
   "outputs": [],
   "source": [
    "obj1 = Second(42)\n",
    "obj2 = Second(4711)\n",
    "\n",
    "obj1.x"
   ]
  },
  {
   "cell_type": "code",
   "execution_count": null,
   "metadata": {},
   "outputs": [],
   "source": [
    "obj1.x = 43"
   ]
  },
  {
   "cell_type": "code",
   "execution_count": null,
   "metadata": {},
   "outputs": [],
   "source": [
    "obj1.x"
   ]
  },
  {
   "cell_type": "code",
   "execution_count": null,
   "metadata": {},
   "outputs": [],
   "source": [
    "obj1.x = obj1.x + obj2.x"
   ]
  },
  {
   "cell_type": "code",
   "execution_count": null,
   "metadata": {},
   "outputs": [],
   "source": [
    "obj1.x"
   ]
  },
  {
   "cell_type": "code",
   "execution_count": 76,
   "metadata": {},
   "outputs": [],
   "source": [
    "class First:\n",
    "\n",
    "    def __init__(self, x):\n",
    "        self.set_x(x)\n",
    "\n",
    "    def get_x(self):\n",
    "        return self.__x\n",
    "\n",
    "    def set_x(self, x):\n",
    "        if x < 0:\n",
    "            self.__x = 0\n",
    "        elif x > 1000:\n",
    "            self.__x = 1000\n",
    "        else:\n",
    "            self.__x = x"
   ]
  },
  {
   "cell_type": "code",
   "execution_count": 77,
   "metadata": {},
   "outputs": [
    {
     "data": {
      "text/plain": [
       "1000"
      ]
     },
     "execution_count": 77,
     "metadata": {},
     "output_type": "execute_result"
    }
   ],
   "source": [
    "obj1 = First(1001)\n",
    "obj1.get_x()"
   ]
  },
  {
   "cell_type": "code",
   "execution_count": null,
   "metadata": {},
   "outputs": [],
   "source": [
    "obj2 = First(15)\n",
    "obj2.get_x()"
   ]
  },
  {
   "cell_type": "code",
   "execution_count": null,
   "metadata": {},
   "outputs": [],
   "source": [
    "obj3 = First(-1)\n",
    "obj3.get_x()"
   ]
  },
  {
   "cell_type": "code",
   "execution_count": 78,
   "metadata": {},
   "outputs": [],
   "source": [
    "class Second:\n",
    "\n",
    "    def __init__(self, x):\n",
    "        self.x = x\n",
    "\n",
    "    @property \n",
    "    def x(self):\n",
    "        print(\"---> getter <---\")\n",
    "        return self.__x\n",
    "\n",
    "    @x.setter\n",
    "    def x(self, x):\n",
    "        print(\"---> setter <---\")\n",
    "        if x < 0:\n",
    "            self.__x = 0\n",
    "        elif x > 1000:\n",
    "            self.__x = 1000\n",
    "        else:\n",
    "            self.__x = x\n"
   ]
  },
  {
   "cell_type": "code",
   "execution_count": 79,
   "metadata": {},
   "outputs": [
    {
     "name": "stdout",
     "output_type": "stream",
     "text": [
      "---> setter <---\n"
     ]
    }
   ],
   "source": [
    "obj1 = Second(1001)"
   ]
  },
  {
   "cell_type": "code",
   "execution_count": 81,
   "metadata": {},
   "outputs": [
    {
     "name": "stdout",
     "output_type": "stream",
     "text": [
      "---> getter <---\n"
     ]
    },
    {
     "data": {
      "text/plain": [
       "1000"
      ]
     },
     "execution_count": 81,
     "metadata": {},
     "output_type": "execute_result"
    }
   ],
   "source": [
    "obj1.x"
   ]
  },
  {
   "cell_type": "code",
   "execution_count": null,
   "metadata": {},
   "outputs": [],
   "source": [
    "obj2 = Second(-73)"
   ]
  },
  {
   "cell_type": "code",
   "execution_count": null,
   "metadata": {},
   "outputs": [],
   "source": [
    "obj2.x"
   ]
  },
  {
   "cell_type": "code",
   "execution_count": null,
   "metadata": {},
   "outputs": [],
   "source": [
    "obj2.x = 50"
   ]
  },
  {
   "cell_type": "code",
   "execution_count": 82,
   "metadata": {},
   "outputs": [
    {
     "name": "stdout",
     "output_type": "stream",
     "text": [
      "Seems to be okay!\n",
      "I feel bad!\n"
     ]
    }
   ],
   "source": [
    "class Robot:\n",
    "\n",
    "    def __init__(self, name, build_year, lk = 0.5, lp = 0.5 ):\n",
    "        self.name = name\n",
    "        self.build_year = build_year\n",
    "        self.__potential_physical = lk\n",
    "        self.__potential_psychic = lp\n",
    "\n",
    "    @property\n",
    "    def condition(self):\n",
    "        s = self.__potential_physical + self.__potential_psychic\n",
    "        if s <= -1:\n",
    "           return \"I feel miserable!\"\n",
    "        elif s <= 0:\n",
    "           return \"I feel bad!\"\n",
    "        elif s <= 0.5:\n",
    "           return \"Could be worse!\"\n",
    "        elif s <= 1:\n",
    "           return \"Seems to be okay!\"\n",
    "        else:\n",
    "           return \"Great!\" \n",
    "\n",
    "Wall_E= Robot(\"Wall-E\", 1979, 0.2, 0.4 )\n",
    "Hal = Robot(\"Hal\", 1993, -0.4, 0.3)\n",
    "\n",
    "print(Wall_E.condition)\n",
    "print(Hal.condition)"
   ]
  },
  {
   "cell_type": "markdown",
   "metadata": {},
   "source": [
    "# Dir() Function"
   ]
  },
  {
   "cell_type": "code",
   "execution_count": 83,
   "metadata": {},
   "outputs": [
    {
     "data": {
      "text/plain": [
       "['__class__',\n",
       " '__delattr__',\n",
       " '__dict__',\n",
       " '__dir__',\n",
       " '__doc__',\n",
       " '__eq__',\n",
       " '__format__',\n",
       " '__ge__',\n",
       " '__getattribute__',\n",
       " '__gt__',\n",
       " '__hash__',\n",
       " '__init__',\n",
       " '__init_subclass__',\n",
       " '__le__',\n",
       " '__lt__',\n",
       " '__module__',\n",
       " '__ne__',\n",
       " '__new__',\n",
       " '__reduce__',\n",
       " '__reduce_ex__',\n",
       " '__repr__',\n",
       " '__setattr__',\n",
       " '__sizeof__',\n",
       " '__str__',\n",
       " '__subclasshook__',\n",
       " '__weakref__',\n",
       " 'get_age',\n",
       " 'name']"
      ]
     },
     "execution_count": 83,
     "metadata": {},
     "output_type": "execute_result"
    }
   ],
   "source": [
    "class Person:\n",
    "    def get_age(self):\n",
    "        pass\n",
    "    name = 'Saeid'\n",
    " \n",
    "person = Person()\n",
    "dir(person)"
   ]
  },
  {
   "cell_type": "code",
   "execution_count": 85,
   "metadata": {},
   "outputs": [
    {
     "name": "stdout",
     "output_type": "stream",
     "text": [
      "['num', 'number_2']\n"
     ]
    }
   ],
   "source": [
    "number = 100\n",
    "\n",
    "def func():\n",
    "    number_2 = 200\n",
    "    num = 500\n",
    "    print(dir())\n",
    " \n",
    "func()"
   ]
  },
  {
   "cell_type": "markdown",
   "metadata": {},
   "source": [
    "# getattr()"
   ]
  },
  {
   "cell_type": "code",
   "execution_count": 87,
   "metadata": {},
   "outputs": [
    {
     "name": "stdout",
     "output_type": "stream",
     "text": [
      "12\n",
      "12\n"
     ]
    }
   ],
   "source": [
    "class A:\n",
    "    def __init__(self, age, name):\n",
    "         self.age = age\n",
    "         self.name = name\n",
    " \n",
    " \n",
    "a = A(12, 'amir')\n",
    "\n",
    "print(getattr(a, 'age'))\n",
    "\n",
    "print(a.age)\n",
    "\n",
    "\n"
   ]
  },
  {
   "cell_type": "code",
   "execution_count": 89,
   "metadata": {},
   "outputs": [
    {
     "ename": "AttributeError",
     "evalue": "'A' object has no attribute 'gender'",
     "output_type": "error",
     "traceback": [
      "\u001b[1;31m---------------------------------------------------------------------------\u001b[0m",
      "\u001b[1;31mAttributeError\u001b[0m                            Traceback (most recent call last)",
      "\u001b[1;32m~\\AppData\\Local\\Temp/ipykernel_21092/4079049879.py\u001b[0m in \u001b[0;36m<module>\u001b[1;34m\u001b[0m\n\u001b[0;32m      1\u001b[0m \u001b[0ms\u001b[0m \u001b[1;33m=\u001b[0m \u001b[0minput\u001b[0m\u001b[1;33m(\u001b[0m\u001b[1;33m)\u001b[0m\u001b[1;33m\u001b[0m\u001b[1;33m\u001b[0m\u001b[0m\n\u001b[1;32m----> 2\u001b[1;33m \u001b[0mprint\u001b[0m\u001b[1;33m(\u001b[0m\u001b[0mgetattr\u001b[0m\u001b[1;33m(\u001b[0m\u001b[0ma\u001b[0m\u001b[1;33m,\u001b[0m \u001b[0ms\u001b[0m\u001b[1;33m)\u001b[0m\u001b[1;33m)\u001b[0m\u001b[1;33m\u001b[0m\u001b[1;33m\u001b[0m\u001b[0m\n\u001b[0m",
      "\u001b[1;31mAttributeError\u001b[0m: 'A' object has no attribute 'gender'"
     ]
    }
   ],
   "source": [
    "s = input()\n",
    "print(getattr(a, s))"
   ]
  },
  {
   "cell_type": "code",
   "execution_count": 90,
   "metadata": {},
   "outputs": [
    {
     "ename": "AttributeError",
     "evalue": "'A' object has no attribute 'gender'",
     "output_type": "error",
     "traceback": [
      "\u001b[1;31m---------------------------------------------------------------------------\u001b[0m",
      "\u001b[1;31mAttributeError\u001b[0m                            Traceback (most recent call last)",
      "\u001b[1;32m~\\AppData\\Local\\Temp/ipykernel_21092/2204406324.py\u001b[0m in \u001b[0;36m<module>\u001b[1;34m\u001b[0m\n\u001b[1;32m----> 1\u001b[1;33m \u001b[0ma\u001b[0m\u001b[1;33m.\u001b[0m\u001b[0mgender\u001b[0m\u001b[1;33m\u001b[0m\u001b[1;33m\u001b[0m\u001b[0m\n\u001b[0m",
      "\u001b[1;31mAttributeError\u001b[0m: 'A' object has no attribute 'gender'"
     ]
    }
   ],
   "source": [
    "a.gender"
   ]
  },
  {
   "cell_type": "code",
   "execution_count": 94,
   "metadata": {},
   "outputs": [
    {
     "name": "stdout",
     "output_type": "stream",
     "text": [
      "<class 'int'>\n",
      "12\n"
     ]
    }
   ],
   "source": [
    "#Default value\n",
    "\n",
    "a = 0\n",
    "print(type(a))\n",
    "print(getattr(a, 'age', 12))"
   ]
  },
  {
   "cell_type": "code",
   "execution_count": 95,
   "metadata": {},
   "outputs": [
    {
     "name": "stdout",
     "output_type": "stream",
     "text": [
      "amir , 12\n"
     ]
    }
   ],
   "source": [
    "class A:\n",
    "     pass\n",
    "\n",
    "a = A()\n",
    "\n",
    "setattr(a, 'name', 'amir')\n",
    "setattr(a, 'age', 12)\n",
    "print(a.name + \" , \" + str(a.age))"
   ]
  },
  {
   "cell_type": "code",
   "execution_count": 96,
   "metadata": {},
   "outputs": [
    {
     "name": "stdout",
     "output_type": "stream",
     "text": [
      "amir\n",
      "12\n",
      "A\n"
     ]
    }
   ],
   "source": [
    "class A:\n",
    "    def __init__(self):\n",
    "        self.attrs = {'name': 'amir', 'age': 12, 'grade': 'A'}\n",
    "\n",
    "    def __getattr__(self, attr):\n",
    "\n",
    "        if attr in self.attrs:\n",
    "            return self.attrs[attr]\n",
    "\n",
    "        def f():\n",
    "            return getattr(self, attr[4:])\n",
    "\n",
    "        return f\n",
    "\n",
    "a = A()\n",
    "\n",
    "print(a.get_name())\n",
    "print(a.get_age())\n",
    "print(a.get_grade())\n"
   ]
  },
  {
   "cell_type": "markdown",
   "metadata": {},
   "source": [
    "# __ str __"
   ]
  },
  {
   "cell_type": "code",
   "execution_count": 102,
   "metadata": {},
   "outputs": [],
   "source": [
    "class Movie:\n",
    "    def __init__(self, name, release_year):\n",
    "        self.name = name\n",
    "        self.release_year = release_year\n",
    "\n",
    "    def __str__(self):\n",
    "        return self.name"
   ]
  },
  {
   "cell_type": "code",
   "execution_count": 109,
   "metadata": {},
   "outputs": [
    {
     "data": {
      "text/plain": [
       "'<__main__.Movie object at 0x0000026F6E01F790>'"
      ]
     },
     "execution_count": 109,
     "metadata": {},
     "output_type": "execute_result"
    }
   ],
   "source": [
    "favorite_movie = Movie('Fight Club', 1999)\n",
    "favorite_movie.__str__()"
   ]
  },
  {
   "cell_type": "code",
   "execution_count": 108,
   "metadata": {},
   "outputs": [
    {
     "data": {
      "text/plain": [
       "<__main__.Movie at 0x26f6e01fe50>"
      ]
     },
     "execution_count": 108,
     "metadata": {},
     "output_type": "execute_result"
    }
   ],
   "source": [
    "favorite_movie"
   ]
  },
  {
   "cell_type": "markdown",
   "metadata": {},
   "source": [
    "# __ lt __"
   ]
  },
  {
   "cell_type": "code",
   "execution_count": 110,
   "metadata": {},
   "outputs": [],
   "source": [
    "class Movie:\n",
    "    def __init__(self, name, release_year):\n",
    "        self.name = name\n",
    "        self.release_year = release_year\n",
    "\n",
    "    def __str__(self):\n",
    "        return self.name\n",
    "\n",
    "    def __lt__(self, other_object):\n",
    "        return self.release_year < other_object.release_year "
   ]
  },
  {
   "cell_type": "code",
   "execution_count": 111,
   "metadata": {},
   "outputs": [
    {
     "data": {
      "text/plain": [
       "True"
      ]
     },
     "execution_count": 111,
     "metadata": {},
     "output_type": "execute_result"
    }
   ],
   "source": [
    "hangover = Movie('Hangover', 2009)\n",
    "se7en = Movie('ُSe7en', 1995)\n",
    "se7en.__lt__(hangover)"
   ]
  },
  {
   "cell_type": "code",
   "execution_count": 112,
   "metadata": {},
   "outputs": [
    {
     "data": {
      "text/plain": [
       "True"
      ]
     },
     "execution_count": 112,
     "metadata": {},
     "output_type": "execute_result"
    }
   ],
   "source": [
    "se7en < hangover"
   ]
  },
  {
   "cell_type": "code",
   "execution_count": 113,
   "metadata": {},
   "outputs": [
    {
     "data": {
      "text/plain": [
       "False"
      ]
     },
     "execution_count": 113,
     "metadata": {},
     "output_type": "execute_result"
    }
   ],
   "source": [
    "hangover.__lt__(se7en)"
   ]
  },
  {
   "cell_type": "code",
   "execution_count": 114,
   "metadata": {},
   "outputs": [
    {
     "data": {
      "text/plain": [
       "False"
      ]
     },
     "execution_count": 114,
     "metadata": {},
     "output_type": "execute_result"
    }
   ],
   "source": [
    "hangover < se7en"
   ]
  },
  {
   "cell_type": "markdown",
   "metadata": {},
   "source": [
    "# __lt__ --> a < b\n",
    "# __gt__ --> a > b\n",
    "# __le__ --> a <= b\n",
    "# __ge__ --> a => b\n",
    "# __eq__ --> a == b\n",
    "# __ne__ --> a != b"
   ]
  },
  {
   "cell_type": "markdown",
   "metadata": {},
   "source": [
    "---\n",
    "\n",
    "---"
   ]
  },
  {
   "cell_type": "markdown",
   "metadata": {},
   "source": [
    "# __ call __"
   ]
  },
  {
   "cell_type": "code",
   "execution_count": 115,
   "metadata": {},
   "outputs": [],
   "source": [
    "class Movie:\n",
    "    def __init__(self, name, release_year):\n",
    "        self.name = name\n",
    "        self.release_year = release_year\n",
    "\n",
    "    def __str__(self):\n",
    "        return self.name\n",
    "\n",
    "    def __lt__(self, other_object):\n",
    "        return self.release_year < other_object.release_year \n",
    "\n",
    "    def __call__(self):\n",
    "        return 'Say Hello to My Little Friend!😈'"
   ]
  },
  {
   "cell_type": "code",
   "execution_count": 116,
   "metadata": {},
   "outputs": [
    {
     "data": {
      "text/plain": [
       "'Say Hello to My Little Friend!😈'"
      ]
     },
     "execution_count": 116,
     "metadata": {},
     "output_type": "execute_result"
    }
   ],
   "source": [
    "scarface = Movie('Scarface', 1983)\n",
    "scarface.__call__()"
   ]
  },
  {
   "cell_type": "code",
   "execution_count": 117,
   "metadata": {},
   "outputs": [
    {
     "data": {
      "text/plain": [
       "'Say Hello to My Little Friend!😈'"
      ]
     },
     "execution_count": 117,
     "metadata": {},
     "output_type": "execute_result"
    }
   ],
   "source": [
    "scarface()"
   ]
  },
  {
   "cell_type": "markdown",
   "metadata": {},
   "source": [
    "# __ add __()"
   ]
  },
  {
   "cell_type": "code",
   "execution_count": 118,
   "metadata": {},
   "outputs": [],
   "source": [
    "class FootballTeam:\n",
    "    def __init__(self, name, cups_number):\n",
    "        self.name = name\n",
    "        self.cups_number = cups_number\n",
    "\n",
    "    def __add__(self, other_object):\n",
    "        return self.cups_number + other_object.cups_number"
   ]
  },
  {
   "cell_type": "code",
   "execution_count": 119,
   "metadata": {},
   "outputs": [
    {
     "data": {
      "text/plain": [
       "11"
      ]
     },
     "execution_count": 119,
     "metadata": {},
     "output_type": "execute_result"
    }
   ],
   "source": [
    "bayern_munich = FootballTeam('FC Bayern Munich', 6)\n",
    "barcelona = FootballTeam('FC Barcelona', 5)\n",
    "bayern_munich.__add__(barcelona)"
   ]
  },
  {
   "cell_type": "code",
   "execution_count": 120,
   "metadata": {},
   "outputs": [
    {
     "data": {
      "text/plain": [
       "11"
      ]
     },
     "execution_count": 120,
     "metadata": {},
     "output_type": "execute_result"
    }
   ],
   "source": [
    "bayern_munich + barcelona"
   ]
  },
  {
   "cell_type": "markdown",
   "metadata": {},
   "source": [
    "# __ len __()"
   ]
  },
  {
   "cell_type": "code",
   "execution_count": 121,
   "metadata": {},
   "outputs": [],
   "source": [
    "class CustomList(list):\n",
    "    def __len__(self):\n",
    "        return len(set(self))"
   ]
  },
  {
   "cell_type": "code",
   "execution_count": 122,
   "metadata": {},
   "outputs": [
    {
     "data": {
      "text/plain": [
       "2"
      ]
     },
     "execution_count": 122,
     "metadata": {},
     "output_type": "execute_result"
    }
   ],
   "source": [
    "my_list = CustomList([1, 1, 1, 1, 1, 684])\n",
    "my_list.__len__()"
   ]
  },
  {
   "cell_type": "code",
   "execution_count": 123,
   "metadata": {},
   "outputs": [
    {
     "data": {
      "text/plain": [
       "2"
      ]
     },
     "execution_count": 123,
     "metadata": {},
     "output_type": "execute_result"
    }
   ],
   "source": [
    "len(my_list)"
   ]
  },
  {
   "cell_type": "markdown",
   "metadata": {},
   "source": [
    "# __ iter __  & __ next __"
   ]
  },
  {
   "cell_type": "code",
   "execution_count": 124,
   "metadata": {},
   "outputs": [
    {
     "data": {
      "text/plain": [
       "<list_iterator at 0x26f6e01d6f0>"
      ]
     },
     "execution_count": 124,
     "metadata": {},
     "output_type": "execute_result"
    }
   ],
   "source": [
    "ls = [1, 2, 3]\n",
    "it = iter(ls)\n",
    "it"
   ]
  },
  {
   "cell_type": "code",
   "execution_count": 125,
   "metadata": {},
   "outputs": [
    {
     "data": {
      "text/plain": [
       "1"
      ]
     },
     "execution_count": 125,
     "metadata": {},
     "output_type": "execute_result"
    }
   ],
   "source": [
    "next(it)"
   ]
  },
  {
   "cell_type": "code",
   "execution_count": 126,
   "metadata": {},
   "outputs": [
    {
     "data": {
      "text/plain": [
       "2"
      ]
     },
     "execution_count": 126,
     "metadata": {},
     "output_type": "execute_result"
    }
   ],
   "source": [
    "next(it)"
   ]
  },
  {
   "cell_type": "code",
   "execution_count": 127,
   "metadata": {},
   "outputs": [
    {
     "data": {
      "text/plain": [
       "3"
      ]
     },
     "execution_count": 127,
     "metadata": {},
     "output_type": "execute_result"
    }
   ],
   "source": [
    "next(it)"
   ]
  },
  {
   "cell_type": "code",
   "execution_count": 128,
   "metadata": {},
   "outputs": [
    {
     "ename": "StopIteration",
     "evalue": "",
     "output_type": "error",
     "traceback": [
      "\u001b[1;31m---------------------------------------------------------------------------\u001b[0m",
      "\u001b[1;31mStopIteration\u001b[0m                             Traceback (most recent call last)",
      "\u001b[1;32m~\\AppData\\Local\\Temp/ipykernel_21092/600241529.py\u001b[0m in \u001b[0;36m<module>\u001b[1;34m\u001b[0m\n\u001b[1;32m----> 1\u001b[1;33m \u001b[0mnext\u001b[0m\u001b[1;33m(\u001b[0m\u001b[0mit\u001b[0m\u001b[1;33m)\u001b[0m\u001b[1;33m\u001b[0m\u001b[1;33m\u001b[0m\u001b[0m\n\u001b[0m",
      "\u001b[1;31mStopIteration\u001b[0m: "
     ]
    }
   ],
   "source": [
    "next(it)"
   ]
  },
  {
   "cell_type": "code",
   "execution_count": 138,
   "metadata": {},
   "outputs": [
    {
     "name": "stdout",
     "output_type": "stream",
     "text": [
      "1 2 3 4 5 6\n",
      "3 1 5 2 6 4\n"
     ]
    }
   ],
   "source": [
    "import random\n",
    "\n",
    "class RandomShuffle:\n",
    "    def __init__(self, data):\n",
    "        self.data = data\n",
    "\n",
    "    def __iter__(self):\n",
    "        return self\n",
    "\n",
    "    def __next__(self):\n",
    "        if len(self.data) == 0:\n",
    "            raise StopIteration\n",
    "\n",
    "        index = random.randint(0, len(self.data)-1)\n",
    "        index = int(index)\n",
    "        return self.data.pop(index)\n",
    "\n",
    "number = [1, 2, 3, 4, 5, 6]\n",
    "number_random = RandomShuffle(number)\n",
    "\n",
    "print(*number)\n",
    "print(*number_random)"
   ]
  },
  {
   "cell_type": "code",
   "execution_count": 13,
   "metadata": {},
   "outputs": [
    {
     "name": "stdout",
     "output_type": "stream",
     "text": [
      "name = Swati, salary = $10000\n"
     ]
    }
   ],
   "source": [
    "class Employee:\n",
    "    def __init__(self):\n",
    "        self.name='Swati'\n",
    "        self.salary=10000\n",
    "    def __str__(self):\n",
    "        return 'name = '+self.name+', salary = $'+str(self.salary)\n",
    "    \n",
    "e1 = Employee()\n",
    "print(e1)"
   ]
  },
  {
   "cell_type": "code",
   "execution_count": 15,
   "metadata": {},
   "outputs": [],
   "source": [
    "class Shape:\n",
    "    \n",
    "    def __init__(self, length, breadth):\n",
    "        self._length = length\n",
    "        self._breadth = breadth\n",
    "        \n",
    "    def displaySides(self):\n",
    "        print(\"Length: \", self._length)\n",
    "        print(\"Breadth: \", self._breadth)\n",
    "        \n",
    "class Rectangle(Shape):\n",
    "    \n",
    "    def __init__(self, length, breadth):\n",
    "        Shape.__init__(self, length, breadth)\n",
    "        \n",
    "    def calculateArea(self):\n",
    "        print(\"Area: \", self._length * self._breadth)\n",
    "\n",
    "obj = Rectangle(80, 50)"
   ]
  },
  {
   "cell_type": "code",
   "execution_count": 16,
   "metadata": {},
   "outputs": [
    {
     "name": "stdout",
     "output_type": "stream",
     "text": [
      "Length:  80\n",
      "Breadth:  50\n"
     ]
    }
   ],
   "source": [
    "obj.displaySides()"
   ]
  },
  {
   "cell_type": "code",
   "execution_count": 17,
   "metadata": {},
   "outputs": [
    {
     "name": "stdout",
     "output_type": "stream",
     "text": [
      "Area:  4000\n"
     ]
    }
   ],
   "source": [
    "obj.calculateArea()"
   ]
  },
  {
   "cell_type": "markdown",
   "metadata": {},
   "source": [
    "# Functions\n",
    "\n",
    "__Before you can understand decorators, you must first understand how functions work.__\n",
    "\n",
    "For our purposes, a function returns a value based on the given arguments"
   ]
  },
  {
   "cell_type": "code",
   "execution_count": null,
   "metadata": {},
   "outputs": [],
   "source": [
    "def add_one(number):\n",
    "     return number + 1\n",
    "\n",
    "add_one(2)"
   ]
  },
  {
   "cell_type": "markdown",
   "metadata": {},
   "source": [
    "__to understand decorators, it is enough to think about functions as something that turns given arguments into a value.__"
   ]
  },
  {
   "cell_type": "markdown",
   "metadata": {},
   "source": [
    "# First-Class Objects\n",
    "\n",
    "__In Python, functions are first-class objects.__\n",
    "\n",
    "This means that functions can be passed around and used as arguments,\n",
    "\n",
    "just like any other object (string, int, float, list, and so on). Consider the following three functions:"
   ]
  },
  {
   "cell_type": "code",
   "execution_count": null,
   "metadata": {},
   "outputs": [],
   "source": [
    "def say_hello(name):\n",
    "    return f\"Hello {name}\"\n",
    "\n",
    "def be_awesome(name):\n",
    "    return f\"Yo {name}, together we are the awesomest!\"\n",
    "\n",
    "def greet_bob(greeter_func):\n",
    "    return greeter_func(\"Bob\")"
   ]
  },
  {
   "cell_type": "markdown",
   "metadata": {},
   "source": [
    "__say_hello() and be_awesome() are regular functions that expect a name given as a string__"
   ]
  },
  {
   "cell_type": "code",
   "execution_count": null,
   "metadata": {},
   "outputs": [],
   "source": [
    "greet_bob(say_hello)"
   ]
  },
  {
   "cell_type": "markdown",
   "metadata": {},
   "source": [
    "__The greet_bob() function however, expects a function as its argument__"
   ]
  },
  {
   "cell_type": "code",
   "execution_count": null,
   "metadata": {},
   "outputs": [],
   "source": [
    "greet_bob(be_awesome)"
   ]
  },
  {
   "cell_type": "markdown",
   "metadata": {},
   "source": [
    "__It’s possible to define functions inside other functions. Such functions are called inner functions. Here’s an example of a function with two inner functions:__"
   ]
  },
  {
   "cell_type": "code",
   "execution_count": null,
   "metadata": {},
   "outputs": [],
   "source": [
    "def parent():\n",
    "    print(\"Printing from the parent() function\")\n",
    "\n",
    "    def first_child():\n",
    "        print(\"Printing from the first_child() function\")\n",
    "\n",
    "    def second_child():\n",
    "        print(\"Printing from the second_child() function\")\n",
    "\n",
    "    second_child()\n",
    "    first_child()"
   ]
  },
  {
   "cell_type": "code",
   "execution_count": null,
   "metadata": {},
   "outputs": [],
   "source": [
    "parent()"
   ]
  },
  {
   "cell_type": "code",
   "execution_count": null,
   "metadata": {},
   "outputs": [],
   "source": [
    "first_child()"
   ]
  },
  {
   "cell_type": "markdown",
   "metadata": {},
   "source": [
    "__They are locally scoped to parent(): they only exist inside the parent() function as local variables__"
   ]
  },
  {
   "cell_type": "markdown",
   "metadata": {},
   "source": [
    "__Now that you’ve seen that functions are just like any other object in Python, you’re ready to move on and see the magical beast that is the Python decorator__"
   ]
  },
  {
   "cell_type": "code",
   "execution_count": null,
   "metadata": {},
   "outputs": [],
   "source": [
    "def my_decorator(func):\n",
    "    def wrapper():\n",
    "        print(\"Something is happening before the function is called.\")\n",
    "        func()\n",
    "        print(\"Something is happening after the function is called.\")\n",
    "    return wrapper\n",
    "\n",
    "def say_whee():\n",
    "    print(\"Whee!\")\n",
    "\n",
    "say_whee = my_decorator(say_whee)"
   ]
  },
  {
   "cell_type": "markdown",
   "metadata": {},
   "source": [
    "__Can you guess what happens when you call say_whee()? Try it:__"
   ]
  },
  {
   "cell_type": "code",
   "execution_count": null,
   "metadata": {},
   "outputs": [],
   "source": [
    "say_whee()"
   ]
  },
  {
   "cell_type": "code",
   "execution_count": null,
   "metadata": {},
   "outputs": [],
   "source": [
    "from datetime import datetime\n",
    "\n",
    "def not_during_the_night(func):\n",
    "    def wrapper():\n",
    "        if 7 <= datetime.now().hour < 22:\n",
    "            func()\n",
    "        else:\n",
    "            pass  # Hush, the neighbors are asleep\n",
    "    return wrapper\n",
    "\n",
    "def say_whee():\n",
    "    print(\"Whee!\")\n",
    "\n",
    "say_whee = not_during_the_night(say_whee)"
   ]
  },
  {
   "cell_type": "code",
   "execution_count": null,
   "metadata": {},
   "outputs": [],
   "source": [
    "say_whee()"
   ]
  },
  {
   "cell_type": "markdown",
   "metadata": {},
   "source": [
    "__Python allows you to use decorators in a simpler way with the @ symbol__"
   ]
  },
  {
   "cell_type": "code",
   "execution_count": null,
   "metadata": {},
   "outputs": [],
   "source": [
    "def my_decorator(func):\n",
    "    def wrapper():\n",
    "        print(\"Something is happening before the function is called.\")\n",
    "        func()\n",
    "        print(\"Something is happening after the function is called.\")\n",
    "    return wrapper\n",
    "\n",
    "@my_decorator\n",
    "def say_whee():\n",
    "    print(\"Whee!\")"
   ]
  },
  {
   "cell_type": "markdown",
   "metadata": {},
   "source": [
    "__So, @my_decorator is just an easier way of saying say_whee = my_decorator(say_whee). It’s how you apply a decorator to a function.__"
   ]
  },
  {
   "cell_type": "code",
   "execution_count": null,
   "metadata": {},
   "outputs": [],
   "source": [
    "say_whee()"
   ]
  },
  {
   "cell_type": "markdown",
   "metadata": {},
   "source": [
    "__** Recall that a decorator is just a regular Python function. All the usual tools for easy reusability are available, Let’s move the decorator to its own module that can be used in many other functions. **__"
   ]
  },
  {
   "cell_type": "code",
   "execution_count": null,
   "metadata": {},
   "outputs": [],
   "source": [
    "def int_check_decorator(f):\n",
    "    def g(x):\n",
    "        if type(x) != int:\n",
    "            raise Exception('argument should be int')\n",
    "        return f(x)\n",
    "    return g\n",
    "\n",
    "def f(a):\n",
    "    return a+a"
   ]
  },
  {
   "cell_type": "code",
   "execution_count": null,
   "metadata": {},
   "outputs": [],
   "source": [
    "example = int_check_decorator(f)\n",
    "\n",
    "print(example('salam'))"
   ]
  },
  {
   "cell_type": "code",
   "execution_count": null,
   "metadata": {},
   "outputs": [],
   "source": [
    "example = int_check_decorator(f)\n",
    "\n",
    "print(example(10))"
   ]
  },
  {
   "cell_type": "code",
   "execution_count": null,
   "metadata": {},
   "outputs": [],
   "source": [
    "def int_check_decorator(f):\n",
    "    def g(x):\n",
    "        if type(x) != int:\n",
    "            raise Exception('argument should be int')\n",
    "        return f(x)\n",
    "    return g\n",
    "\n",
    "@int_check_decorator\n",
    "def f(a):\n",
    "    return a+a"
   ]
  },
  {
   "cell_type": "code",
   "execution_count": null,
   "metadata": {},
   "outputs": [],
   "source": [
    "print(f('salam'))"
   ]
  },
  {
   "cell_type": "code",
   "execution_count": null,
   "metadata": {},
   "outputs": [],
   "source": [
    "print(f(20))"
   ]
  },
  {
   "cell_type": "code",
   "execution_count": null,
   "metadata": {},
   "outputs": [],
   "source": [
    "calls = {}\n",
    "\n",
    "def call_count_decorator(func):\n",
    "\n",
    "    calls[func.__name__] = 0\n",
    "\n",
    "    def ret(*args, **kwargs):\n",
    "        calls[func.__name__] += 1\n",
    "        return func(*args, **kwargs)\n",
    "\n",
    "    return ret\n",
    "\n",
    "@call_count_decorator\n",
    "def f(x):\n",
    "    pass\n",
    "\n",
    "@call_count_decorator\n",
    "def g(x, y):\n",
    "    pass\n",
    "\n",
    "@call_count_decorator\n",
    "def h():\n",
    "    pass\n",
    "\n",
    "f(1)\n",
    "f('a')\n",
    "f('salam')\n",
    "\n",
    "g(1, 2)\n",
    "g(2, 2)\n",
    "\n",
    "h()\n",
    "h()\n",
    "\n",
    "for k, v in calls.items():\n",
    "    print(k + \": \" + str(v))"
   ]
  },
  {
   "cell_type": "markdown",
   "metadata": {},
   "source": [
    "__ورودی دادن به decorator__"
   ]
  },
  {
   "cell_type": "code",
   "execution_count": null,
   "metadata": {},
   "outputs": [],
   "source": [
    "def decorator_builder(check_class):\n",
    "    def type_checker(func):\n",
    "        def ret(x):\n",
    "            if not isinstance(x, check_class):\n",
    "                return \"Argument must be \" + check_class.__name__\n",
    "            else:\n",
    "                return func(x)\n",
    "        return ret\n",
    "    return type_checker\n",
    "\n",
    "@decorator_builder(int)\n",
    "def f(x):\n",
    "    return 2**x\n",
    "\n",
    "@decorator_builder(type(\"salam\"))\n",
    "def g(x):\n",
    "    return x + \" khoobi?\"\n",
    "\n",
    "print(f('salam'))\n",
    "\n",
    "print(f(1))"
   ]
  },
  {
   "cell_type": "code",
   "execution_count": null,
   "metadata": {},
   "outputs": [],
   "source": [
    "print(g('salam'))\n",
    "print(g(1))"
   ]
  },
  {
   "cell_type": "code",
   "execution_count": null,
   "metadata": {},
   "outputs": [],
   "source": [
    "#در واقع استفاده از این دکوراتور بدون @ مطابق زیر است\n",
    "print(\"form2:\")\n",
    "decorator = decorator_builder(int)\n",
    "f = decorator(f)\n",
    "print(f(\"salam\"))\n",
    "print(\"form3:\")\n",
    "#و یا به شکل زیر\n",
    "print(decorator_builder(int)(f)(\"salam\"))"
   ]
  },
  {
   "cell_type": "code",
   "execution_count": null,
   "metadata": {},
   "outputs": [],
   "source": [
    "class decorator:\n",
    "\n",
    "    def __init__(self, msg):\n",
    "        self.msg = msg\n",
    "\n",
    "    def __call__(self, func):\n",
    "        def ret():\n",
    "            print(self.msg)\n",
    "            return func()\n",
    "        return ret\n",
    "\n",
    "\n",
    "@decorator('hello')\n",
    "def g():\n",
    "    print(\"How are you?\")\n",
    "\n",
    "g()\n"
   ]
  }
 ],
 "metadata": {
  "kernelspec": {
   "display_name": "Python 3.11.0 64-bit",
   "language": "python",
   "name": "python3"
  },
  "language_info": {
   "codemirror_mode": {
    "name": "ipython",
    "version": 3
   },
   "file_extension": ".py",
   "mimetype": "text/x-python",
   "name": "python",
   "nbconvert_exporter": "python",
   "pygments_lexer": "ipython3",
   "version": "3.11.0"
  },
  "orig_nbformat": 4,
  "vscode": {
   "interpreter": {
    "hash": "4bb605657835c542d08082fe69840949598d8fca054fb5ddb49badec80e21e1f"
   }
  }
 },
 "nbformat": 4,
 "nbformat_minor": 2
}
