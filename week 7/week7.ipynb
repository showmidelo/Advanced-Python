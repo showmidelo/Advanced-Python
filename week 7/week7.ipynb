{
 "cells": [
  {
   "cell_type": "code",
   "execution_count": 10,
   "metadata": {},
   "outputs": [
    {
     "data": {
      "text/plain": [
       "1"
      ]
     },
     "execution_count": 10,
     "metadata": {},
     "output_type": "execute_result"
    }
   ],
   "source": [
    "class Dog:\n",
    "    def __init__(self,breed,color,name):\n",
    "        self.breed = breed\n",
    "        self.color = color\n",
    "        self.name = name\n",
    "\n",
    "class Popy(Dog):\n",
    "    def __init__(self, breed, color, name,age,health):\n",
    "        super().__init__(breed, color, name)\n",
    "        self.age = age\n",
    "        self.health = health\n",
    "\n",
    "jojo = Popy(\"husky\",\"Red\",\"jojo\",1,\"well\")\n",
    "jojo.age\n",
    "        "
   ]
  }
 ],
 "metadata": {
  "kernelspec": {
   "display_name": "Python 3.10.6 ('VSC')",
   "language": "python",
   "name": "python3"
  },
  "language_info": {
   "codemirror_mode": {
    "name": "ipython",
    "version": 3
   },
   "file_extension": ".py",
   "mimetype": "text/x-python",
   "name": "python",
   "nbconvert_exporter": "python",
   "pygments_lexer": "ipython3",
   "version": "3.10.6"
  },
  "orig_nbformat": 4,
  "vscode": {
   "interpreter": {
    "hash": "979abc721f0ff4877b4ce02fb00342094c8ee8ed54bddb360df681a949adac0c"
   }
  }
 },
 "nbformat": 4,
 "nbformat_minor": 2
}
