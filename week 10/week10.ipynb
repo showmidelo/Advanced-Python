{
 "cells": [
  {
   "cell_type": "markdown",
   "metadata": {},
   "source": [
    "# Event class\n",
    "\n",
    "**An event is a simple concurrency primitive that allows communication between threads**\n",
    "\n",
    "*This is one of the simplest mechanisms for communication between threads: one thread signals an event and other threads wait for it.*"
   ]
  },
  {
   "cell_type": "markdown",
   "metadata": {},
   "source": []
  },
  {
   "cell_type": "code",
   "execution_count": null,
   "metadata": {},
   "outputs": [],
   "source": [
    "from threading import Thread, Event, currentThread\n",
    "\n",
    "import time\n",
    "\n",
    "def f(e):\n",
    "    print('{} is waiting for event.'.format(currentThread().getName()))\n",
    "    value = e.wait()\n",
    "    print('{} finished waiting.'.format(currentThread().getName()))\n",
    "\n",
    "def g(e):\n",
    "    time.sleep(1)\n",
    "    print('{} sets the event.'.format(currentThread().getName()))\n",
    "    e.set()\n",
    "\n",
    "e = Event()"
   ]
  },
  {
   "cell_type": "markdown",
   "metadata": {},
   "source": [
    "# **e.wait()**\n",
    "It locks current thread and wait for e.set() to be called.\n",
    "\n",
    "# **e.set()**\n",
    "It sets free current thread and continue its job"
   ]
  },
  {
   "cell_type": "code",
   "execution_count": null,
   "metadata": {},
   "outputs": [],
   "source": [
    "t = Thread(name='t', target=f, args=(e,))\n",
    "s = Thread(name='s', target=g, args=(e,))\n",
    "\n",
    "t.start()\n",
    "s.start()"
   ]
  },
  {
   "cell_type": "markdown",
   "metadata": {},
   "source": [
    "# **Event.wait() has a \"time out\" argument which has two condition for itself**\n",
    "\n",
    "*First one, As we saw it waits for set function to be called and after that it set True value for wait function and continue its job*\n",
    "\n",
    "*Second one, If the timeout value is much more than the value we set in e.wait() function it set False value for wait function and somehow ignore it.*"
   ]
  },
  {
   "cell_type": "code",
   "execution_count": null,
   "metadata": {},
   "outputs": [],
   "source": [
    "from threading import Thread, Event, currentThread\n",
    "\n",
    "import time\n",
    "\n",
    "def f(e):\n",
    "    print('{} is waiting for event.'.format(currentThread().getName()))\n",
    "    value = e.wait(2)\n",
    "    if value:\n",
    "        print('other thread set the event')\n",
    "    else:\n",
    "        print('timeout finished')\n",
    "\n",
    "def g(e, t):\n",
    "    time.sleep(t)\n",
    "    e.set()\n",
    "    print('{} set the event.'.format(currentThread().getName()))"
   ]
  },
  {
   "cell_type": "code",
   "execution_count": null,
   "metadata": {},
   "outputs": [],
   "source": [
    "#timeout check\n",
    "\n",
    "e = Event()\n",
    "\n",
    "t = Thread(name='t', target=f, args=(e,))\n",
    "s = Thread(name='s', target=g, args=(e,3))\n",
    "\n",
    "t.start()\n",
    "s.start()\n",
    "\n",
    "t.join()\n",
    "print('event value is {}'.format(e.isSet()))\n",
    "s.join()"
   ]
  },
  {
   "cell_type": "markdown",
   "metadata": {},
   "source": [
    "*Don't forget with **e.clear()** we could change the condition for thread to its default*\n",
    "\n",
    "And **e.isSet()** return True if e.wait() value has been True."
   ]
  },
  {
   "cell_type": "code",
   "execution_count": null,
   "metadata": {},
   "outputs": [],
   "source": [
    "#regular check\n",
    "\n",
    "e.clear()\n",
    "\n",
    "t = Thread(name='t', target=f, args=(e,))\n",
    "s = Thread(name='s', target=g, args=(e,1))\n",
    "\n",
    "t.start()\n",
    "s.start()\n",
    "\n",
    "t.join()\n",
    "print('event value is {}'.format(e.isSet()))\n",
    "s.join()"
   ]
  },
  {
   "cell_type": "markdown",
   "metadata": {},
   "source": [
    "# Lock Class\n",
    "\n",
    "This lock helps us in the synchronization of two or more threads. Lock class perhaps provides the simplest synchronization primitive in Python."
   ]
  },
  {
   "cell_type": "markdown",
   "metadata": {},
   "source": [
    "** Any Lock object has two conditon: **\n",
    "\n",
    "1. *Locked* \n",
    "2. *Unlocked*"
   ]
  },
  {
   "cell_type": "markdown",
   "metadata": {},
   "source": [
    "**By calling acquire() function one these two happens:**\n",
    "\n",
    "1. If the object is locked it(thread) waits for object to be unlocked and after that it locks the object and continue its job.\n",
    "2. But if the object is unlocked after calling function Lock function it locks and thread continue its job."
   ]
  },
  {
   "cell_type": "markdown",
   "metadata": {},
   "source": [
    "**For locking an object you can use release() function but pay attention if your object is locked before calling release function it return Error.**"
   ]
  },
  {
   "cell_type": "code",
   "execution_count": null,
   "metadata": {},
   "outputs": [],
   "source": [
    "from threading import Thread, Lock\n",
    "\n",
    "class Counter:\n",
    "    def __init__(self):\n",
    "        self.lock = Lock()\n",
    "        self.value = 0\n",
    "\n",
    "    def increment(self):\n",
    "        self.lock.acquire()\n",
    "        self.value += 1\n",
    "        self.lock.release()\n",
    "\n",
    "def f():\n",
    "    global counter\n",
    "    for i in range(200000):\n",
    "        counter.increment()\n",
    "\n",
    "def test():\n",
    "    global counter\n",
    "    counter = Counter()\n",
    "\n",
    "    t = Thread(target=f)\n",
    "    s = Thread(target=f)\n",
    "\n",
    "    t.start()\n",
    "    s.start()\n",
    "\n",
    "    t.join()\n",
    "    s.join()\n",
    "\n",
    "for i in range(1, 5):\n",
    "    test()\n",
    "    print(\"in test {}: value of a is {} and must be {}\".format(i, counter.value, 200000*2))"
   ]
  },
  {
   "cell_type": "markdown",
   "metadata": {},
   "source": [
    "---\n",
    "\n",
    "---\n",
    "\n",
    "---"
   ]
  },
  {
   "cell_type": "markdown",
   "metadata": {},
   "source": [
    "# **PYGAME**"
   ]
  },
  {
   "cell_type": "code",
   "execution_count": null,
   "metadata": {},
   "outputs": [],
   "source": [
    "import pygame"
   ]
  },
  {
   "cell_type": "code",
   "execution_count": null,
   "metadata": {},
   "outputs": [],
   "source": [
    "pygame.init() # start pygame\n",
    "\n",
    "screen = pygame.display.set_mode((400, 600)) # set x,y for display\n",
    "\n",
    "print(type(screen)) #checking screen type\n",
    "\n",
    "while True:\n",
    "    pygame.event.pump()"
   ]
  },
  {
   "cell_type": "code",
   "execution_count": null,
   "metadata": {},
   "outputs": [],
   "source": [
    "pygame.display.quit()"
   ]
  },
  {
   "cell_type": "code",
   "execution_count": null,
   "metadata": {},
   "outputs": [],
   "source": [
    "pygame.init()\n",
    "\n",
    "screen = pygame.display.set_mode((200, 200))\n",
    "\n",
    "pygame.display.set_caption(\"test window\") # set a caption for display\n",
    "\n",
    "red = (255, 0, 0)\n",
    "blue = (0, 0, 255)\n",
    "\n",
    "turn = 0\n",
    "while True:\n",
    "    pygame.event.pump()\n",
    "\n",
    "    if turn == 0:\n",
    "        screen.fill(red)\n",
    "    else:\n",
    "        screen.fill(blue)\n",
    "    turn = 1 - turn\n",
    "    pygame.display.update()\n",
    "    pygame.time.delay(200)"
   ]
  },
  {
   "cell_type": "code",
   "execution_count": null,
   "metadata": {},
   "outputs": [],
   "source": [
    "pygame.display.quit()"
   ]
  },
  {
   "cell_type": "markdown",
   "metadata": {},
   "source": [
    "# **Drawing things with pygames**"
   ]
  },
  {
   "cell_type": "code",
   "execution_count": null,
   "metadata": {},
   "outputs": [],
   "source": [
    "type(pygame.draw)"
   ]
  },
  {
   "cell_type": "code",
   "execution_count": null,
   "metadata": {},
   "outputs": [],
   "source": [
    "dir(pygame.draw)"
   ]
  },
  {
   "cell_type": "markdown",
   "metadata": {},
   "source": [
    "## **Line**"
   ]
  },
  {
   "cell_type": "code",
   "execution_count": null,
   "metadata": {},
   "outputs": [],
   "source": [
    "import pygame\n",
    "\n",
    "from math import pi\n",
    "\n",
    "pygame.init()\n",
    "\n",
    "screen = pygame.display.set_mode((800, 600))\n",
    "\n",
    "red = (255, 0, 0)\n",
    "\n",
    "blue = (0, 0, 255)\n",
    "\n",
    "green = (0, 255, 0)\n",
    "\n",
    "gray = (128, 128, 128)\n",
    "\n",
    "screen.fill(gray)\n",
    "\n",
    "pygame.draw.line(screen, green, (300, 300), (600, 400))\n",
    "\n",
    "pygame.display.update()\n",
    "\n",
    "while True:\n",
    "\n",
    "    pygame.event.pump()"
   ]
  },
  {
   "cell_type": "markdown",
   "metadata": {},
   "source": [
    "# **Circle**"
   ]
  },
  {
   "cell_type": "code",
   "execution_count": null,
   "metadata": {},
   "outputs": [],
   "source": [
    "import pygame\n",
    "\n",
    "from math import pi\n",
    "\n",
    "pygame.init()\n",
    "\n",
    "screen = pygame.display.set_mode((800, 600))\n",
    "\n",
    "red = (255, 0, 0)\n",
    "\n",
    "blue = (0, 0, 255)\n",
    "\n",
    "green = (0, 255, 0)\n",
    "\n",
    "gray = (128, 128, 128)\n",
    "\n",
    "screen.fill(gray)\n",
    "\n",
    "pygame.draw.circle(screen, green, (200, 200), 20)\n",
    "\n",
    "pygame.display.update()\n",
    "\n",
    "while True:\n",
    "\n",
    "    pygame.event.pump()"
   ]
  },
  {
   "cell_type": "markdown",
   "metadata": {},
   "source": [
    "# **Rectangle**"
   ]
  },
  {
   "cell_type": "code",
   "execution_count": null,
   "metadata": {},
   "outputs": [],
   "source": [
    "import pygame\n",
    "\n",
    "from math import pi\n",
    "\n",
    "pygame.init()\n",
    "\n",
    "screen = pygame.display.set_mode((800, 600))\n",
    "\n",
    "red = (255, 0, 0)\n",
    "\n",
    "blue = (0, 0, 255)\n",
    "\n",
    "green = (0, 255, 0)\n",
    "\n",
    "gray = (128, 128, 128)\n",
    "\n",
    "screen.fill(gray)\n",
    "\n",
    "pygame.draw.rect(screen, blue, (400, 400, 30, 80))\n",
    "\n",
    "pygame.display.update()\n",
    "\n",
    "while True:\n",
    "\n",
    "    pygame.event.pump()"
   ]
  },
  {
   "cell_type": "markdown",
   "metadata": {},
   "source": [
    "# **Eclipse**"
   ]
  },
  {
   "cell_type": "code",
   "execution_count": null,
   "metadata": {},
   "outputs": [],
   "source": [
    "import pygame\n",
    "\n",
    "from math import pi\n",
    "\n",
    "pygame.init()\n",
    "\n",
    "screen = pygame.display.set_mode((800, 600))\n",
    "\n",
    "red = (255, 0, 0)\n",
    "\n",
    "blue = (0, 0, 255)\n",
    "\n",
    "green = (0, 255, 0)\n",
    "\n",
    "gray = (128, 128, 128)\n",
    "\n",
    "screen.fill(gray)\n",
    "\n",
    "pygame.draw.ellipse(screen, blue, (450, 450, 100, 50))\n",
    "\n",
    "pygame.display.update()\n",
    "\n",
    "while True:\n",
    "\n",
    "    pygame.event.pump()"
   ]
  },
  {
   "cell_type": "markdown",
   "metadata": {},
   "source": [
    "# **polygon**"
   ]
  },
  {
   "cell_type": "code",
   "execution_count": null,
   "metadata": {},
   "outputs": [],
   "source": [
    "import pygame\n",
    "\n",
    "from math import pi\n",
    "\n",
    "pygame.init()\n",
    "\n",
    "screen = pygame.display.set_mode((800, 600))\n",
    "\n",
    "red = (255, 0, 0)\n",
    "\n",
    "blue = (0, 0, 255)\n",
    "\n",
    "green = (0, 255, 0)\n",
    "\n",
    "gray = (128, 128, 128)\n",
    "\n",
    "screen.fill(gray)\n",
    "\n",
    "pygame.draw.polygon(screen, green, [(700, 500), (600, 500), (550, 450), (650, 440)])\n",
    "\n",
    "pygame.display.update()\n",
    "\n",
    "while True:\n",
    "\n",
    "    pygame.event.pump()"
   ]
  },
  {
   "cell_type": "markdown",
   "metadata": {},
   "source": [
    "# **Lines**"
   ]
  },
  {
   "cell_type": "code",
   "execution_count": null,
   "metadata": {},
   "outputs": [],
   "source": [
    "import pygame\n",
    "\n",
    "from math import pi\n",
    "\n",
    "pygame.init()\n",
    "\n",
    "screen = pygame.display.set_mode((800, 600))\n",
    "\n",
    "red = (255, 0, 0)\n",
    "\n",
    "blue = (0, 0, 255)\n",
    "\n",
    "green = (0, 255, 0)\n",
    "\n",
    "gray = (128, 128, 128)\n",
    "\n",
    "screen.fill(gray)\n",
    "\n",
    "pygame.draw.lines(screen, green, True, [(700, 200), (600, 200), (550, 150), (650, 140)])\n",
    "\n",
    "pygame.draw.lines(screen, green, False, [(700, 350), (600, 350), (550, 300), (650, 290)])\n",
    "\n",
    "pygame.display.update()\n",
    "\n",
    "while True:\n",
    "\n",
    "    pygame.event.pump()"
   ]
  },
  {
   "cell_type": "markdown",
   "metadata": {},
   "source": [
    "# **Arc of Circle**"
   ]
  },
  {
   "cell_type": "code",
   "execution_count": null,
   "metadata": {},
   "outputs": [],
   "source": [
    "import pygame\n",
    "\n",
    "from math import pi\n",
    "\n",
    "pygame.init()\n",
    "\n",
    "screen = pygame.display.set_mode((800, 600))\n",
    "\n",
    "red = (255, 0, 0)\n",
    "\n",
    "blue = (0, 0, 255)\n",
    "\n",
    "green = (0, 255, 0)\n",
    "\n",
    "gray = (128, 128, 128)\n",
    "\n",
    "screen.fill(gray)\n",
    "\n",
    "pygame.draw.arc(screen, green,  (210, 75, 150, 125), 3*pi/2, 2*pi)\n",
    "\n",
    "pygame.display.update()\n",
    "\n",
    "while True:\n",
    "\n",
    "    pygame.event.pump()"
   ]
  },
  {
   "cell_type": "code",
   "execution_count": null,
   "metadata": {},
   "outputs": [],
   "source": [
    "import pygame\n",
    "\n",
    "from math import pi\n",
    "\n",
    "pygame.init()\n",
    "\n",
    "screen = pygame.display.set_mode((800, 600))\n",
    "\n",
    "red = (255, 0, 0)\n",
    "\n",
    "blue = (0, 0, 255)\n",
    "\n",
    "green = (0, 255, 0)\n",
    "\n",
    "gray = (128, 128, 128)\n",
    "\n",
    "screen.fill(gray)\n",
    "\n",
    "pygame.draw.rect(screen, green, (210, 75, 150, 125))\n",
    "\n",
    "pygame.draw.arc(screen, red,  (210, 75, 150, 125), 3*pi/2, 2*pi)\n",
    "\n",
    "pygame.display.update()\n",
    "\n",
    "while True:\n",
    "\n",
    "    pygame.event.pump()"
   ]
  },
  {
   "cell_type": "code",
   "execution_count": null,
   "metadata": {},
   "outputs": [],
   "source": [
    "import pygame\n",
    "\n",
    "from math import pi\n",
    "\n",
    "pygame.init()\n",
    "\n",
    "screen = pygame.display.set_mode((800, 600))\n",
    "\n",
    "red = (252.2, 0, 0)\n",
    "\n",
    "blue = (0, 0, 255)\n",
    "\n",
    "amber = (100, 75, 0)\n",
    "\n",
    "aqua = (0, 100, 100)\n",
    "\n",
    "bittersweet = (100, 44, 37)\n",
    "\n",
    "green = (0, 255, 0)\n",
    "\n",
    "aero_blue = (75, 91, 84)\n",
    "\n",
    "gray = (128, 128, 128)\n",
    "\n",
    "screen.fill(gray)\n",
    "\n",
    "pygame.draw.line(screen, red, (300.4, 300), (600, 400), 10)\n",
    "\n",
    "pygame.draw.circle(screen, amber, (200, 200), 20, 6)\n",
    "\n",
    "pygame.draw.rect(screen, blue, (400, 400, 30, 80), 20)\n",
    "\n",
    "pygame.draw.ellipse(screen, aqua, (450, 450, 100, 50), 10)\n",
    "\n",
    "pygame.draw.polygon(screen, bittersweet, [(700, 500), (600, 500), (550, 450), (650, 440)], 10)\n",
    "\n",
    "pygame.draw.lines(screen, green, True, [(700, 200), (600, 200), (550, 150), (650, 140)], 20)\n",
    "\n",
    "pygame.draw.lines(screen, green, False, [(700, 350), (600, 350), (550, 300), (650, 290)], 30)\n",
    "\n",
    "pygame.draw.arc(screen, aero_blue,  (210, 75, 150, 125), 3*pi/2, 2*pi, 25)\n",
    "\n",
    "pygame.display.update()\n",
    "\n",
    "while True:\n",
    "\n",
    "    pygame.event.pump()"
   ]
  },
  {
   "cell_type": "code",
   "execution_count": null,
   "metadata": {},
   "outputs": [],
   "source": [
    "pygame.display.quit()"
   ]
  },
  {
   "cell_type": "markdown",
   "metadata": {},
   "source": [
    "---\n",
    "\n",
    "---"
   ]
  },
  {
   "cell_type": "code",
   "execution_count": null,
   "metadata": {},
   "outputs": [],
   "source": [
    "type(pygame.image)"
   ]
  },
  {
   "cell_type": "code",
   "execution_count": null,
   "metadata": {},
   "outputs": [],
   "source": [
    "dir(pygame.image)"
   ]
  },
  {
   "cell_type": "markdown",
   "metadata": {},
   "source": [
    "# **Image Loading in pygame**"
   ]
  },
  {
   "cell_type": "code",
   "execution_count": null,
   "metadata": {},
   "outputs": [],
   "source": [
    "import pygame\n",
    "import io\n",
    "from urllib.request import urlopen\n",
    "\n",
    "image_url = \"https://quera.ir/qbox/download/eNMBb8SFlH/sq.png\"\n",
    "image_str = urlopen(image_url).read()\n",
    "# create a file object (stream)\n",
    "image_file = io.BytesIO(image_str)\n",
    "\n",
    "\n",
    "\n",
    "img = pygame.image.load(image_file)\n",
    "white = (255, 255, 255)\n",
    "screen = pygame.display.set_mode((640, 480))\n",
    "screen.fill(white)\n",
    "\n",
    "x, y = 0, 0\n",
    "\n",
    "while True:\n",
    "    screen.fill(white)\n",
    "    screen.blit(img,(x, y)) # showing image in display\n",
    "    x, y = x + 1, y + 1\n",
    "    pygame.display.update()\n",
    "    pygame.time.delay(10)\n",
    "    pygame.event.pump()"
   ]
  },
  {
   "cell_type": "code",
   "execution_count": null,
   "metadata": {},
   "outputs": [],
   "source": [
    "pygame.display.quit()"
   ]
  },
  {
   "cell_type": "markdown",
   "metadata": {},
   "source": [
    "# **Saving an image** "
   ]
  },
  {
   "cell_type": "code",
   "execution_count": null,
   "metadata": {},
   "outputs": [],
   "source": [
    "dx, dy = map(int, input().split())\n",
    "t = int(input())\n",
    "\n",
    "import pygame\n",
    "import io\n",
    "from urllib.request import urlopen\n",
    "\n",
    "image_url = \"https://quera.ir/qbox/download/eNMBb8SFlH/sq.png\"\n",
    "image_str = urlopen(image_url).read()\n",
    "# create a file object (stream)\n",
    "image_file = io.BytesIO(image_str)\n",
    "\n",
    "\n",
    "img = pygame.image.load(image_file)\n",
    "\n",
    "white = (255, 255, 255)\n",
    "screen = pygame.display.set_mode((640, 480))\n",
    "screen.fill(white)\n",
    "\n",
    "x, y = 0, 0\n",
    "\n",
    "for i in range(t):\n",
    "    screen.fill(white)\n",
    "    screen.blit(img,(x , y))\n",
    "    x, y = x + dx, y + dy\n",
    "\n",
    "pygame.image.save(screen, 'out.png')"
   ]
  },
  {
   "cell_type": "code",
   "execution_count": null,
   "metadata": {},
   "outputs": [],
   "source": [
    "%pwd"
   ]
  },
  {
   "cell_type": "markdown",
   "metadata": {},
   "source": [
    "# **Convert an image to String and converting string to an image**"
   ]
  },
  {
   "cell_type": "code",
   "execution_count": null,
   "metadata": {},
   "outputs": [],
   "source": [
    "import pygame\n",
    "import io\n",
    "from urllib.request import urlopen\n",
    "\n",
    "image_url = \"https://quera.ir/qbox/download/eNMBb8SFlH/sq.png\"\n",
    "image_str = urlopen(image_url).read()\n",
    "# create a file object (stream)\n",
    "image_file = io.BytesIO(image_str)\n",
    "\n",
    "\n",
    "img = pygame.image.load(image_file)\n",
    "\n",
    "size = img.get_rect().size\n",
    "\n",
    "pic_string = pygame.image.tostring(img, 'RGB') #RGB OR RGBA\n",
    "print(type(pic_string))"
   ]
  },
  {
   "cell_type": "code",
   "execution_count": null,
   "metadata": {},
   "outputs": [],
   "source": [
    "img2 = pygame.image.fromstring(pic_string, size, 'RGB')\n",
    "\n",
    "pygame.image.save(img2, 'out.png')"
   ]
  }
 ],
 "metadata": {
  "kernelspec": {
   "display_name": "Python 3.8.7 64-bit",
   "language": "python",
   "name": "python3"
  },
  "language_info": {
   "codemirror_mode": {
    "name": "ipython",
    "version": 3
   },
   "file_extension": ".py",
   "mimetype": "text/x-python",
   "name": "python",
   "nbconvert_exporter": "python",
   "pygments_lexer": "ipython3",
   "version": "3.8.7"
  },
  "orig_nbformat": 4,
  "vscode": {
   "interpreter": {
    "hash": "d8d9e0bc7b34cf7ab1924aec9d18d3cb0b7fd4ce31c6edca23e1ebbead747e98"
   }
  }
 },
 "nbformat": 4,
 "nbformat_minor": 2
}
