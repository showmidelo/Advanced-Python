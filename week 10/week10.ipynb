{
 "cells": [
  {
   "cell_type": "markdown",
   "metadata": {},
   "source": [
    "# Event class\n",
    "\n",
    "**An event is a simple concurrency primitive that allows communication between threads**\n",
    "\n",
    "*This is one of the simplest mechanisms for communication between threads: one thread signals an event and other threads wait for it.*"
   ]
  },
  {
   "cell_type": "markdown",
   "metadata": {},
   "source": []
  },
  {
   "cell_type": "code",
   "execution_count": 2,
   "metadata": {},
   "outputs": [],
   "source": [
    "from threading import Thread, Event, currentThread\n",
    "\n",
    "import time\n",
    "\n",
    "def f(e):\n",
    "    print('{} is waiting for event.'.format(currentThread().getName()))\n",
    "    value = e.wait()\n",
    "    print('{} finished waiting.'.format(currentThread().getName()))\n",
    "\n",
    "def g(e):\n",
    "    time.sleep(1)\n",
    "    print('{} sets the event.'.format(currentThread().getName()))\n",
    "    e.set()\n",
    "\n",
    "e = Event()"
   ]
  },
  {
   "cell_type": "markdown",
   "metadata": {},
   "source": [
    "# **e.wait()**\n",
    "It locks current thread and wait for e.set() to be called.\n",
    "\n",
    "# **e.set()**\n",
    "It sets free current thread and continue its job"
   ]
  },
  {
   "cell_type": "code",
   "execution_count": 3,
   "metadata": {},
   "outputs": [
    {
     "name": "stdout",
     "output_type": "stream",
     "text": [
      "t is waiting for event.\n"
     ]
    },
    {
     "name": "stdout",
     "output_type": "stream",
     "text": [
      "s sets the event.\n",
      "t finished waiting.\n"
     ]
    }
   ],
   "source": [
    "t = Thread(name='t', target=f, args=(e,))\n",
    "s = Thread(name='s', target=g, args=(e,))\n",
    "\n",
    "t.start()\n",
    "s.start()"
   ]
  },
  {
   "cell_type": "markdown",
   "metadata": {},
   "source": [
    "# **Event.wait() has a \"time out\" argument which has two condition for itself**\n",
    "\n",
    "*First one, As we saw it waits for set function to be called and after that it set True value for wait function and continue its job*\n",
    "\n",
    "*Second one, If the timeout value is much more than the value we set in e.wait() function it set False value for wait function and somehow ignore it.*"
   ]
  },
  {
   "cell_type": "code",
   "execution_count": 6,
   "metadata": {},
   "outputs": [],
   "source": [
    "from threading import Thread, Event, currentThread\n",
    "\n",
    "import time\n",
    "\n",
    "def f(e):\n",
    "    print('{} is waiting for event.'.format(currentThread().getName()))\n",
    "    value = e.wait(2)\n",
    "    if value:\n",
    "        print('other thread set the event')\n",
    "    else:\n",
    "        print('timeout finished')\n",
    "\n",
    "def g(e, t):\n",
    "    time.sleep(t)\n",
    "    e.set()\n",
    "    print('{} set the event.'.format(currentThread().getName()))"
   ]
  },
  {
   "cell_type": "code",
   "execution_count": 5,
   "metadata": {},
   "outputs": [
    {
     "name": "stdout",
     "output_type": "stream",
     "text": [
      "t is waiting for event.\n",
      "timeout finished\n",
      "event value is False\n",
      "s set the event.\n"
     ]
    }
   ],
   "source": [
    "#timeout check\n",
    "\n",
    "e = Event()\n",
    "\n",
    "t = Thread(name='t', target=f, args=(e,))\n",
    "s = Thread(name='s', target=g, args=(e,3))\n",
    "\n",
    "t.start()\n",
    "s.start()\n",
    "\n",
    "t.join()\n",
    "print('event value is {}'.format(e.isSet()))\n",
    "s.join()"
   ]
  },
  {
   "cell_type": "markdown",
   "metadata": {},
   "source": [
    "*Don't forget with **e.clear()** we could change the condition for thread to its default*\n",
    "\n",
    "And **e.isSet()** return True if e.wait() value has been True."
   ]
  },
  {
   "cell_type": "code",
   "execution_count": 7,
   "metadata": {},
   "outputs": [
    {
     "name": "stdout",
     "output_type": "stream",
     "text": [
      "t is waiting for event.\n",
      "s set the event.other thread set the event\n",
      "\n",
      "event value is True\n"
     ]
    }
   ],
   "source": [
    "#regular check\n",
    "\n",
    "e.clear()\n",
    "\n",
    "t = Thread(name='t', target=f, args=(e,))\n",
    "s = Thread(name='s', target=g, args=(e,1))\n",
    "\n",
    "t.start()\n",
    "s.start()\n",
    "\n",
    "t.join()\n",
    "print('event value is {}'.format(e.isSet()))\n",
    "s.join()"
   ]
  }
 ],
 "metadata": {
  "kernelspec": {
   "display_name": "Python 3.8.7 64-bit",
   "language": "python",
   "name": "python3"
  },
  "language_info": {
   "codemirror_mode": {
    "name": "ipython",
    "version": 3
   },
   "file_extension": ".py",
   "mimetype": "text/x-python",
   "name": "python",
   "nbconvert_exporter": "python",
   "pygments_lexer": "ipython3",
   "version": "3.8.7"
  },
  "orig_nbformat": 4,
  "vscode": {
   "interpreter": {
    "hash": "d8d9e0bc7b34cf7ab1924aec9d18d3cb0b7fd4ce31c6edca23e1ebbead747e98"
   }
  }
 },
 "nbformat": 4,
 "nbformat_minor": 2
}
