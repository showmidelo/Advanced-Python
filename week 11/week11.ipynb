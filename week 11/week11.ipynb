{
 "cells": [
  {
   "cell_type": "markdown",
   "metadata": {},
   "source": [
    "# **Event class**"
   ]
  },
  {
   "cell_type": "code",
   "execution_count": null,
   "metadata": {},
   "outputs": [],
   "source": [
    "import pygame"
   ]
  },
  {
   "cell_type": "markdown",
   "metadata": {},
   "source": [
    "## **ًQuit**"
   ]
  },
  {
   "cell_type": "code",
   "execution_count": null,
   "metadata": {},
   "outputs": [],
   "source": [
    "import pygame\n",
    "\n",
    "pygame.init()\n",
    "screen = pygame.display.set_mode((800, 600))\n",
    "blue = (0, 255, 255)\n",
    "pink = (255, 0, 255)\n",
    "is_blue = True\n",
    "screen.fill(blue)\n",
    "pygame.display.update()\n",
    "while True:\n",
    "    event = pygame.event.wait()\n",
    "    if event.type == pygame.QUIT:\n",
    "        if is_blue is True:\n",
    "            screen.fill(pink)\n",
    "            is_blue = False\n",
    "        else:\n",
    "            screen.fill(blue)\n",
    "            is_blue = True\n",
    "        pygame.display.update()\n",
    "        print('Quit Event!')"
   ]
  },
  {
   "cell_type": "markdown",
   "metadata": {},
   "source": [
    "## **KEYDOWN**"
   ]
  },
  {
   "cell_type": "code",
   "execution_count": null,
   "metadata": {},
   "outputs": [],
   "source": [
    "import pygame\n",
    "\n",
    "pygame.init()\n",
    "screen = pygame.display.set_mode((800, 600))\n",
    "blue = (0, 255, 255)\n",
    "pink = (255, 0, 255)\n",
    "is_blue = True\n",
    "screen.fill(blue)\n",
    "pygame.display.update()\n",
    "while True:\n",
    "    event = pygame.event.wait()\n",
    "    if event.type == pygame.KEYDOWN:\n",
    "        if is_blue is True:\n",
    "            screen.fill(pink)\n",
    "            is_blue = False\n",
    "        else:\n",
    "            screen.fill(blue)\n",
    "            is_blue = True\n",
    "        pygame.display.update()\n",
    "        print('Key Down Event!')\n",
    "        print(f\"Key Code is : {event.key}\")\n",
    "        print(f\"Key Unicode is : {event.unicode}\")\n",
    "    if event.type == pygame.QUIT:\n",
    "        pygame.quit()\n",
    "        break"
   ]
  },
  {
   "cell_type": "markdown",
   "metadata": {},
   "source": [
    "## **KEYUP**"
   ]
  },
  {
   "cell_type": "code",
   "execution_count": null,
   "metadata": {},
   "outputs": [],
   "source": [
    "import pygame\n",
    "\n",
    "pygame.init()\n",
    "screen = pygame.display.set_mode((800, 600))\n",
    "blue = (0, 255, 255)\n",
    "pink = (255, 0, 255)\n",
    "is_blue = True\n",
    "screen.fill(blue)\n",
    "pygame.display.update()\n",
    "while True:\n",
    "    event = pygame.event.wait()\n",
    "    if event.type == pygame.KEYUP:\n",
    "        if is_blue is True:\n",
    "            screen.fill(pink)\n",
    "            is_blue = False\n",
    "        else:\n",
    "            screen.fill(blue)\n",
    "            is_blue = True\n",
    "        pygame.display.update()\n",
    "        print('Key Up Event!')\n",
    "        print(f\"Key Code is : {event.key}\")\n",
    "        print(f\"Key Unicode is : {event.unicode}\")\n",
    "\n",
    "    if event.type == pygame.QUIT:\n",
    "        pygame.quit()\n",
    "        break"
   ]
  },
  {
   "cell_type": "markdown",
   "metadata": {},
   "source": [
    "## **MOUSEBUTTONDOWN**"
   ]
  },
  {
   "cell_type": "code",
   "execution_count": null,
   "metadata": {},
   "outputs": [],
   "source": [
    "import pygame\n",
    "\n",
    "pygame.init()\n",
    "screen = pygame.display.set_mode((800, 600))\n",
    "blue = (0, 255, 255)\n",
    "pink = (255, 0, 255)\n",
    "is_blue = True\n",
    "screen.fill(blue)\n",
    "pygame.display.update()\n",
    "while True:\n",
    "    event = pygame.event.wait()\n",
    "    if event.type == pygame.MOUSEBUTTONDOWN:\n",
    "        if is_blue is True:\n",
    "            screen.fill(pink)\n",
    "            is_blue = False\n",
    "        else:\n",
    "            screen.fill(blue)\n",
    "            is_blue = True\n",
    "        pygame.display.update()\n",
    "        print('Mouse Button Down Event!')\n",
    "        print(f\"Key Position is : {event.pos}\")\n",
    "        print(f\"Key Button is : {event.button}\")\n",
    "\n",
    "    if event.type == pygame.QUIT:\n",
    "        pygame.quit()\n",
    "        break"
   ]
  },
  {
   "cell_type": "markdown",
   "metadata": {},
   "source": [
    "## **MOUSEBUTTONUP**"
   ]
  },
  {
   "cell_type": "code",
   "execution_count": null,
   "metadata": {},
   "outputs": [],
   "source": [
    "import pygame\n",
    "\n",
    "pygame.init()\n",
    "screen = pygame.display.set_mode((800, 600))\n",
    "blue = (0, 255, 255)\n",
    "pink = (255, 0, 255)\n",
    "is_blue = True\n",
    "screen.fill(blue)\n",
    "pygame.display.update()\n",
    "while True:\n",
    "    event = pygame.event.wait()\n",
    "    if event.type == pygame.MOUSEBUTTONUP:\n",
    "        if is_blue is True:\n",
    "            screen.fill(pink)\n",
    "            is_blue = False\n",
    "        else:\n",
    "            screen.fill(blue)\n",
    "            is_blue = True\n",
    "        pygame.display.update()\n",
    "        print('Mouse Button Up Event!')\n",
    "        print(f\"Key Position is : {event.pos}\")\n",
    "        print(f\"Key Button is : {event.button}\")\n",
    "\n",
    "    if event.type == pygame.QUIT:\n",
    "        pygame.quit()\n",
    "        break"
   ]
  },
  {
   "cell_type": "markdown",
   "metadata": {},
   "source": [
    "## **MOUSEMOTION**"
   ]
  },
  {
   "cell_type": "code",
   "execution_count": null,
   "metadata": {},
   "outputs": [],
   "source": [
    "import pygame\n",
    "\n",
    "pygame.init()\n",
    "screen = pygame.display.set_mode((800, 600))\n",
    "blue = (0, 255, 255)\n",
    "pink = (255, 0, 255)\n",
    "is_blue = True\n",
    "screen.fill(blue)\n",
    "pygame.display.update()\n",
    "while True:\n",
    "    event = pygame.event.wait()\n",
    "    if event.type == pygame.MOUSEMOTION:\n",
    "        if is_blue is True:\n",
    "            screen.fill(pink)\n",
    "            is_blue = False\n",
    "        else:\n",
    "            screen.fill(blue)\n",
    "            is_blue = True\n",
    "        pygame.display.update()\n",
    "        print('Mouse Motion Event!')\n",
    "        print(f\"Key Position is : {event.pos}\")\n",
    "        print(f\"Key Button is : {event.rel}\")\n",
    "\n",
    "    if event.type == pygame.QUIT:\n",
    "        pygame.quit()\n",
    "        break"
   ]
  }
 ],
 "metadata": {
  "kernelspec": {
   "display_name": "Python 3.8.7 64-bit",
   "language": "python",
   "name": "python3"
  },
  "language_info": {
   "codemirror_mode": {
    "name": "ipython",
    "version": 3
   },
   "file_extension": ".py",
   "mimetype": "text/x-python",
   "name": "python",
   "nbconvert_exporter": "python",
   "pygments_lexer": "ipython3",
   "version": "3.8.7"
  },
  "orig_nbformat": 4,
  "vscode": {
   "interpreter": {
    "hash": "d8d9e0bc7b34cf7ab1924aec9d18d3cb0b7fd4ce31c6edca23e1ebbead747e98"
   }
  }
 },
 "nbformat": 4,
 "nbformat_minor": 2
}
