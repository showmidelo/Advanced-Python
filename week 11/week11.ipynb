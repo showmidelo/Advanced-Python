{
 "cells": [
  {
   "cell_type": "markdown",
   "metadata": {},
   "source": [
    "# **Event class**"
   ]
  },
  {
   "cell_type": "code",
   "execution_count": null,
   "metadata": {},
   "outputs": [],
   "source": [
    "import pygame"
   ]
  },
  {
   "cell_type": "markdown",
   "metadata": {},
   "source": [
    "## **ًQuit**"
   ]
  },
  {
   "cell_type": "code",
   "execution_count": null,
   "metadata": {},
   "outputs": [],
   "source": [
    "import pygame\n",
    "\n",
    "pygame.init()\n",
    "screen = pygame.display.set_mode((800, 600))\n",
    "blue = (0, 255, 255)\n",
    "pink = (255, 0, 255)\n",
    "is_blue = True\n",
    "screen.fill(blue)\n",
    "pygame.display.update()\n",
    "while True:\n",
    "    event = pygame.event.wait()\n",
    "    if event.type == pygame.QUIT:\n",
    "        if is_blue is True:\n",
    "            screen.fill(pink)\n",
    "            is_blue = False\n",
    "        else:\n",
    "            screen.fill(blue)\n",
    "            is_blue = True\n",
    "        pygame.display.update()\n",
    "        print('Quit Event!')"
   ]
  },
  {
   "cell_type": "markdown",
   "metadata": {},
   "source": [
    "## **KEYDOWN**"
   ]
  },
  {
   "cell_type": "code",
   "execution_count": null,
   "metadata": {},
   "outputs": [],
   "source": [
    "import pygame\n",
    "\n",
    "pygame.init()\n",
    "screen = pygame.display.set_mode((800, 600))\n",
    "blue = (0, 255, 255)\n",
    "pink = (255, 0, 255)\n",
    "is_blue = True\n",
    "screen.fill(blue)\n",
    "pygame.display.update()\n",
    "while True:\n",
    "    event = pygame.event.wait()\n",
    "    if event.type == pygame.KEYDOWN:\n",
    "        if is_blue is True:\n",
    "            screen.fill(pink)\n",
    "            is_blue = False\n",
    "        else:\n",
    "            screen.fill(blue)\n",
    "            is_blue = True\n",
    "        pygame.display.update()\n",
    "        print('Key Down Event!')\n",
    "        print(f\"Key Code is : {event.key}\")\n",
    "        print(f\"Key Unicode is : {event.unicode}\")\n",
    "    if event.type == pygame.QUIT:\n",
    "        pygame.quit()\n",
    "        break"
   ]
  },
  {
   "cell_type": "markdown",
   "metadata": {},
   "source": [
    "## **KEYUP**"
   ]
  },
  {
   "cell_type": "code",
   "execution_count": null,
   "metadata": {},
   "outputs": [],
   "source": [
    "import pygame\n",
    "\n",
    "pygame.init()\n",
    "screen = pygame.display.set_mode((800, 600))\n",
    "blue = (0, 255, 255)\n",
    "pink = (255, 0, 255)\n",
    "is_blue = True\n",
    "screen.fill(blue)\n",
    "pygame.display.update()\n",
    "while True:\n",
    "    event = pygame.event.wait()\n",
    "    if event.type == pygame.KEYUP:\n",
    "        if is_blue is True:\n",
    "            screen.fill(pink)\n",
    "            is_blue = False\n",
    "        else:\n",
    "            screen.fill(blue)\n",
    "            is_blue = True\n",
    "        pygame.display.update()\n",
    "        print('Key Up Event!')\n",
    "        print(f\"Key Code is : {event.key}\")\n",
    "        print(f\"Key Unicode is : {event.unicode}\")\n",
    "\n",
    "    if event.type == pygame.QUIT:\n",
    "        pygame.quit()\n",
    "        break"
   ]
  },
  {
   "cell_type": "markdown",
   "metadata": {},
   "source": [
    "## **MOUSEBUTTONDOWN**"
   ]
  },
  {
   "cell_type": "code",
   "execution_count": null,
   "metadata": {},
   "outputs": [],
   "source": [
    "import pygame\n",
    "\n",
    "pygame.init()\n",
    "screen = pygame.display.set_mode((800, 600))\n",
    "blue = (0, 255, 255)\n",
    "pink = (255, 0, 255)\n",
    "is_blue = True\n",
    "screen.fill(blue)\n",
    "pygame.display.update()\n",
    "while True:\n",
    "    event = pygame.event.wait()\n",
    "    if event.type == pygame.MOUSEBUTTONDOWN:\n",
    "        if is_blue is True:\n",
    "            screen.fill(pink)\n",
    "            is_blue = False\n",
    "        else:\n",
    "            screen.fill(blue)\n",
    "            is_blue = True\n",
    "        pygame.display.update()\n",
    "        print('Mouse Button Down Event!')\n",
    "        print(f\"Key Position is : {event.pos}\")\n",
    "        print(f\"Key Button is : {event.button}\")\n",
    "\n",
    "    if event.type == pygame.QUIT:\n",
    "        pygame.quit()\n",
    "        break"
   ]
  },
  {
   "cell_type": "markdown",
   "metadata": {},
   "source": [
    "## **MOUSEBUTTONUP**"
   ]
  },
  {
   "cell_type": "code",
   "execution_count": null,
   "metadata": {},
   "outputs": [],
   "source": [
    "import pygame\n",
    "\n",
    "pygame.init()\n",
    "screen = pygame.display.set_mode((800, 600))\n",
    "blue = (0, 255, 255)\n",
    "pink = (255, 0, 255)\n",
    "is_blue = True\n",
    "screen.fill(blue)\n",
    "pygame.display.update()\n",
    "while True:\n",
    "    event = pygame.event.wait()\n",
    "    if event.type == pygame.MOUSEBUTTONUP:\n",
    "        if is_blue is True:\n",
    "            screen.fill(pink)\n",
    "            is_blue = False\n",
    "        else:\n",
    "            screen.fill(blue)\n",
    "            is_blue = True\n",
    "        pygame.display.update()\n",
    "        print('Mouse Button Up Event!')\n",
    "        print(f\"Key Position is : {event.pos}\")\n",
    "        print(f\"Key Button is : {event.button}\")\n",
    "\n",
    "    if event.type == pygame.QUIT:\n",
    "        pygame.quit()\n",
    "        break"
   ]
  },
  {
   "cell_type": "markdown",
   "metadata": {},
   "source": [
    "## **MOUSEMOTION**"
   ]
  },
  {
   "cell_type": "code",
   "execution_count": null,
   "metadata": {},
   "outputs": [],
   "source": [
    "import pygame\n",
    "\n",
    "pygame.init()\n",
    "screen = pygame.display.set_mode((800, 600))\n",
    "blue = (0, 255, 255)\n",
    "pink = (255, 0, 255)\n",
    "is_blue = True\n",
    "screen.fill(blue)\n",
    "pygame.display.update()\n",
    "while True:\n",
    "    event = pygame.event.wait()\n",
    "    if event.type == pygame.MOUSEMOTION:\n",
    "        if is_blue is True:\n",
    "            screen.fill(pink)\n",
    "            is_blue = False\n",
    "        else:\n",
    "            screen.fill(blue)\n",
    "            is_blue = True\n",
    "        pygame.display.update()\n",
    "        print('Mouse Motion Event!')\n",
    "        print(f\"Key Position is : {event.pos}\")\n",
    "        print(f\"Key Button is : {event.rel}\")\n",
    "\n",
    "    if event.type == pygame.QUIT:\n",
    "        pygame.quit()\n",
    "        break"
   ]
  },
  {
   "cell_type": "markdown",
   "metadata": {},
   "source": [
    "---\n",
    "\n",
    "---"
   ]
  },
  {
   "cell_type": "markdown",
   "metadata": {},
   "source": [
    "## **wait()**"
   ]
  },
  {
   "cell_type": "code",
   "execution_count": null,
   "metadata": {},
   "outputs": [],
   "source": [
    "import pygame\n",
    "\n",
    "pygame.init()\n",
    "screen = pygame.display.set_mode((800, 600))\n",
    "\n",
    "while True:\n",
    "    event = pygame.event.wait()\n",
    "\n",
    "    if event.type == pygame.QUIT:\n",
    "        print('Quit')\n",
    "        pygame.quit()\n",
    "        break\n",
    "\n",
    "    if event.type == pygame.KEYDOWN:\n",
    "        print('Key Down')\n",
    "        print(event.key)\n",
    "        print(event.unicode)\n",
    "\n",
    "    if event.type == pygame.KEYUP:\n",
    "        print('Key Up')\n",
    "        print(event.key)\n",
    "\n",
    "    if event.type == pygame.MOUSEBUTTONDOWN:\n",
    "        print('Mouse Button Down')\n",
    "        print(event.pos)\n",
    "        print(event.button == pygame.BUTTON_RIGHT)\n",
    "        print(event.button == pygame.BUTTON_LEFT)\n",
    "\n",
    "    if event.type == pygame.MOUSEBUTTONUP:\n",
    "        print('Mouse Button Up')\n",
    "        print(event.pos)\n",
    "        print(event.button == pygame.BUTTON_RIGHT)\n",
    "        print(event.button == pygame.BUTTON_LEFT)\n",
    "\n",
    "    if event.type == pygame.MOUSEMOTION:\n",
    "        print('Mouse Motion')\n",
    "        print(event.pos)\n",
    "        print(event.rel)"
   ]
  },
  {
   "cell_type": "markdown",
   "metadata": {},
   "source": [
    "## **poll()**"
   ]
  },
  {
   "cell_type": "code",
   "execution_count": null,
   "metadata": {},
   "outputs": [],
   "source": [
    "import pygame\n",
    "\n",
    "pygame.init()\n",
    "screen = pygame.display.set_mode((800, 600))\n",
    "events = []\n",
    "\n",
    "while True:\n",
    "    event = pygame.event.wait()\n",
    "    if event.type == pygame.QUIT:\n",
    "        print('Quit')\n",
    "\n",
    "    if event.type == pygame.KEYDOWN:\n",
    "        print('Key Down')\n",
    "        print(event.key)\n",
    "        print(event.unicode)\n",
    "\n",
    "    if event.type == pygame.KEYUP:\n",
    "        print('Key Up')\n",
    "        print(event.key)\n",
    "\n",
    "    if event.type == pygame.MOUSEBUTTONDOWN:\n",
    "        print('Mouse Button Down')\n",
    "        print(event.pos)\n",
    "        print(event.button == pygame.BUTTON_RIGHT)\n",
    "        print(event.button == pygame.BUTTON_LEFT)\n",
    "\n",
    "    if event.type == pygame.MOUSEBUTTONUP:\n",
    "        print('Mouse Button Up')\n",
    "        print(event.pos)\n",
    "        print(event.button == pygame.BUTTON_RIGHT)\n",
    "        print(event.button == pygame.BUTTON_LEFT)\n",
    "\n",
    "    if event.type == pygame.MOUSEMOTION:\n",
    "        print('Mouse Motion')\n",
    "        print(event.pos)\n",
    "        print(event.rel)\n",
    "\n",
    "    event = pygame.event.poll()\n",
    "    if event.type is pygame.NOEVENT:\n",
    "       break\n",
    "    else:\n",
    "       events.append(event) "
   ]
  },
  {
   "cell_type": "code",
   "execution_count": null,
   "metadata": {},
   "outputs": [],
   "source": [
    "pygame.display.quit()"
   ]
  },
  {
   "cell_type": "markdown",
   "metadata": {},
   "source": [
    "## **get()**"
   ]
  },
  {
   "cell_type": "code",
   "execution_count": null,
   "metadata": {},
   "outputs": [],
   "source": [
    "import pygame\n",
    "\n",
    "pygame.init()\n",
    "screen = pygame.display.set_mode([500, 500])\n",
    "\n",
    "while True:\n",
    "    for event in pygame.event.get():\n",
    "        print(event)\n",
    "        if event.type == pygame.QUIT:\n",
    "            print('Quit')\n",
    "            pygame.quit()\n",
    "            break\n",
    "            # exit()\n",
    "    screen.fill((255, 255, 255))\n",
    "    pygame.draw.circle(screen, (0, 0, 255), (250, 250), 75)\n",
    "    pygame.display.flip()"
   ]
  },
  {
   "cell_type": "markdown",
   "metadata": {},
   "source": [
    "## **pump()**"
   ]
  },
  {
   "cell_type": "code",
   "execution_count": null,
   "metadata": {},
   "outputs": [],
   "source": [
    "import pygame\n",
    "\n",
    "pygame.init()\n",
    "screen = pygame.display.set_mode((200, 200))\n",
    "pygame.display.set_caption(\"test window\")\n",
    "\n",
    "red = (255, 0, 0)\n",
    "blue = (0, 0, 255)\n",
    "\n",
    "turn = 0\n",
    "while True:\n",
    "    pygame.event.pump()\n",
    "\n",
    "    if turn == 0:\n",
    "        screen.fill(red)\n",
    "    else:\n",
    "        screen.fill(blue)\n",
    "    turn = 1 - turn\n",
    "    pygame.display.update()\n",
    "    pygame.time.delay(200)\n",
    "    "
   ]
  },
  {
   "cell_type": "markdown",
   "metadata": {},
   "source": [
    "---\n",
    "\n",
    "---"
   ]
  },
  {
   "cell_type": "markdown",
   "metadata": {},
   "source": [
    "# **requests**"
   ]
  },
  {
   "cell_type": "code",
   "execution_count": null,
   "metadata": {},
   "outputs": [],
   "source": [
    "%pip install requests #installing library"
   ]
  },
  {
   "cell_type": "code",
   "execution_count": null,
   "metadata": {},
   "outputs": [],
   "source": [
    "import requests"
   ]
  },
  {
   "cell_type": "code",
   "execution_count": null,
   "metadata": {},
   "outputs": [],
   "source": [
    "response = requests.get('http://quera.ir')"
   ]
  },
  {
   "cell_type": "code",
   "execution_count": null,
   "metadata": {},
   "outputs": [],
   "source": [
    "type(response)"
   ]
  },
  {
   "cell_type": "code",
   "execution_count": null,
   "metadata": {},
   "outputs": [],
   "source": [
    "dir(response)"
   ]
  },
  {
   "cell_type": "code",
   "execution_count": null,
   "metadata": {},
   "outputs": [],
   "source": [
    "response = requests.get('http://api.github.com')"
   ]
  },
  {
   "cell_type": "markdown",
   "metadata": {},
   "source": [
    "## **status_code**"
   ]
  },
  {
   "cell_type": "code",
   "execution_count": null,
   "metadata": {},
   "outputs": [],
   "source": [
    "response.status_code"
   ]
  },
  {
   "cell_type": "markdown",
   "metadata": {},
   "source": [
    "![](https://quera.ir/qbox/download/0lbzvJsEuW/status-code.png)"
   ]
  },
  {
   "cell_type": "markdown",
   "metadata": {},
   "source": [
    "## **text**"
   ]
  },
  {
   "cell_type": "code",
   "execution_count": null,
   "metadata": {},
   "outputs": [],
   "source": [
    "print(response.text)"
   ]
  },
  {
   "cell_type": "markdown",
   "metadata": {},
   "source": [
    "## **request**"
   ]
  },
  {
   "cell_type": "code",
   "execution_count": null,
   "metadata": {},
   "outputs": [],
   "source": [
    "response.request"
   ]
  },
  {
   "cell_type": "code",
   "execution_count": null,
   "metadata": {},
   "outputs": [],
   "source": [
    "response.request.method"
   ]
  },
  {
   "cell_type": "code",
   "execution_count": null,
   "metadata": {},
   "outputs": [],
   "source": [
    "print(response.json())"
   ]
  },
  {
   "cell_type": "code",
   "execution_count": null,
   "metadata": {},
   "outputs": [],
   "source": [
    "response.url"
   ]
  },
  {
   "cell_type": "code",
   "execution_count": null,
   "metadata": {},
   "outputs": [],
   "source": [
    "response.headers"
   ]
  },
  {
   "cell_type": "markdown",
   "metadata": {},
   "source": [
    "## **How about sending a data to url?**"
   ]
  },
  {
   "cell_type": "markdown",
   "metadata": {},
   "source": [
    "### *we use post() for sending our information or etc to a url*"
   ]
  },
  {
   "cell_type": "code",
   "execution_count": null,
   "metadata": {},
   "outputs": [],
   "source": [
    "import requests\n",
    "\n",
    "my_data = {'key': 'value'}\n",
    "\n",
    "x = requests.post(url, data = my_data)\n",
    "\n",
    "print(x.text)"
   ]
  },
  {
   "cell_type": "markdown",
   "metadata": {},
   "source": [
    "---\n",
    "---"
   ]
  },
  {
   "cell_type": "markdown",
   "metadata": {},
   "source": [
    "# **Socket**"
   ]
  },
  {
   "cell_type": "code",
   "execution_count": null,
   "metadata": {},
   "outputs": [],
   "source": [
    "import socket"
   ]
  },
  {
   "cell_type": "code",
   "execution_count": null,
   "metadata": {},
   "outputs": [],
   "source": [
    "soc = socket.socket(socket.AF_INET, socket.SOCK_STREAM)"
   ]
  },
  {
   "cell_type": "markdown",
   "metadata": {},
   "source": [
    "**How connect a socket to a server?**"
   ]
  },
  {
   "cell_type": "code",
   "execution_count": null,
   "metadata": {},
   "outputs": [],
   "source": [
    "import socket \n",
    "\n",
    "soc = socket.socket(socket.AF_INET, socket.SOCK_STREAM) \n",
    "host_ip = socket.gethostbyname('www.quera.ir') \n",
    "port = 80\n",
    "\n",
    "soc.connect((host_ip, port)) \n",
    "\n",
    "print(\"The socket has successfully connected to Quera on port == {}\".format(host_ip))\n",
    "soc.close()"
   ]
  },
  {
   "cell_type": "code",
   "execution_count": null,
   "metadata": {},
   "outputs": [],
   "source": [
    "import socket\n",
    "\n",
    "soc = socket.socket(socket.AF_INET, socket.SOCK_STREAM)\n",
    "port = 1234\n",
    "\n",
    "soc.bind(('127.0.0.1', port))\n",
    "\n",
    "soc.listen()\n",
    "\n",
    "\n",
    "client, address = soc.accept()\n",
    "\n",
    "print(type(client), address)\n",
    "\n",
    "client.sendall(b'Hello!\\n')\n",
    "\n",
    "client.close()"
   ]
  }
 ],
 "metadata": {
  "kernelspec": {
   "display_name": "Python 3.8.7 64-bit",
   "language": "python",
   "name": "python3"
  },
  "language_info": {
   "codemirror_mode": {
    "name": "ipython",
    "version": 3
   },
   "file_extension": ".py",
   "mimetype": "text/x-python",
   "name": "python",
   "nbconvert_exporter": "python",
   "pygments_lexer": "ipython3",
   "version": "3.8.7"
  },
  "orig_nbformat": 4,
  "vscode": {
   "interpreter": {
    "hash": "d8d9e0bc7b34cf7ab1924aec9d18d3cb0b7fd4ce31c6edca23e1ebbead747e98"
   }
  }
 },
 "nbformat": 4,
 "nbformat_minor": 2
}
