{
 "cells": [
  {
   "cell_type": "markdown",
   "metadata": {},
   "source": [
    "# **Event class**"
   ]
  },
  {
   "cell_type": "code",
   "execution_count": null,
   "metadata": {},
   "outputs": [],
   "source": [
    "import pygame"
   ]
  },
  {
   "cell_type": "markdown",
   "metadata": {},
   "source": [
    "## **ًQuit**"
   ]
  },
  {
   "cell_type": "code",
   "execution_count": null,
   "metadata": {},
   "outputs": [],
   "source": [
    "import pygame\n",
    "\n",
    "pygame.init()\n",
    "screen = pygame.display.set_mode((800, 600))\n",
    "blue = (0, 255, 255)\n",
    "pink = (255, 0, 255)\n",
    "is_blue = True\n",
    "screen.fill(blue)\n",
    "pygame.display.update()\n",
    "while True:\n",
    "    event = pygame.event.wait()\n",
    "    if event.type == pygame.QUIT:\n",
    "        if is_blue is True:\n",
    "            screen.fill(pink)\n",
    "            is_blue = False\n",
    "        else:\n",
    "            screen.fill(blue)\n",
    "            is_blue = True\n",
    "        pygame.display.update()\n",
    "        print('Quit Event!')"
   ]
  },
  {
   "cell_type": "markdown",
   "metadata": {},
   "source": [
    "## **KEYDOWN**"
   ]
  },
  {
   "cell_type": "code",
   "execution_count": null,
   "metadata": {},
   "outputs": [],
   "source": [
    "import pygame\n",
    "\n",
    "pygame.init()\n",
    "screen = pygame.display.set_mode((800, 600))\n",
    "blue = (0, 255, 255)\n",
    "pink = (255, 0, 255)\n",
    "is_blue = True\n",
    "screen.fill(blue)\n",
    "pygame.display.update()\n",
    "while True:\n",
    "    event = pygame.event.wait()\n",
    "    if event.type == pygame.KEYDOWN:\n",
    "        if is_blue is True:\n",
    "            screen.fill(pink)\n",
    "            is_blue = False\n",
    "        else:\n",
    "            screen.fill(blue)\n",
    "            is_blue = True\n",
    "        pygame.display.update()\n",
    "        print('Key Down Event!')\n",
    "        print(f\"Key Code is : {event.key}\")\n",
    "        print(f\"Key Unicode is : {event.unicode}\")\n",
    "    if event.type == pygame.QUIT:\n",
    "        pygame.quit()\n",
    "        break"
   ]
  },
  {
   "cell_type": "markdown",
   "metadata": {},
   "source": [
    "## **KEYUP**"
   ]
  },
  {
   "cell_type": "code",
   "execution_count": null,
   "metadata": {},
   "outputs": [],
   "source": [
    "import pygame\n",
    "\n",
    "pygame.init()\n",
    "screen = pygame.display.set_mode((800, 600))\n",
    "blue = (0, 255, 255)\n",
    "pink = (255, 0, 255)\n",
    "is_blue = True\n",
    "screen.fill(blue)\n",
    "pygame.display.update()\n",
    "while True:\n",
    "    event = pygame.event.wait()\n",
    "    if event.type == pygame.KEYUP:\n",
    "        if is_blue is True:\n",
    "            screen.fill(pink)\n",
    "            is_blue = False\n",
    "        else:\n",
    "            screen.fill(blue)\n",
    "            is_blue = True\n",
    "        pygame.display.update()\n",
    "        print('Key Up Event!')\n",
    "        print(f\"Key Code is : {event.key}\")\n",
    "        print(f\"Key Unicode is : {event.unicode}\")\n",
    "\n",
    "    if event.type == pygame.QUIT:\n",
    "        pygame.quit()\n",
    "        break"
   ]
  },
  {
   "cell_type": "markdown",
   "metadata": {},
   "source": [
    "## **MOUSEBUTTONDOWN**"
   ]
  },
  {
   "cell_type": "code",
   "execution_count": null,
   "metadata": {},
   "outputs": [],
   "source": [
    "import pygame\n",
    "\n",
    "pygame.init()\n",
    "screen = pygame.display.set_mode((800, 600))\n",
    "blue = (0, 255, 255)\n",
    "pink = (255, 0, 255)\n",
    "is_blue = True\n",
    "screen.fill(blue)\n",
    "pygame.display.update()\n",
    "while True:\n",
    "    event = pygame.event.wait()\n",
    "    if event.type == pygame.MOUSEBUTTONDOWN:\n",
    "        if is_blue is True:\n",
    "            screen.fill(pink)\n",
    "            is_blue = False\n",
    "        else:\n",
    "            screen.fill(blue)\n",
    "            is_blue = True\n",
    "        pygame.display.update()\n",
    "        print('Mouse Button Down Event!')\n",
    "        print(f\"Key Position is : {event.pos}\")\n",
    "        print(f\"Key Button is : {event.button}\")\n",
    "\n",
    "    if event.type == pygame.QUIT:\n",
    "        pygame.quit()\n",
    "        break"
   ]
  },
  {
   "cell_type": "markdown",
   "metadata": {},
   "source": [
    "## **MOUSEBUTTONUP**"
   ]
  },
  {
   "cell_type": "code",
   "execution_count": null,
   "metadata": {},
   "outputs": [],
   "source": [
    "import pygame\n",
    "\n",
    "pygame.init()\n",
    "screen = pygame.display.set_mode((800, 600))\n",
    "blue = (0, 255, 255)\n",
    "pink = (255, 0, 255)\n",
    "is_blue = True\n",
    "screen.fill(blue)\n",
    "pygame.display.update()\n",
    "while True:\n",
    "    event = pygame.event.wait()\n",
    "    if event.type == pygame.MOUSEBUTTONUP:\n",
    "        if is_blue is True:\n",
    "            screen.fill(pink)\n",
    "            is_blue = False\n",
    "        else:\n",
    "            screen.fill(blue)\n",
    "            is_blue = True\n",
    "        pygame.display.update()\n",
    "        print('Mouse Button Up Event!')\n",
    "        print(f\"Key Position is : {event.pos}\")\n",
    "        print(f\"Key Button is : {event.button}\")\n",
    "\n",
    "    if event.type == pygame.QUIT:\n",
    "        pygame.quit()\n",
    "        break"
   ]
  },
  {
   "cell_type": "markdown",
   "metadata": {},
   "source": [
    "## **MOUSEMOTION**"
   ]
  },
  {
   "cell_type": "code",
   "execution_count": null,
   "metadata": {},
   "outputs": [],
   "source": [
    "import pygame\n",
    "\n",
    "pygame.init()\n",
    "screen = pygame.display.set_mode((800, 600))\n",
    "blue = (0, 255, 255)\n",
    "pink = (255, 0, 255)\n",
    "is_blue = True\n",
    "screen.fill(blue)\n",
    "pygame.display.update()\n",
    "while True:\n",
    "    event = pygame.event.wait()\n",
    "    if event.type == pygame.MOUSEMOTION:\n",
    "        if is_blue is True:\n",
    "            screen.fill(pink)\n",
    "            is_blue = False\n",
    "        else:\n",
    "            screen.fill(blue)\n",
    "            is_blue = True\n",
    "        pygame.display.update()\n",
    "        print('Mouse Motion Event!')\n",
    "        print(f\"Key Position is : {event.pos}\")\n",
    "        print(f\"Key Button is : {event.rel}\")\n",
    "\n",
    "    if event.type == pygame.QUIT:\n",
    "        pygame.quit()\n",
    "        break"
   ]
  },
  {
   "cell_type": "markdown",
   "metadata": {},
   "source": [
    "---\n",
    "\n",
    "---"
   ]
  },
  {
   "cell_type": "markdown",
   "metadata": {},
   "source": [
    "## **wait()**"
   ]
  },
  {
   "cell_type": "code",
   "execution_count": null,
   "metadata": {},
   "outputs": [],
   "source": [
    "import pygame\n",
    "\n",
    "pygame.init()\n",
    "screen = pygame.display.set_mode((800, 600))\n",
    "\n",
    "while True:\n",
    "    event = pygame.event.wait()\n",
    "\n",
    "    if event.type == pygame.QUIT:\n",
    "        print('Quit')\n",
    "        pygame.quit()\n",
    "        break\n",
    "\n",
    "    if event.type == pygame.KEYDOWN:\n",
    "        print('Key Down')\n",
    "        print(event.key)\n",
    "        print(event.unicode)\n",
    "\n",
    "    if event.type == pygame.KEYUP:\n",
    "        print('Key Up')\n",
    "        print(event.key)\n",
    "\n",
    "    if event.type == pygame.MOUSEBUTTONDOWN:\n",
    "        print('Mouse Button Down')\n",
    "        print(event.pos)\n",
    "        print(event.button == pygame.BUTTON_RIGHT)\n",
    "        print(event.button == pygame.BUTTON_LEFT)\n",
    "\n",
    "    if event.type == pygame.MOUSEBUTTONUP:\n",
    "        print('Mouse Button Up')\n",
    "        print(event.pos)\n",
    "        print(event.button == pygame.BUTTON_RIGHT)\n",
    "        print(event.button == pygame.BUTTON_LEFT)\n",
    "\n",
    "    if event.type == pygame.MOUSEMOTION:\n",
    "        print('Mouse Motion')\n",
    "        print(event.pos)\n",
    "        print(event.rel)"
   ]
  },
  {
   "cell_type": "markdown",
   "metadata": {},
   "source": [
    "## **poll()**"
   ]
  },
  {
   "cell_type": "code",
   "execution_count": null,
   "metadata": {},
   "outputs": [],
   "source": [
    "import pygame\n",
    "\n",
    "pygame.init()\n",
    "screen = pygame.display.set_mode((800, 600))\n",
    "events = []\n",
    "\n",
    "while True:\n",
    "    event = pygame.event.wait()\n",
    "    if event.type == pygame.QUIT:\n",
    "        print('Quit')\n",
    "\n",
    "    if event.type == pygame.KEYDOWN:\n",
    "        print('Key Down')\n",
    "        print(event.key)\n",
    "        print(event.unicode)\n",
    "\n",
    "    if event.type == pygame.KEYUP:\n",
    "        print('Key Up')\n",
    "        print(event.key)\n",
    "\n",
    "    if event.type == pygame.MOUSEBUTTONDOWN:\n",
    "        print('Mouse Button Down')\n",
    "        print(event.pos)\n",
    "        print(event.button == pygame.BUTTON_RIGHT)\n",
    "        print(event.button == pygame.BUTTON_LEFT)\n",
    "\n",
    "    if event.type == pygame.MOUSEBUTTONUP:\n",
    "        print('Mouse Button Up')\n",
    "        print(event.pos)\n",
    "        print(event.button == pygame.BUTTON_RIGHT)\n",
    "        print(event.button == pygame.BUTTON_LEFT)\n",
    "\n",
    "    if event.type == pygame.MOUSEMOTION:\n",
    "        print('Mouse Motion')\n",
    "        print(event.pos)\n",
    "        print(event.rel)\n",
    "\n",
    "    event = pygame.event.poll()\n",
    "    if event.type is pygame.NOEVENT:\n",
    "       break\n",
    "    else:\n",
    "       events.append(event) "
   ]
  },
  {
   "cell_type": "code",
   "execution_count": null,
   "metadata": {},
   "outputs": [],
   "source": [
    "pygame.display.quit()"
   ]
  },
  {
   "cell_type": "markdown",
   "metadata": {},
   "source": [
    "## **get()**"
   ]
  },
  {
   "cell_type": "code",
   "execution_count": null,
   "metadata": {},
   "outputs": [],
   "source": [
    "import pygame\n",
    "\n",
    "pygame.init()\n",
    "screen = pygame.display.set_mode([500, 500])\n",
    "\n",
    "while True:\n",
    "    for event in pygame.event.get():\n",
    "        print(event)\n",
    "        if event.type == pygame.QUIT:\n",
    "            print('Quit')\n",
    "            pygame.quit()\n",
    "            break\n",
    "            # exit()\n",
    "    screen.fill((255, 255, 255))\n",
    "    pygame.draw.circle(screen, (0, 0, 255), (250, 250), 75)\n",
    "    pygame.display.flip()"
   ]
  },
  {
   "cell_type": "markdown",
   "metadata": {},
   "source": [
    "## **pump()**"
   ]
  },
  {
   "cell_type": "code",
   "execution_count": null,
   "metadata": {},
   "outputs": [],
   "source": [
    "import pygame\n",
    "\n",
    "pygame.init()\n",
    "screen = pygame.display.set_mode((200, 200))\n",
    "pygame.display.set_caption(\"test window\")\n",
    "\n",
    "red = (255, 0, 0)\n",
    "blue = (0, 0, 255)\n",
    "\n",
    "turn = 0\n",
    "while True:\n",
    "    pygame.event.pump()\n",
    "\n",
    "    if turn == 0:\n",
    "        screen.fill(red)\n",
    "    else:\n",
    "        screen.fill(blue)\n",
    "    turn = 1 - turn\n",
    "    pygame.display.update()\n",
    "    pygame.time.delay(200)\n",
    "    "
   ]
  },
  {
   "cell_type": "markdown",
   "metadata": {},
   "source": [
    "---\n",
    "\n",
    "---"
   ]
  },
  {
   "cell_type": "markdown",
   "metadata": {},
   "source": [
    "# **requests**"
   ]
  },
  {
   "cell_type": "code",
   "execution_count": null,
   "metadata": {},
   "outputs": [],
   "source": [
    "%pip install requests #installing library"
   ]
  },
  {
   "cell_type": "code",
   "execution_count": 1,
   "metadata": {},
   "outputs": [],
   "source": [
    "import requests"
   ]
  },
  {
   "cell_type": "code",
   "execution_count": 3,
   "metadata": {},
   "outputs": [],
   "source": [
    "response = requests.get('http://quera.ir')"
   ]
  },
  {
   "cell_type": "code",
   "execution_count": 4,
   "metadata": {},
   "outputs": [
    {
     "data": {
      "text/plain": [
       "requests.models.Response"
      ]
     },
     "execution_count": 4,
     "metadata": {},
     "output_type": "execute_result"
    }
   ],
   "source": [
    "type(response)"
   ]
  },
  {
   "cell_type": "code",
   "execution_count": 5,
   "metadata": {},
   "outputs": [
    {
     "data": {
      "text/plain": [
       "['__attrs__',\n",
       " '__bool__',\n",
       " '__class__',\n",
       " '__delattr__',\n",
       " '__dict__',\n",
       " '__dir__',\n",
       " '__doc__',\n",
       " '__enter__',\n",
       " '__eq__',\n",
       " '__exit__',\n",
       " '__format__',\n",
       " '__ge__',\n",
       " '__getattribute__',\n",
       " '__getstate__',\n",
       " '__gt__',\n",
       " '__hash__',\n",
       " '__init__',\n",
       " '__init_subclass__',\n",
       " '__iter__',\n",
       " '__le__',\n",
       " '__lt__',\n",
       " '__module__',\n",
       " '__ne__',\n",
       " '__new__',\n",
       " '__nonzero__',\n",
       " '__reduce__',\n",
       " '__reduce_ex__',\n",
       " '__repr__',\n",
       " '__setattr__',\n",
       " '__setstate__',\n",
       " '__sizeof__',\n",
       " '__str__',\n",
       " '__subclasshook__',\n",
       " '__weakref__',\n",
       " '_content',\n",
       " '_content_consumed',\n",
       " '_next',\n",
       " 'apparent_encoding',\n",
       " 'close',\n",
       " 'connection',\n",
       " 'content',\n",
       " 'cookies',\n",
       " 'elapsed',\n",
       " 'encoding',\n",
       " 'headers',\n",
       " 'history',\n",
       " 'is_permanent_redirect',\n",
       " 'is_redirect',\n",
       " 'iter_content',\n",
       " 'iter_lines',\n",
       " 'json',\n",
       " 'links',\n",
       " 'next',\n",
       " 'ok',\n",
       " 'raise_for_status',\n",
       " 'raw',\n",
       " 'reason',\n",
       " 'request',\n",
       " 'status_code',\n",
       " 'text',\n",
       " 'url']"
      ]
     },
     "execution_count": 5,
     "metadata": {},
     "output_type": "execute_result"
    }
   ],
   "source": [
    "dir(response)"
   ]
  },
  {
   "cell_type": "code",
   "execution_count": 14,
   "metadata": {},
   "outputs": [],
   "source": [
    "response = requests.get('http://api.github.com')"
   ]
  },
  {
   "cell_type": "markdown",
   "metadata": {},
   "source": [
    "## **status_code**"
   ]
  },
  {
   "cell_type": "code",
   "execution_count": 15,
   "metadata": {},
   "outputs": [
    {
     "data": {
      "text/plain": [
       "200"
      ]
     },
     "execution_count": 15,
     "metadata": {},
     "output_type": "execute_result"
    }
   ],
   "source": [
    "response.status_code"
   ]
  },
  {
   "cell_type": "markdown",
   "metadata": {},
   "source": [
    "![](https://quera.ir/qbox/download/0lbzvJsEuW/status-code.png)"
   ]
  },
  {
   "cell_type": "markdown",
   "metadata": {},
   "source": [
    "## **text**"
   ]
  },
  {
   "cell_type": "code",
   "execution_count": 16,
   "metadata": {},
   "outputs": [
    {
     "name": "stdout",
     "output_type": "stream",
     "text": [
      "{\n",
      "  \"current_user_url\": \"https://api.github.com/user\",\n",
      "  \"current_user_authorizations_html_url\": \"https://github.com/settings/connections/applications{/client_id}\",\n",
      "  \"authorizations_url\": \"https://api.github.com/authorizations\",\n",
      "  \"code_search_url\": \"https://api.github.com/search/code?q={query}{&page,per_page,sort,order}\",\n",
      "  \"commit_search_url\": \"https://api.github.com/search/commits?q={query}{&page,per_page,sort,order}\",\n",
      "  \"emails_url\": \"https://api.github.com/user/emails\",\n",
      "  \"emojis_url\": \"https://api.github.com/emojis\",\n",
      "  \"events_url\": \"https://api.github.com/events\",\n",
      "  \"feeds_url\": \"https://api.github.com/feeds\",\n",
      "  \"followers_url\": \"https://api.github.com/user/followers\",\n",
      "  \"following_url\": \"https://api.github.com/user/following{/target}\",\n",
      "  \"gists_url\": \"https://api.github.com/gists{/gist_id}\",\n",
      "  \"hub_url\": \"https://api.github.com/hub\",\n",
      "  \"issue_search_url\": \"https://api.github.com/search/issues?q={query}{&page,per_page,sort,order}\",\n",
      "  \"issues_url\": \"https://api.github.com/issues\",\n",
      "  \"keys_url\": \"https://api.github.com/user/keys\",\n",
      "  \"label_search_url\": \"https://api.github.com/search/labels?q={query}&repository_id={repository_id}{&page,per_page}\",\n",
      "  \"notifications_url\": \"https://api.github.com/notifications\",\n",
      "  \"organization_url\": \"https://api.github.com/orgs/{org}\",\n",
      "  \"organization_repositories_url\": \"https://api.github.com/orgs/{org}/repos{?type,page,per_page,sort}\",\n",
      "  \"organization_teams_url\": \"https://api.github.com/orgs/{org}/teams\",\n",
      "  \"public_gists_url\": \"https://api.github.com/gists/public\",\n",
      "  \"rate_limit_url\": \"https://api.github.com/rate_limit\",\n",
      "  \"repository_url\": \"https://api.github.com/repos/{owner}/{repo}\",\n",
      "  \"repository_search_url\": \"https://api.github.com/search/repositories?q={query}{&page,per_page,sort,order}\",\n",
      "  \"current_user_repositories_url\": \"https://api.github.com/user/repos{?type,page,per_page,sort}\",\n",
      "  \"starred_url\": \"https://api.github.com/user/starred{/owner}{/repo}\",\n",
      "  \"starred_gists_url\": \"https://api.github.com/gists/starred\",\n",
      "  \"topic_search_url\": \"https://api.github.com/search/topics?q={query}{&page,per_page}\",\n",
      "  \"user_url\": \"https://api.github.com/users/{user}\",\n",
      "  \"user_organizations_url\": \"https://api.github.com/user/orgs\",\n",
      "  \"user_repositories_url\": \"https://api.github.com/users/{user}/repos{?type,page,per_page,sort}\",\n",
      "  \"user_search_url\": \"https://api.github.com/search/users?q={query}{&page,per_page,sort,order}\"\n",
      "}\n",
      "\n"
     ]
    }
   ],
   "source": [
    "print(response.text)"
   ]
  },
  {
   "cell_type": "markdown",
   "metadata": {},
   "source": [
    "## **request**"
   ]
  },
  {
   "cell_type": "code",
   "execution_count": 17,
   "metadata": {},
   "outputs": [
    {
     "data": {
      "text/plain": [
       "<PreparedRequest [GET]>"
      ]
     },
     "execution_count": 17,
     "metadata": {},
     "output_type": "execute_result"
    }
   ],
   "source": [
    "response.request"
   ]
  },
  {
   "cell_type": "code",
   "execution_count": 18,
   "metadata": {},
   "outputs": [
    {
     "data": {
      "text/plain": [
       "'GET'"
      ]
     },
     "execution_count": 18,
     "metadata": {},
     "output_type": "execute_result"
    }
   ],
   "source": [
    "response.request.method"
   ]
  },
  {
   "cell_type": "code",
   "execution_count": 20,
   "metadata": {},
   "outputs": [
    {
     "name": "stdout",
     "output_type": "stream",
     "text": [
      "{'current_user_url': 'https://api.github.com/user', 'current_user_authorizations_html_url': 'https://github.com/settings/connections/applications{/client_id}', 'authorizations_url': 'https://api.github.com/authorizations', 'code_search_url': 'https://api.github.com/search/code?q={query}{&page,per_page,sort,order}', 'commit_search_url': 'https://api.github.com/search/commits?q={query}{&page,per_page,sort,order}', 'emails_url': 'https://api.github.com/user/emails', 'emojis_url': 'https://api.github.com/emojis', 'events_url': 'https://api.github.com/events', 'feeds_url': 'https://api.github.com/feeds', 'followers_url': 'https://api.github.com/user/followers', 'following_url': 'https://api.github.com/user/following{/target}', 'gists_url': 'https://api.github.com/gists{/gist_id}', 'hub_url': 'https://api.github.com/hub', 'issue_search_url': 'https://api.github.com/search/issues?q={query}{&page,per_page,sort,order}', 'issues_url': 'https://api.github.com/issues', 'keys_url': 'https://api.github.com/user/keys', 'label_search_url': 'https://api.github.com/search/labels?q={query}&repository_id={repository_id}{&page,per_page}', 'notifications_url': 'https://api.github.com/notifications', 'organization_url': 'https://api.github.com/orgs/{org}', 'organization_repositories_url': 'https://api.github.com/orgs/{org}/repos{?type,page,per_page,sort}', 'organization_teams_url': 'https://api.github.com/orgs/{org}/teams', 'public_gists_url': 'https://api.github.com/gists/public', 'rate_limit_url': 'https://api.github.com/rate_limit', 'repository_url': 'https://api.github.com/repos/{owner}/{repo}', 'repository_search_url': 'https://api.github.com/search/repositories?q={query}{&page,per_page,sort,order}', 'current_user_repositories_url': 'https://api.github.com/user/repos{?type,page,per_page,sort}', 'starred_url': 'https://api.github.com/user/starred{/owner}{/repo}', 'starred_gists_url': 'https://api.github.com/gists/starred', 'topic_search_url': 'https://api.github.com/search/topics?q={query}{&page,per_page}', 'user_url': 'https://api.github.com/users/{user}', 'user_organizations_url': 'https://api.github.com/user/orgs', 'user_repositories_url': 'https://api.github.com/users/{user}/repos{?type,page,per_page,sort}', 'user_search_url': 'https://api.github.com/search/users?q={query}{&page,per_page,sort,order}'}\n"
     ]
    }
   ],
   "source": [
    "print(response.json())"
   ]
  },
  {
   "cell_type": "code",
   "execution_count": 21,
   "metadata": {},
   "outputs": [
    {
     "data": {
      "text/plain": [
       "'https://api.github.com/'"
      ]
     },
     "execution_count": 21,
     "metadata": {},
     "output_type": "execute_result"
    }
   ],
   "source": [
    "response.url"
   ]
  },
  {
   "cell_type": "code",
   "execution_count": 22,
   "metadata": {},
   "outputs": [
    {
     "data": {
      "text/plain": [
       "{'Server': 'GitHub.com', 'Date': 'Thu, 01 Dec 2022 09:26:27 GMT', 'Content-Type': 'application/json; charset=utf-8', 'Cache-Control': 'public, max-age=60, s-maxage=60', 'Vary': 'Accept, Accept-Encoding, Accept, X-Requested-With', 'ETag': 'W/\"4f825cc84e1c733059d46e76e6df9db557ae5254f9625dfe8e1b09499c449438\"', 'X-GitHub-Media-Type': 'github.v3; format=json', 'x-github-api-version-selected': '2022-11-28', 'Access-Control-Expose-Headers': 'ETag, Link, Location, Retry-After, X-GitHub-OTP, X-RateLimit-Limit, X-RateLimit-Remaining, X-RateLimit-Used, X-RateLimit-Resource, X-RateLimit-Reset, X-OAuth-Scopes, X-Accepted-OAuth-Scopes, X-Poll-Interval, X-GitHub-Media-Type, X-GitHub-SSO, X-GitHub-Request-Id, Deprecation, Sunset', 'Access-Control-Allow-Origin': '*', 'Strict-Transport-Security': 'max-age=31536000; includeSubdomains; preload', 'X-Frame-Options': 'deny', 'X-Content-Type-Options': 'nosniff', 'X-XSS-Protection': '0', 'Referrer-Policy': 'origin-when-cross-origin, strict-origin-when-cross-origin', 'Content-Security-Policy': \"default-src 'none'\", 'Content-Encoding': 'gzip', 'X-RateLimit-Limit': '60', 'X-RateLimit-Remaining': '59', 'X-RateLimit-Reset': '1669890395', 'X-RateLimit-Resource': 'core', 'X-RateLimit-Used': '1', 'Accept-Ranges': 'bytes', 'Content-Length': '530', 'X-GitHub-Request-Id': 'BEB1:532D:3D84878:3E7A848:6388734B'}"
      ]
     },
     "execution_count": 22,
     "metadata": {},
     "output_type": "execute_result"
    }
   ],
   "source": [
    "response.headers"
   ]
  },
  {
   "cell_type": "markdown",
   "metadata": {},
   "source": [
    "## **How about sending a data to url?**"
   ]
  },
  {
   "cell_type": "markdown",
   "metadata": {},
   "source": [
    "### *we use post() for sending our information or etc to a url*"
   ]
  },
  {
   "cell_type": "code",
   "execution_count": null,
   "metadata": {},
   "outputs": [],
   "source": [
    "import requests\n",
    "\n",
    "my_data = {'key': 'value'}\n",
    "\n",
    "x = requests.post(url, data = my_data)\n",
    "\n",
    "print(x.text)"
   ]
  },
  {
   "cell_type": "code",
   "execution_count": null,
   "metadata": {},
   "outputs": [],
   "source": []
  }
 ],
 "metadata": {
  "kernelspec": {
   "display_name": "Python 3.8.7 64-bit",
   "language": "python",
   "name": "python3"
  },
  "language_info": {
   "codemirror_mode": {
    "name": "ipython",
    "version": 3
   },
   "file_extension": ".py",
   "mimetype": "text/x-python",
   "name": "python",
   "nbconvert_exporter": "python",
   "pygments_lexer": "ipython3",
   "version": "3.8.7"
  },
  "orig_nbformat": 4,
  "vscode": {
   "interpreter": {
    "hash": "d8d9e0bc7b34cf7ab1924aec9d18d3cb0b7fd4ce31c6edca23e1ebbead747e98"
   }
  }
 },
 "nbformat": 4,
 "nbformat_minor": 2
}
